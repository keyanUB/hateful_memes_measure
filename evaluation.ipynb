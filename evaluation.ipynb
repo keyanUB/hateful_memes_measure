{
 "cells": [
  {
   "cell_type": "code",
   "execution_count": 1,
   "metadata": {
    "ExecuteTime": {
     "end_time": "2021-10-07T04:08:20.949789Z",
     "start_time": "2021-10-07T04:08:20.947634Z"
    }
   },
   "outputs": [],
   "source": [
    "import os\n",
    "os.environ['GOOGLE_APPLICATION_CREDENTIALS'] = './credentials/google_application_credentials.json'"
   ]
  },
  {
   "cell_type": "code",
   "execution_count": 2,
   "metadata": {
    "ExecuteTime": {
     "end_time": "2021-10-07T04:08:21.118744Z",
     "start_time": "2021-10-07T04:08:21.110579Z"
    },
    "scrolled": true
   },
   "outputs": [],
   "source": [
    "from credentials import api_keys"
   ]
  },
  {
   "cell_type": "code",
   "execution_count": 3,
   "metadata": {
    "ExecuteTime": {
     "end_time": "2021-10-07T04:08:21.738452Z",
     "start_time": "2021-10-07T04:08:21.308222Z"
    }
   },
   "outputs": [],
   "source": [
    "import io\n",
    "import time\n",
    "import json\n",
    "import requests\n",
    "import numpy as np\n",
    "import pandas as pd\n",
    "from sklearn import metrics\n",
    "from google.cloud import vision\n",
    "from tqdm.notebook import tqdm\n",
    "from tqdm.notebook import trange, tqdm\n",
    "import warnings\n",
    "warnings.filterwarnings('ignore')"
   ]
  },
  {
   "cell_type": "markdown",
   "metadata": {},
   "source": [
    "## Data Preprocessing"
   ]
  },
  {
   "cell_type": "code",
   "execution_count": 4,
   "metadata": {
    "ExecuteTime": {
     "end_time": "2021-10-07T04:08:23.747597Z",
     "start_time": "2021-10-07T04:08:23.717359Z"
    }
   },
   "outputs": [],
   "source": [
    "df1 = pd.read_csv('csv_3000_hate/sample_3000_labeled.csv')\n",
    "df2 = pd.read_csv('csv_2000_no_politics/sample_2000_labeled.csv')"
   ]
  },
  {
   "cell_type": "code",
   "execution_count": 5,
   "metadata": {
    "ExecuteTime": {
     "end_time": "2021-10-07T04:08:24.031937Z",
     "start_time": "2021-10-07T04:08:24.025479Z"
    },
    "scrolled": true
   },
   "outputs": [],
   "source": [
    "df1 = df1[['id', 'sample_path', 'label']]\n",
    "df2 = df2[['id', 'sample_path', 'label']]"
   ]
  },
  {
   "cell_type": "code",
   "execution_count": 6,
   "metadata": {
    "ExecuteTime": {
     "end_time": "2021-10-07T04:08:24.606852Z",
     "start_time": "2021-10-07T04:08:24.599455Z"
    }
   },
   "outputs": [],
   "source": [
    "# combine 50,000 images\n",
    "df = df1.append(df2)\n",
    "# shuffle the images\n",
    "df = df.sample(frac=1).reset_index(drop=True)"
   ]
  },
  {
   "cell_type": "code",
   "execution_count": 7,
   "metadata": {
    "ExecuteTime": {
     "end_time": "2021-10-07T04:08:25.331716Z",
     "start_time": "2021-10-07T04:08:25.327931Z"
    }
   },
   "outputs": [],
   "source": [
    "df['label'] = df['label'].apply(int)"
   ]
  },
  {
   "cell_type": "code",
   "execution_count": 8,
   "metadata": {
    "ExecuteTime": {
     "end_time": "2021-10-07T04:08:25.569517Z",
     "start_time": "2021-10-07T04:08:25.560861Z"
    }
   },
   "outputs": [],
   "source": [
    "# change column path to 'img'\n",
    "df = df.rename(columns={'sample_path': 'img'})"
   ]
  },
  {
   "cell_type": "code",
   "execution_count": 9,
   "metadata": {
    "ExecuteTime": {
     "end_time": "2021-10-07T04:08:26.124275Z",
     "start_time": "2021-10-07T04:08:26.121586Z"
    }
   },
   "outputs": [
    {
     "name": "stdout",
     "output_type": "stream",
     "text": [
      "(5000, 3)\n"
     ]
    }
   ],
   "source": [
    "print(df.shape)"
   ]
  },
  {
   "cell_type": "markdown",
   "metadata": {},
   "source": [
    "## Google Cloud Vision API"
   ]
  },
  {
   "cell_type": "code",
   "execution_count": 11,
   "metadata": {
    "ExecuteTime": {
     "end_time": "2021-10-06T22:18:00.219518Z",
     "start_time": "2021-10-06T22:18:00.216589Z"
    }
   },
   "outputs": [],
   "source": [
    "def google_vision_api_without_spoof(path):\n",
    "    \"\"\"Google Cloud Vision API\"\"\"\n",
    "    client = vision.ImageAnnotatorClient()\n",
    "\n",
    "    with io.open(path, 'rb') as image_file:\n",
    "        content = image_file.read()\n",
    "\n",
    "    image = vision.Image(content=content)\n",
    "\n",
    "    response = client.safe_search_detection(image=image)\n",
    "    # print(response)\n",
    "    safe = response.safe_search_annotation\n",
    "\n",
    "    if response.error.message:\n",
    "        raise Exception(response.error.message)\n",
    "\n",
    "    # list all safe search labels:\n",
    "\n",
    "    # print(safe.adult)\n",
    "    # print(safe.medical)\n",
    "    # print(safe.violence)\n",
    "    # print(safe.racy)\n",
    "    return(int(safe.adult), int(safe.medical), int(safe.violence), int(safe.racy))"
   ]
  },
  {
   "cell_type": "code",
   "execution_count": 12,
   "metadata": {
    "ExecuteTime": {
     "end_time": "2021-10-06T22:18:14.371507Z",
     "start_time": "2021-10-06T22:18:07.597846Z"
    },
    "collapsed": true
   },
   "outputs": [],
   "source": [
    "df_google = df.copy()\n",
    "\n",
    "tqdm.pandas()\n",
    "df_google['label_pred'] = df_google['img'].progress_apply(\n",
    "    google_vision_api_without_spoof)"
   ]
  },
  {
   "cell_type": "code",
   "execution_count": 13,
   "metadata": {
    "collapsed": true
   },
   "outputs": [],
   "source": [
    "df_google['label_pred'] = df_google['label_pred'].astype('str')\n",
    "df_google[['pred_adult', 'pred_medical', 'pred_viol', 'pred_racy']\n",
    "          ] = df_google['label_pred'].str.split(',', expand=True)"
   ]
  },
  {
   "cell_type": "code",
   "execution_count": 14,
   "metadata": {},
   "outputs": [],
   "source": [
    "df_google['pred_adult'] = df_google['pred_adult'].replace(\n",
    "    to_replace='\\(', value=\"\", regex=True)\n",
    "df_google['pred_racy'] = df_google['pred_racy'].replace(\n",
    "    to_replace='\\)', value=\"\", regex=True)\n",
    "df_google['pred_adult'] = df_google['pred_adult'].apply(int)\n",
    "df_google['pred_medical'] = df_google['pred_medical'].apply(int)\n",
    "df_google['pred_viol'] = df_google['pred_viol'].apply(int)\n",
    "df_google['pred_racy'] = df_google['pred_racy'].apply(int)"
   ]
  },
  {
   "cell_type": "code",
   "execution_count": 15,
   "metadata": {
    "collapsed": true
   },
   "outputs": [],
   "source": [
    "df_google = df_google.drop(columns=['label_pred'])\n",
    "# print(df_google)"
   ]
  },
  {
   "cell_type": "code",
   "execution_count": 16,
   "metadata": {
    "ExecuteTime": {
     "end_time": "2021-10-05T03:33:30.059327Z",
     "start_time": "2021-10-05T03:33:15.256634Z"
    },
    "collapsed": true,
    "tags": []
   },
   "outputs": [],
   "source": [
    "# save the result to './results/df_google.csv'\n",
    "df_google.to_csv('./results/df_google.csv')\n",
    "# print(df_google)"
   ]
  },
  {
   "cell_type": "code",
   "execution_count": 10,
   "metadata": {
    "ExecuteTime": {
     "end_time": "2021-10-07T04:08:32.155852Z",
     "start_time": "2021-10-07T04:08:32.146496Z"
    }
   },
   "outputs": [
    {
     "name": "stdout",
     "output_type": "stream",
     "text": [
      "      Unnamed: 0    id                                           img  label  \\\n",
      "0              0  1438  ./annot_2000_no_politics/EQw2J_mX0AAxvoq.jpg      1   \n",
      "1              1   172  ./annot_2000_no_politics/EWAuxVaWkAIv7Nv.jpg      0   \n",
      "2              2  2156         ./annot_3000_hate/EeoBkhCXoAAc5IQ.jpg      0   \n",
      "3              3  2749         ./annot_3000_hate/EgbTs6AWsAAHAj9.jpg      1   \n",
      "4              4   738  ./annot_2000_no_politics/E0KvNiSVIAQ4vZR.jpg      1   \n",
      "...          ...   ...                                           ...    ...   \n",
      "4995        4995   853         ./annot_3000_hate/EfQTejhX0AIt7Hp.jpg      1   \n",
      "4996        4996  1291  ./annot_2000_no_politics/EoOmgneWEAAkSy3.jpg      0   \n",
      "4997        4997  2136         ./annot_3000_hate/Et4HU8vUcAEY7y5.jpg      0   \n",
      "4998        4998   516         ./annot_3000_hate/EUt652pUYAEkpdI.jpg      0   \n",
      "4999        4999  1540  ./annot_2000_no_politics/EeqFVFTXYAA3Bs1.jpg      0   \n",
      "\n",
      "      pred_adult  pred_medical  pred_viol  pred_racy  \n",
      "0              1             1          2          1  \n",
      "1              1             1          1          2  \n",
      "2              2             2          2          2  \n",
      "3              1             1          2          1  \n",
      "4              1             2          2          1  \n",
      "...          ...           ...        ...        ...  \n",
      "4995           1             2          1          1  \n",
      "4996           1             1          1          1  \n",
      "4997           1             1          1          2  \n",
      "4998           1             1          2          1  \n",
      "4999           1             1          2          1  \n",
      "\n",
      "[5000 rows x 8 columns]\n"
     ]
    }
   ],
   "source": [
    "df_test = pd.read_csv('./results/df_google.csv')\n",
    "print(df_test)"
   ]
  },
  {
   "cell_type": "markdown",
   "metadata": {},
   "source": [
    "### Define the safety criteria"
   ]
  },
  {
   "cell_type": "code",
   "execution_count": 11,
   "metadata": {
    "ExecuteTime": {
     "end_time": "2021-10-07T04:08:36.565017Z",
     "start_time": "2021-10-07T04:08:36.555596Z"
    }
   },
   "outputs": [
    {
     "data": {
      "text/plain": [
       "0    4850\n",
       "1     150\n",
       "Name: pre_label, dtype: int64"
      ]
     },
     "execution_count": 11,
     "metadata": {},
     "output_type": "execute_result"
    }
   ],
   "source": [
    "# if safe.adult > 3 or safe.medical > 3 or safe.violence > 3 or safe.racy > 3, we record it as 1 which means unsafe\n",
    "df_test['pre_label'] = df_test[['pred_adult',\n",
    "                                'pred_medical', 'pred_viol', 'pred_racy']].max(axis=1)\n",
    "df_test['pre_label'] = df_test['pre_label'].apply(lambda x: 1 if x > 3 else 0)\n",
    "# check the number of unsafe labels from google\n",
    "df_test['pre_label'].value_counts()"
   ]
  },
  {
   "cell_type": "markdown",
   "metadata": {},
   "source": [
    "### Get the report"
   ]
  },
  {
   "cell_type": "code",
   "execution_count": 12,
   "metadata": {
    "ExecuteTime": {
     "end_time": "2021-10-07T04:08:38.172297Z",
     "start_time": "2021-10-07T04:08:38.163862Z"
    }
   },
   "outputs": [
    {
     "name": "stdout",
     "output_type": "stream",
     "text": [
      "Classification Report for Google Cloud Vision API with Threshold ('possible')\n",
      "              precision    recall  f1-score   support\n",
      "\n",
      "        safe     0.7332    0.9719    0.8358      3659\n",
      "    not-safe     0.3133    0.0350    0.0630      1341\n",
      "\n",
      "    accuracy                         0.7206      5000\n",
      "   macro avg     0.5233    0.5034    0.4494      5000\n",
      "weighted avg     0.6206    0.7206    0.6286      5000\n",
      "\n"
     ]
    }
   ],
   "source": [
    "print('Classification Report for Google Cloud Vision API with Threshold (\\'possible\\')')\n",
    "target_names = ['safe', 'not-safe']\n",
    "metricsr_google = metrics.classification_report(\n",
    "    df_test['label'], df_test['pre_label'], target_names=target_names, digits=4)\n",
    "print(metricsr_google)"
   ]
  },
  {
   "cell_type": "markdown",
   "metadata": {},
   "source": [
    "## Clarifai NSFW API"
   ]
  },
  {
   "cell_type": "code",
   "execution_count": 20,
   "metadata": {
    "ExecuteTime": {
     "end_time": "2021-10-07T01:56:25.409564Z",
     "start_time": "2021-10-07T01:56:25.406286Z"
    }
   },
   "outputs": [],
   "source": [
    "%env GRPC_DEFAULT_SSL_ROOTS_FILE_PATH = /home/keyan/jupter/hateful_memes-main/roots.pem"
   ]
  },
  {
   "cell_type": "code",
   "execution_count": 21,
   "metadata": {
    "ExecuteTime": {
     "end_time": "2021-10-07T01:56:26.145239Z",
     "start_time": "2021-10-07T01:56:26.124840Z"
    }
   },
   "outputs": [],
   "source": [
    "from clarifai_grpc.channel.clarifai_channel import ClarifaiChannel\n",
    "from clarifai_grpc.grpc.api import resources_pb2, service_pb2, service_pb2_grpc\n",
    "from clarifai_grpc.grpc.api.status import status_pb2, status_code_pb2\n",
    "\n",
    "channel = ClarifaiChannel.get_grpc_channel()\n",
    "stub = service_pb2_grpc.V2Stub(channel)\n",
    "metadata = (('authorization', api_keys.CLARIFAI_API_KEY),)"
   ]
  },
  {
   "cell_type": "code",
   "execution_count": 22,
   "metadata": {
    "ExecuteTime": {
     "end_time": "2021-10-07T01:56:27.184038Z",
     "start_time": "2021-10-07T01:56:27.180286Z"
    }
   },
   "outputs": [],
   "source": [
    "def clarifai_api(path):\n",
    "    time.sleep(0.2)\n",
    "    with open(path, \"rb\") as f:\n",
    "        file_bytes = f.read()\n",
    "\n",
    "    request = service_pb2.PostModelOutputsRequest(\n",
    "        # This is the model ID of a publicly available General model.\n",
    "        # You may use any other public or custom model ID.\n",
    "        model_id='e9576d86d2004ed1a38ba0cf39ecb4b1',\n",
    "        inputs=[\n",
    "            resources_pb2.Input(\n",
    "                data=resources_pb2.Data(\n",
    "                    image=resources_pb2.Image(\n",
    "                        base64=file_bytes\n",
    "                    )\n",
    "                )\n",
    "            )\n",
    "        ])\n",
    "    response = stub.PostModelOutputs(request, metadata=metadata)\n",
    "\n",
    "    if response.status.code != status_code_pb2.SUCCESS:\n",
    "        raise Exception(\"Post model outputs failed, status: \" +\n",
    "                        response.status.description)\n",
    "    # for concept in response.outputs[0].data.concepts:\n",
    "    #     print('%12s: %.2f' % (concept.name, concept.value))\n",
    "\n",
    "    # if response.outputs[0].data.concepts[1].value >= 0.4:\n",
    "    #     print('Image: {}, Offensive: {:.2f}'.format(path, response.outputs[0].data.concepts[1].value))\n",
    "    # else:\n",
    "    #     print('Image: {}, not-Offensive: {:.2f}'.format(path, response.outputs[0].data.concepts[1].value))\n",
    "\n",
    "    return response.outputs[0].data.concepts[1].name, response.outputs[0].data.concepts[1].value"
   ]
  },
  {
   "cell_type": "code",
   "execution_count": 23,
   "metadata": {
    "ExecuteTime": {
     "end_time": "2021-10-07T01:56:29.718867Z",
     "start_time": "2021-10-07T01:56:29.717463Z"
    }
   },
   "outputs": [],
   "source": [
    "df_clarifai = df.copy()\n",
    "header = [\"id\", \"img\", \"label\"]\n",
    "df_clarifai.to_csv('./df_clarifai.csv', columns=header)\n",
    "# print(df_clarifai)"
   ]
  },
  {
   "cell_type": "code",
   "execution_count": 25,
   "metadata": {
    "ExecuteTime": {
     "end_time": "2021-10-07T01:56:31.151063Z",
     "start_time": "2021-10-07T01:56:31.144019Z"
    }
   },
   "outputs": [],
   "source": [
    "df_c = pd.read_csv('./df_clarifai.csv')\n",
    "df_c = df_c.loc[:, ~df_c.columns.str.contains('^Unnamed')]\n",
    "# print(df_c)"
   ]
  },
  {
   "cell_type": "code",
   "execution_count": 26,
   "metadata": {
    "ExecuteTime": {
     "end_time": "2021-10-07T01:56:31.887102Z",
     "start_time": "2021-10-07T01:56:31.883966Z"
    }
   },
   "outputs": [],
   "source": [
    "df_c1 = df_c[:500]\n",
    "df_c2 = df_c[500:1000]\n",
    "df_c3 = df_c[1000:1500]\n",
    "df_c4 = df_c[1500:2000]\n",
    "df_c5 = df_c[2000:2500]\n",
    "df_c6 = df_c[2500:3000]\n",
    "df_c7 = df_c[3000:3500]\n",
    "df_c8 = df_c[3500:4000]\n",
    "df_c9 = df_c[4000:4500]\n",
    "df_c10 = df_c[4500:5000]\n",
    "\n",
    "# df_c10"
   ]
  },
  {
   "cell_type": "code",
   "execution_count": 27,
   "metadata": {
    "ExecuteTime": {
     "end_time": "2021-10-07T02:00:56.574720Z",
     "start_time": "2021-10-07T01:56:40.166352Z"
    }
   },
   "outputs": [],
   "source": [
    "tqdm.pandas()\n",
    "df_c1['pred_cf'] = df_c1['img'].progress_apply(clarifai_api)\n",
    "df_c1.to_csv('./results/df_clarifai.csv')\n",
    "df_c2['pred_cf'] = df_c2['img'].progress_apply(clarifai_api)\n",
    "df_c2.to_csv('./results/df_clarifai.csv', mode='a', header=False)\n",
    "df_c3['pred_cf'] = df_c3['img'].progress_apply(clarifai_api)\n",
    "df_c3.to_csv('./results/df_clarifai.csv', mode='a', header=False)\n",
    "df_c4['pred_cf'] = df_c4['img'].progress_apply(clarifai_api)\n",
    "df_c4.to_csv('./results/df_clarifai.csv', mode='a', header=False)\n",
    "df_c5['pred_cf'] = df_c5['img'].progress_apply(clarifai_api)\n",
    "df_c5.to_csv('./results/df_clarifai.csv', mode='a', header=False)\n",
    "df_c6['pred_cf'] = df_c6['img'].progress_apply(clarifai_api)\n",
    "df_c6.to_csv('./results/df_clarifai.csv', mode='a', header=False)\n",
    "df_c7['pred_cf'] = df_c7['img'].progress_apply(clarifai_api)\n",
    "df_c7.to_csv('./results/df_clarifai.csv', mode='a', header=False)\n",
    "df_c8['pred_cf'] = df_c8['img'].progress_apply(clarifai_api)\n",
    "df_c8.to_csv('./results/df_clarifai.csv', mode='a', header=False)\n",
    "df_c9['pred_cf'] = df_c9['img'].progress_apply(clarifai_api)\n",
    "df_c9.to_csv('./results/df_clarifai.csv', mode='a', header=False)\n",
    "\n",
    "df_c10['pred_cf'] = df_c10['img'].progress_apply(clarifai_api)\n",
    "df_c10.to_csv('./results/df_clarifai.csv', mode='a', header=False)"
   ]
  },
  {
   "cell_type": "code",
   "execution_count": 15,
   "metadata": {
    "ExecuteTime": {
     "end_time": "2021-10-07T04:10:08.942366Z",
     "start_time": "2021-10-07T04:10:08.934273Z"
    }
   },
   "outputs": [],
   "source": [
    "df_clarifai = pd.read_csv('./results/df_clarifai.csv')\n",
    "df_clarifai = df_clarifai.loc[:, ~df_clarifai.columns.str.contains('^Unnamed')]"
   ]
  },
  {
   "cell_type": "code",
   "execution_count": 16,
   "metadata": {
    "ExecuteTime": {
     "end_time": "2021-10-07T04:10:10.009545Z",
     "start_time": "2021-10-07T04:10:09.979628Z"
    }
   },
   "outputs": [],
   "source": [
    "df_clarifai[['nsfw', 'pred_cf']\n",
    "            ] = df_clarifai['pred_cf'].str.split(',', expand=True)"
   ]
  },
  {
   "cell_type": "code",
   "execution_count": 17,
   "metadata": {
    "ExecuteTime": {
     "end_time": "2021-10-07T04:10:10.803163Z",
     "start_time": "2021-10-07T04:10:10.787591Z"
    }
   },
   "outputs": [],
   "source": [
    "df_clarifai = df_clarifai.drop(columns='nsfw')\n",
    "df_clarifai['pred_cf'] = df_clarifai['pred_cf'].replace(\n",
    "    to_replace='\\)', value=\"\", regex=True)"
   ]
  },
  {
   "cell_type": "code",
   "execution_count": 18,
   "metadata": {},
   "outputs": [
    {
     "data": {
      "text/plain": [
       "504    0.00010\n",
       "2839   0.00010\n",
       "4348   0.00010\n",
       "3134   0.00010\n",
       "2339   0.00000\n",
       "         ...  \n",
       "1071   0.00010\n",
       "3871   0.00010\n",
       "1183   0.00010\n",
       "454    0.00010\n",
       "4221   0.00010\n",
       "Name: pred_cf, Length: 5000, dtype: float64"
      ]
     },
     "execution_count": 18,
     "metadata": {},
     "output_type": "execute_result"
    }
   ],
   "source": [
    "# transfor the scientific notation to 5 significant figure\n",
    "df_clarifai = df_clarifai.sort_values('pred_cf', ascending=False)\n",
    "df_clarifai['pred_cf'] = df_clarifai['pred_cf'].apply(float)\n",
    "pd.set_option('display.float_format', lambda x: '%0.5f' % x)\n",
    "df_clarifai['pred_cf']"
   ]
  },
  {
   "cell_type": "markdown",
   "metadata": {},
   "source": [
    "### Define the criteria and plot the report"
   ]
  },
  {
   "cell_type": "code",
   "execution_count": 19,
   "metadata": {},
   "outputs": [
    {
     "name": "stdout",
     "output_type": "stream",
     "text": [
      "Classification Report for Clarifai NSFW API with Treshhold (0.5):\n",
      "              precision    recall  f1-score   support\n",
      "\n",
      "        safe     0.7318    1.0000    0.8451      3659\n",
      "    not-safe     0.0000    0.0000    0.0000      1341\n",
      "\n",
      "    accuracy                         0.7318      5000\n",
      "   macro avg     0.3659    0.5000    0.4226      5000\n",
      "weighted avg     0.5355    0.7318    0.6185      5000\n",
      "\n"
     ]
    }
   ],
   "source": [
    "# If we set the threashold as 0.5\n",
    "df_clarifai['pred_clar'] = df_clarifai['pred_cf'].apply(\n",
    "    lambda x: 1 if x >= 0.5 else 0)\n",
    "print('Classification Report for Clarifai NSFW API with Treshhold (0.5):')\n",
    "target_names = ['safe', 'not-safe']\n",
    "metrics_clarifai_05 = metrics.classification_report(\n",
    "    df_clarifai['label'], df_clarifai['pred_clar'], target_names=target_names, digits=4)\n",
    "print(metrics_clarifai_05)"
   ]
  },
  {
   "cell_type": "markdown",
   "metadata": {},
   "source": [
    "## DeepAI API"
   ]
  },
  {
   "cell_type": "code",
   "execution_count": 11,
   "metadata": {},
   "outputs": [],
   "source": [
    "def deep_ai_api(path):\n",
    "    # result = dict();\n",
    "    deep_ai_request = requests.post(\n",
    "        'https://api.deepai.org/api/content-moderation',\n",
    "        files={\n",
    "            'image': open(path, 'rb'),\n",
    "        },\n",
    "        headers={'api-key': api_keys.DEEPAI_API_KEY}\n",
    "    )\n",
    "    # print(deep_ai_request.json())\n",
    "    result = deep_ai_request.json()\n",
    "    # result['score'] = deep_ai_request.json()['output']['nsfw_score']\n",
    "     # nsfw_score = deep_ai_request.json()['output']['nsfw_score']\n",
    "#    print('Image: {}, nsfw_score: {:.2f}'.format(path, nsfw_score))\n",
    "    return result"
   ]
  },
  {
   "cell_type": "code",
   "execution_count": 11,
   "metadata": {},
   "outputs": [
    {
     "data": {
      "application/vnd.jupyter.widget-view+json": {
       "model_id": "ff94c92ffd9c41bf8d80b9d9e81fd497",
       "version_major": 2,
       "version_minor": 0
      },
      "text/plain": [
       "  0%|          | 0/5000 [00:00<?, ?it/s]"
      ]
     },
     "metadata": {},
     "output_type": "display_data"
    }
   ],
   "source": [
    "df_deepai = df.copy()\n",
    "\n",
    "tqdm.pandas()\n",
    "df_deepai['pred_da'] = df_deepai['img'].progress_apply(deep_ai_api)"
   ]
  },
  {
   "cell_type": "code",
   "execution_count": 20,
   "metadata": {},
   "outputs": [
    {
     "name": "stdout",
     "output_type": "stream",
     "text": [
      "      Unnamed: 0    id                                           img  label  \\\n",
      "0              0  2624         ./annot_3000_hate/EzWHfA6UYAMCfyA.jpg      0   \n",
      "1              1  1337  ./annot_2000_no_politics/EzvpWClUYAE2RMy.jpg      0   \n",
      "2              2   636  ./annot_2000_no_politics/EehKIFgXoAAQHVp.jpg      0   \n",
      "3              3  1946         ./annot_3000_hate/Eogl0jOXEAEnplo.jpg      0   \n",
      "4              4  1927  ./annot_2000_no_politics/EUhWmuCWsAIQJtu.jpg      0   \n",
      "...          ...   ...                                           ...    ...   \n",
      "4995        4995    43  ./annot_2000_no_politics/Eu-AAMBXYAEwZZD.jpg      1   \n",
      "4996        4996   352  ./annot_2000_no_politics/EoISy4_UYAAr71T.jpg      1   \n",
      "4997        4997   693  ./annot_2000_no_politics/EplvPLoWwAETmx3.jpg      0   \n",
      "4998        4998  2671         ./annot_3000_hate/Ez9lyOwXIAIdb93.jpg      1   \n",
      "4999        4999    99  ./annot_2000_no_politics/EekktLaU0AERnCx.jpg      0   \n",
      "\n",
      "                                                pred_da  \n",
      "0     {'id': '13dd9aea-c01e-4a53-b438-6bdb88d4bec6',...  \n",
      "1     {'id': 'a52b9caa-1f73-40b7-acc1-608882ae9f56',...  \n",
      "2     {'id': '49d335dc-6156-4689-8565-904064adc83b',...  \n",
      "3     {'id': '4c00ce49-e4f2-45f1-a0ea-05192e5223f1',...  \n",
      "4     {'id': '4a219f87-24e4-47f9-bd2b-2a0f1443d0dc',...  \n",
      "...                                                 ...  \n",
      "4995  {'id': 'ae0f464a-2300-4adc-b20f-db66c17a2efc',...  \n",
      "4996  {'id': '8eac58d2-27c3-42c2-a95e-50c421073a2e',...  \n",
      "4997  {'id': '2daa4077-89e7-4365-9374-cf362570277c',...  \n",
      "4998  {'id': '0c8ba884-f7f7-428e-8ab8-f5b7bcc2fd1e',...  \n",
      "4999  {'id': '49cb996c-fce7-44cf-9396-46d07ac7e6d5',...  \n",
      "\n",
      "[5000 rows x 5 columns]\n"
     ]
    }
   ],
   "source": [
    "# df_deepai.to_csv('./results/df_deepai.csv')\n",
    "df_deepai = pd.read_csv('./results/df_deepai.csv')\n",
    "print(df_deepai)"
   ]
  },
  {
   "cell_type": "code",
   "execution_count": 21,
   "metadata": {},
   "outputs": [
    {
     "data": {
      "text/plain": [
       "\"{'id': '13dd9aea-c01e-4a53-b438-6bdb88d4bec6', 'output': {'detections': [], 'nsfw_score': 0.00015561465988866985}}\""
      ]
     },
     "execution_count": 21,
     "metadata": {},
     "output_type": "execute_result"
    }
   ],
   "source": [
    "df_deepai.iloc[0,4]"
   ]
  },
  {
   "cell_type": "code",
   "execution_count": 22,
   "metadata": {},
   "outputs": [],
   "source": [
    "def str_json(str_json):\n",
    "    str_json = str_json.replace(\"\\'\", \"\\\"\")\n",
    "    pred_json = json.loads(str_json)\n",
    "    score = pred_json['output']['nsfw_score']\n",
    "\n",
    "    return score   "
   ]
  },
  {
   "cell_type": "code",
   "execution_count": 23,
   "metadata": {},
   "outputs": [],
   "source": [
    "# s = '{\"id\": \"13dd9aea-c01e-4a53-b438-6bdb88d4bec6\", \"output\": {\"detections\": [], \"nsfw_score\": 0.00015561465988866985}}'\n",
    "# str_json(s)\n",
    "\n",
    "df_deepai['pred_value'] = df_deepai['pred_da'].apply(str_json)\n"
   ]
  },
  {
   "cell_type": "markdown",
   "metadata": {},
   "source": [
    "### Define the safety criteria and plot the report"
   ]
  },
  {
   "cell_type": "code",
   "execution_count": 24,
   "metadata": {
    "ExecuteTime": {
     "end_time": "2021-10-07T04:11:05.418389Z",
     "start_time": "2021-10-07T04:11:05.405558Z"
    }
   },
   "outputs": [
    {
     "name": "stdout",
     "output_type": "stream",
     "text": [
      "Classification Report for DeepAI API with Treshold (0.5):\n",
      "              precision    recall  f1-score   support\n",
      "\n",
      "        safe     0.7319    0.9932    0.8428      3659\n",
      "    not-safe     0.2857    0.0075    0.0145      1341\n",
      "\n",
      "    accuracy                         0.7288      5000\n",
      "   macro avg     0.5088    0.5003    0.4286      5000\n",
      "weighted avg     0.6123    0.7288    0.6206      5000\n",
      "\n"
     ]
    }
   ],
   "source": [
    "print('Classification Report for DeepAI API with Treshold (0.5):')\n",
    "df_deepai['pred_value'] = df_deepai['pred_value'].apply(\n",
    "    lambda x: 1 if x >= 0.5 else 0)\n",
    "target_names = ['safe', 'not-safe']\n",
    "metrics_deepai_05 = metrics.classification_report(\n",
    "    df_deepai['label'], df_deepai['pred_value'], target_names=target_names, digits=4)\n",
    "print(metrics_deepai_05)"
   ]
  },
  {
   "cell_type": "markdown",
   "metadata": {},
   "source": [
    "## Amazon Rekognition"
   ]
  },
  {
   "cell_type": "code",
   "execution_count": 40,
   "metadata": {},
   "outputs": [],
   "source": [
    "import boto3"
   ]
  },
  {
   "cell_type": "code",
   "execution_count": 41,
   "metadata": {},
   "outputs": [],
   "source": [
    "def amz_reko_api_content(path):\n",
    "    with open(path, \"rb\") as f:\n",
    "        file_bytes = f.read()\n",
    "\n",
    "    client = boto3.client('rekognition')\n",
    "\n",
    "    response = client.detect_moderation_labels(Image={'Bytes': file_bytes})\n",
    "\n",
    "    if len(response['ModerationLabels']) == 0:\n",
    "        #print('Image: {}, SAFE'.format(path))\n",
    "        return 0\n",
    "\n",
    "    for item in response['ModerationLabels']:\n",
    "        # Once amz_rek recognizes any hate symbol we return the value as 1\n",
    "        if item['Name'] == 'Hate Symbols':\n",
    "            #print('Image: {}, Hateful'.format(path))\n",
    "            return 1\n",
    "\n",
    "    return 0"
   ]
  },
  {
   "cell_type": "code",
   "execution_count": 42,
   "metadata": {
    "scrolled": true
   },
   "outputs": [],
   "source": [
    "df_amz_hateful = df.copy()\n",
    "\n",
    "tqdm.pandas()\n",
    "df_amz_hateful['pred_amz_value'] = df_amz_hateful['img'].progress_apply(\n",
    "    amz_reko_api_content)\n",
    "df_amz_hateful.to_csv('./results/df_amz_hateful.csv')\n",
    "# print(df_amz_hateful)"
   ]
  },
  {
   "cell_type": "code",
   "execution_count": 25,
   "metadata": {},
   "outputs": [
    {
     "data": {
      "text/html": [
       "<div>\n",
       "<style scoped>\n",
       "    .dataframe tbody tr th:only-of-type {\n",
       "        vertical-align: middle;\n",
       "    }\n",
       "\n",
       "    .dataframe tbody tr th {\n",
       "        vertical-align: top;\n",
       "    }\n",
       "\n",
       "    .dataframe thead th {\n",
       "        text-align: right;\n",
       "    }\n",
       "</style>\n",
       "<table border=\"1\" class=\"dataframe\">\n",
       "  <thead>\n",
       "    <tr style=\"text-align: right;\">\n",
       "      <th></th>\n",
       "      <th>Unnamed: 0</th>\n",
       "      <th>id</th>\n",
       "      <th>img</th>\n",
       "      <th>label</th>\n",
       "      <th>pred_amz_value</th>\n",
       "    </tr>\n",
       "  </thead>\n",
       "  <tbody>\n",
       "    <tr>\n",
       "      <th>2823</th>\n",
       "      <td>2823</td>\n",
       "      <td>155</td>\n",
       "      <td>./annot_2000_no_politics/EfAGhDPUMAE6jQW.jpg</td>\n",
       "      <td>1</td>\n",
       "      <td>1</td>\n",
       "    </tr>\n",
       "    <tr>\n",
       "      <th>4110</th>\n",
       "      <td>4110</td>\n",
       "      <td>179</td>\n",
       "      <td>./annot_2000_no_politics/EfuBFdTUEAAUYYM.jpg</td>\n",
       "      <td>1</td>\n",
       "      <td>1</td>\n",
       "    </tr>\n",
       "    <tr>\n",
       "      <th>726</th>\n",
       "      <td>726</td>\n",
       "      <td>104</td>\n",
       "      <td>./annot_2000_no_politics/EU6Red0UwAINz7Q.png</td>\n",
       "      <td>0</td>\n",
       "      <td>1</td>\n",
       "    </tr>\n",
       "    <tr>\n",
       "      <th>2432</th>\n",
       "      <td>2432</td>\n",
       "      <td>2292</td>\n",
       "      <td>./annot_3000_hate/EfuybhzU4AAogni.jpg</td>\n",
       "      <td>0</td>\n",
       "      <td>1</td>\n",
       "    </tr>\n",
       "    <tr>\n",
       "      <th>3492</th>\n",
       "      <td>3492</td>\n",
       "      <td>1716</td>\n",
       "      <td>./annot_2000_no_politics/EV7AjuPU4AIsVMa.jpg</td>\n",
       "      <td>0</td>\n",
       "      <td>1</td>\n",
       "    </tr>\n",
       "    <tr>\n",
       "      <th>...</th>\n",
       "      <td>...</td>\n",
       "      <td>...</td>\n",
       "      <td>...</td>\n",
       "      <td>...</td>\n",
       "      <td>...</td>\n",
       "    </tr>\n",
       "    <tr>\n",
       "      <th>1667</th>\n",
       "      <td>1667</td>\n",
       "      <td>2894</td>\n",
       "      <td>./annot_3000_hate/Ez4fAOKXMAAu45A.jpg</td>\n",
       "      <td>0</td>\n",
       "      <td>0</td>\n",
       "    </tr>\n",
       "    <tr>\n",
       "      <th>1666</th>\n",
       "      <td>1666</td>\n",
       "      <td>505</td>\n",
       "      <td>./annot_2000_no_politics/EP49fQ6XsAIX6N_.jpg</td>\n",
       "      <td>0</td>\n",
       "      <td>0</td>\n",
       "    </tr>\n",
       "    <tr>\n",
       "      <th>1665</th>\n",
       "      <td>1665</td>\n",
       "      <td>1238</td>\n",
       "      <td>./annot_2000_no_politics/EoWelRoVgAE6n2K.jpg</td>\n",
       "      <td>0</td>\n",
       "      <td>0</td>\n",
       "    </tr>\n",
       "    <tr>\n",
       "      <th>1664</th>\n",
       "      <td>1664</td>\n",
       "      <td>1146</td>\n",
       "      <td>./annot_3000_hate/Eyx_tjEUcAUiu0C.jpg</td>\n",
       "      <td>1</td>\n",
       "      <td>0</td>\n",
       "    </tr>\n",
       "    <tr>\n",
       "      <th>4999</th>\n",
       "      <td>4999</td>\n",
       "      <td>1451</td>\n",
       "      <td>./annot_3000_hate/EgJk2qqXkAAg8YP.jpg</td>\n",
       "      <td>0</td>\n",
       "      <td>0</td>\n",
       "    </tr>\n",
       "  </tbody>\n",
       "</table>\n",
       "<p>5000 rows × 5 columns</p>\n",
       "</div>"
      ],
      "text/plain": [
       "      Unnamed: 0    id                                           img  label  \\\n",
       "2823        2823   155  ./annot_2000_no_politics/EfAGhDPUMAE6jQW.jpg      1   \n",
       "4110        4110   179  ./annot_2000_no_politics/EfuBFdTUEAAUYYM.jpg      1   \n",
       "726          726   104  ./annot_2000_no_politics/EU6Red0UwAINz7Q.png      0   \n",
       "2432        2432  2292         ./annot_3000_hate/EfuybhzU4AAogni.jpg      0   \n",
       "3492        3492  1716  ./annot_2000_no_politics/EV7AjuPU4AIsVMa.jpg      0   \n",
       "...          ...   ...                                           ...    ...   \n",
       "1667        1667  2894         ./annot_3000_hate/Ez4fAOKXMAAu45A.jpg      0   \n",
       "1666        1666   505  ./annot_2000_no_politics/EP49fQ6XsAIX6N_.jpg      0   \n",
       "1665        1665  1238  ./annot_2000_no_politics/EoWelRoVgAE6n2K.jpg      0   \n",
       "1664        1664  1146         ./annot_3000_hate/Eyx_tjEUcAUiu0C.jpg      1   \n",
       "4999        4999  1451         ./annot_3000_hate/EgJk2qqXkAAg8YP.jpg      0   \n",
       "\n",
       "      pred_amz_value  \n",
       "2823               1  \n",
       "4110               1  \n",
       "726                1  \n",
       "2432               1  \n",
       "3492               1  \n",
       "...              ...  \n",
       "1667               0  \n",
       "1666               0  \n",
       "1665               0  \n",
       "1664               0  \n",
       "4999               0  \n",
       "\n",
       "[5000 rows x 5 columns]"
      ]
     },
     "execution_count": 25,
     "metadata": {},
     "output_type": "execute_result"
    }
   ],
   "source": [
    "df_amz_hateful = pd.read_csv('./results/df_amz_hateful.csv')\n",
    "df_amz_hateful.sort_values('pred_amz_value',ascending=False)"
   ]
  },
  {
   "cell_type": "code",
   "execution_count": 26,
   "metadata": {
    "ExecuteTime": {
     "end_time": "2021-10-07T04:13:08.154540Z",
     "start_time": "2021-10-07T04:13:08.140251Z"
    },
    "scrolled": true
   },
   "outputs": [
    {
     "name": "stdout",
     "output_type": "stream",
     "text": [
      "Classification Report for Amazon Rekognition on Hate Content:\n",
      "              precision    recall  f1-score   support\n",
      "\n",
      "        safe     0.7331    0.9932    0.8435      3659\n",
      "   not-safe      0.4186    0.0134    0.0260      1341\n",
      "\n",
      "    accuracy                         0.7304      5000\n",
      "   macro avg     0.5759    0.5033    0.4348      5000\n",
      "weighted avg     0.6488    0.7304    0.6243      5000\n",
      "\n"
     ]
    }
   ],
   "source": [
    "print('Classification Report for Amazon Rekognition on Hate Content:')\n",
    "target_names = ['safe', 'not-safe ']\n",
    "metrics_amazon = metrics.classification_report(\n",
    "    df_amz_hateful['label'], df_amz_hateful['pred_amz_value'], target_names=target_names, digits=4)\n",
    "print(metrics_amazon)"
   ]
  },
  {
   "cell_type": "markdown",
   "metadata": {},
   "source": [
    "## Data Combination"
   ]
  },
  {
   "cell_type": "code",
   "execution_count": 27,
   "metadata": {
    "ExecuteTime": {
     "end_time": "2021-10-07T04:14:27.223111Z",
     "start_time": "2021-10-07T04:14:27.218115Z"
    }
   },
   "outputs": [],
   "source": [
    "df['pred_gv'] = df_test['pre_label']\n",
    "# df['pred_yh'] = df_yahoo['pred_yh']\n",
    "df['pred_cl'] = df_clarifai['pred_clar']\n",
    "df['pred_da'] = df_deepai['pred_value']\n",
    "df['pred_amz_value'] = df_amz_hateful['pred_amz_value']"
   ]
  },
  {
   "cell_type": "code",
   "execution_count": 28,
   "metadata": {
    "ExecuteTime": {
     "end_time": "2021-10-07T04:14:27.694157Z",
     "start_time": "2021-10-07T04:14:27.688042Z"
    }
   },
   "outputs": [],
   "source": [
    "df['pred_total'] = df['pred_gv'] + \\\n",
    "    df['pred_cl'] + df['pred_da'] + df['pred_amz_value']"
   ]
  },
  {
   "cell_type": "code",
   "execution_count": 29,
   "metadata": {
    "ExecuteTime": {
     "end_time": "2021-10-07T04:14:30.486717Z",
     "start_time": "2021-10-07T04:14:30.474660Z"
    }
   },
   "outputs": [],
   "source": [
    "final_df = df.sort_values(by=['id'], ascending=True)\n",
    "final_df.to_csv('./results/comparison.csv', index=False)"
   ]
  },
  {
   "cell_type": "markdown",
   "metadata": {},
   "source": [
    "## Show the pass rate "
   ]
  },
  {
   "cell_type": "code",
   "execution_count": 31,
   "metadata": {},
   "outputs": [
    {
     "data": {
      "text/html": [
       "<div>\n",
       "<style scoped>\n",
       "    .dataframe tbody tr th:only-of-type {\n",
       "        vertical-align: middle;\n",
       "    }\n",
       "\n",
       "    .dataframe tbody tr th {\n",
       "        vertical-align: top;\n",
       "    }\n",
       "\n",
       "    .dataframe thead th {\n",
       "        text-align: right;\n",
       "    }\n",
       "</style>\n",
       "<table border=\"1\" class=\"dataframe\">\n",
       "  <thead>\n",
       "    <tr style=\"text-align: right;\">\n",
       "      <th></th>\n",
       "      <th>id</th>\n",
       "      <th>img</th>\n",
       "      <th>label</th>\n",
       "      <th>pred_gv</th>\n",
       "      <th>pred_cl</th>\n",
       "      <th>pred_da</th>\n",
       "      <th>pred_amz_value</th>\n",
       "      <th>pred_total</th>\n",
       "    </tr>\n",
       "  </thead>\n",
       "  <tbody>\n",
       "    <tr>\n",
       "      <th>3668</th>\n",
       "      <td>0</td>\n",
       "      <td>./annot_3000_hate/EfzVXLnX0AIp4ZB.jpg</td>\n",
       "      <td>1</td>\n",
       "      <td>0</td>\n",
       "      <td>0</td>\n",
       "      <td>0</td>\n",
       "      <td>0</td>\n",
       "      <td>0</td>\n",
       "    </tr>\n",
       "    <tr>\n",
       "      <th>1956</th>\n",
       "      <td>0</td>\n",
       "      <td>./annot_2000_no_politics/EfSackBUYAAiGXv.jpg</td>\n",
       "      <td>0</td>\n",
       "      <td>0</td>\n",
       "      <td>0</td>\n",
       "      <td>0</td>\n",
       "      <td>0</td>\n",
       "      <td>0</td>\n",
       "    </tr>\n",
       "    <tr>\n",
       "      <th>1255</th>\n",
       "      <td>1</td>\n",
       "      <td>./annot_2000_no_politics/EV6x0GLU4AA2Km2.jpg</td>\n",
       "      <td>0</td>\n",
       "      <td>0</td>\n",
       "      <td>0</td>\n",
       "      <td>0</td>\n",
       "      <td>0</td>\n",
       "      <td>0</td>\n",
       "    </tr>\n",
       "    <tr>\n",
       "      <th>2371</th>\n",
       "      <td>1</td>\n",
       "      <td>./annot_3000_hate/EyJTcl3WEAIGS0A.jpg</td>\n",
       "      <td>0</td>\n",
       "      <td>0</td>\n",
       "      <td>0</td>\n",
       "      <td>0</td>\n",
       "      <td>0</td>\n",
       "      <td>0</td>\n",
       "    </tr>\n",
       "    <tr>\n",
       "      <th>24</th>\n",
       "      <td>2</td>\n",
       "      <td>./annot_2000_no_politics/EfBar8xVAAAafL6.jpg</td>\n",
       "      <td>0</td>\n",
       "      <td>0</td>\n",
       "      <td>0</td>\n",
       "      <td>0</td>\n",
       "      <td>0</td>\n",
       "      <td>0</td>\n",
       "    </tr>\n",
       "    <tr>\n",
       "      <th>...</th>\n",
       "      <td>...</td>\n",
       "      <td>...</td>\n",
       "      <td>...</td>\n",
       "      <td>...</td>\n",
       "      <td>...</td>\n",
       "      <td>...</td>\n",
       "      <td>...</td>\n",
       "      <td>...</td>\n",
       "    </tr>\n",
       "    <tr>\n",
       "      <th>2550</th>\n",
       "      <td>2995</td>\n",
       "      <td>./annot_3000_hate/EgT-h2FU4AAJZwR.jpg</td>\n",
       "      <td>0</td>\n",
       "      <td>0</td>\n",
       "      <td>0</td>\n",
       "      <td>0</td>\n",
       "      <td>0</td>\n",
       "      <td>0</td>\n",
       "    </tr>\n",
       "    <tr>\n",
       "      <th>2538</th>\n",
       "      <td>2996</td>\n",
       "      <td>./annot_3000_hate/Eyd7FWXXIAM3iF3.jpg</td>\n",
       "      <td>0</td>\n",
       "      <td>0</td>\n",
       "      <td>0</td>\n",
       "      <td>0</td>\n",
       "      <td>0</td>\n",
       "      <td>0</td>\n",
       "    </tr>\n",
       "    <tr>\n",
       "      <th>4151</th>\n",
       "      <td>2997</td>\n",
       "      <td>./annot_3000_hate/EgTiMZ7UYAMBLAT.png</td>\n",
       "      <td>0</td>\n",
       "      <td>0</td>\n",
       "      <td>0</td>\n",
       "      <td>0</td>\n",
       "      <td>0</td>\n",
       "      <td>0</td>\n",
       "    </tr>\n",
       "    <tr>\n",
       "      <th>2282</th>\n",
       "      <td>2998</td>\n",
       "      <td>./annot_3000_hate/EWe3qpjUMAAnV2P.jpg</td>\n",
       "      <td>0</td>\n",
       "      <td>0</td>\n",
       "      <td>0</td>\n",
       "      <td>0</td>\n",
       "      <td>0</td>\n",
       "      <td>0</td>\n",
       "    </tr>\n",
       "    <tr>\n",
       "      <th>3854</th>\n",
       "      <td>2999</td>\n",
       "      <td>./annot_3000_hate/EvQwXx1U4AARern.jpg</td>\n",
       "      <td>0</td>\n",
       "      <td>0</td>\n",
       "      <td>0</td>\n",
       "      <td>0</td>\n",
       "      <td>0</td>\n",
       "      <td>0</td>\n",
       "    </tr>\n",
       "  </tbody>\n",
       "</table>\n",
       "<p>5000 rows × 8 columns</p>\n",
       "</div>"
      ],
      "text/plain": [
       "        id                                           img  label  pred_gv  \\\n",
       "3668     0         ./annot_3000_hate/EfzVXLnX0AIp4ZB.jpg      1        0   \n",
       "1956     0  ./annot_2000_no_politics/EfSackBUYAAiGXv.jpg      0        0   \n",
       "1255     1  ./annot_2000_no_politics/EV6x0GLU4AA2Km2.jpg      0        0   \n",
       "2371     1         ./annot_3000_hate/EyJTcl3WEAIGS0A.jpg      0        0   \n",
       "24       2  ./annot_2000_no_politics/EfBar8xVAAAafL6.jpg      0        0   \n",
       "...    ...                                           ...    ...      ...   \n",
       "2550  2995         ./annot_3000_hate/EgT-h2FU4AAJZwR.jpg      0        0   \n",
       "2538  2996         ./annot_3000_hate/Eyd7FWXXIAM3iF3.jpg      0        0   \n",
       "4151  2997         ./annot_3000_hate/EgTiMZ7UYAMBLAT.png      0        0   \n",
       "2282  2998         ./annot_3000_hate/EWe3qpjUMAAnV2P.jpg      0        0   \n",
       "3854  2999         ./annot_3000_hate/EvQwXx1U4AARern.jpg      0        0   \n",
       "\n",
       "      pred_cl  pred_da  pred_amz_value  pred_total  \n",
       "3668        0        0               0           0  \n",
       "1956        0        0               0           0  \n",
       "1255        0        0               0           0  \n",
       "2371        0        0               0           0  \n",
       "24          0        0               0           0  \n",
       "...       ...      ...             ...         ...  \n",
       "2550        0        0               0           0  \n",
       "2538        0        0               0           0  \n",
       "4151        0        0               0           0  \n",
       "2282        0        0               0           0  \n",
       "3854        0        0               0           0  \n",
       "\n",
       "[5000 rows x 8 columns]"
      ]
     },
     "execution_count": 31,
     "metadata": {},
     "output_type": "execute_result"
    }
   ],
   "source": [
    "final_df"
   ]
  },
  {
   "cell_type": "code",
   "execution_count": 37,
   "metadata": {},
   "outputs": [
    {
     "data": {
      "text/html": [
       "<div>\n",
       "<style scoped>\n",
       "    .dataframe tbody tr th:only-of-type {\n",
       "        vertical-align: middle;\n",
       "    }\n",
       "\n",
       "    .dataframe tbody tr th {\n",
       "        vertical-align: top;\n",
       "    }\n",
       "\n",
       "    .dataframe thead th {\n",
       "        text-align: right;\n",
       "    }\n",
       "</style>\n",
       "<table border=\"1\" class=\"dataframe\">\n",
       "  <thead>\n",
       "    <tr style=\"text-align: right;\">\n",
       "      <th></th>\n",
       "      <th>id</th>\n",
       "      <th>img</th>\n",
       "      <th>label</th>\n",
       "      <th>pred_gv</th>\n",
       "      <th>pred_cl</th>\n",
       "      <th>pred_da</th>\n",
       "      <th>pred_amz_value</th>\n",
       "      <th>pred_total</th>\n",
       "    </tr>\n",
       "  </thead>\n",
       "  <tbody>\n",
       "    <tr>\n",
       "      <th>3668</th>\n",
       "      <td>0</td>\n",
       "      <td>./annot_3000_hate/EfzVXLnX0AIp4ZB.jpg</td>\n",
       "      <td>1</td>\n",
       "      <td>0</td>\n",
       "      <td>0</td>\n",
       "      <td>0</td>\n",
       "      <td>0</td>\n",
       "      <td>0</td>\n",
       "    </tr>\n",
       "    <tr>\n",
       "      <th>2747</th>\n",
       "      <td>1647</td>\n",
       "      <td>./annot_2000_no_politics/EWYq8flUcAAjsik.jpg</td>\n",
       "      <td>1</td>\n",
       "      <td>0</td>\n",
       "      <td>0</td>\n",
       "      <td>0</td>\n",
       "      <td>0</td>\n",
       "      <td>0</td>\n",
       "    </tr>\n",
       "    <tr>\n",
       "      <th>144</th>\n",
       "      <td>1643</td>\n",
       "      <td>./annot_3000_hate/EUhr8zuWkAE4-LE.jpg</td>\n",
       "      <td>1</td>\n",
       "      <td>0</td>\n",
       "      <td>0</td>\n",
       "      <td>0</td>\n",
       "      <td>0</td>\n",
       "      <td>0</td>\n",
       "    </tr>\n",
       "    <tr>\n",
       "      <th>957</th>\n",
       "      <td>1639</td>\n",
       "      <td>./annot_2000_no_politics/EU3Ll_LX0AIzE6_.jpg</td>\n",
       "      <td>1</td>\n",
       "      <td>0</td>\n",
       "      <td>0</td>\n",
       "      <td>0</td>\n",
       "      <td>0</td>\n",
       "      <td>0</td>\n",
       "    </tr>\n",
       "    <tr>\n",
       "      <th>2900</th>\n",
       "      <td>1639</td>\n",
       "      <td>./annot_3000_hate/EzEdaGrVoAA1stV.jpg</td>\n",
       "      <td>1</td>\n",
       "      <td>0</td>\n",
       "      <td>0</td>\n",
       "      <td>0</td>\n",
       "      <td>0</td>\n",
       "      <td>0</td>\n",
       "    </tr>\n",
       "    <tr>\n",
       "      <th>...</th>\n",
       "      <td>...</td>\n",
       "      <td>...</td>\n",
       "      <td>...</td>\n",
       "      <td>...</td>\n",
       "      <td>...</td>\n",
       "      <td>...</td>\n",
       "      <td>...</td>\n",
       "      <td>...</td>\n",
       "    </tr>\n",
       "    <tr>\n",
       "      <th>1189</th>\n",
       "      <td>948</td>\n",
       "      <td>./annot_3000_hate/EfOvKn6WsAEqdo_.jpg</td>\n",
       "      <td>1</td>\n",
       "      <td>0</td>\n",
       "      <td>0</td>\n",
       "      <td>0</td>\n",
       "      <td>0</td>\n",
       "      <td>0</td>\n",
       "    </tr>\n",
       "    <tr>\n",
       "      <th>4084</th>\n",
       "      <td>948</td>\n",
       "      <td>./annot_2000_no_politics/Efw44qKXkAAsfcg.jpg</td>\n",
       "      <td>1</td>\n",
       "      <td>0</td>\n",
       "      <td>0</td>\n",
       "      <td>0</td>\n",
       "      <td>0</td>\n",
       "      <td>0</td>\n",
       "    </tr>\n",
       "    <tr>\n",
       "      <th>1667</th>\n",
       "      <td>946</td>\n",
       "      <td>./annot_2000_no_politics/EWeX9vQWkAAgxtN.jpg</td>\n",
       "      <td>1</td>\n",
       "      <td>0</td>\n",
       "      <td>0</td>\n",
       "      <td>0</td>\n",
       "      <td>0</td>\n",
       "      <td>0</td>\n",
       "    </tr>\n",
       "    <tr>\n",
       "      <th>468</th>\n",
       "      <td>736</td>\n",
       "      <td>./annot_3000_hate/EWkePoRXkAAYmLQ.jpg</td>\n",
       "      <td>1</td>\n",
       "      <td>0</td>\n",
       "      <td>0</td>\n",
       "      <td>0</td>\n",
       "      <td>0</td>\n",
       "      <td>0</td>\n",
       "    </tr>\n",
       "    <tr>\n",
       "      <th>4493</th>\n",
       "      <td>2993</td>\n",
       "      <td>./annot_3000_hate/EUyDn0FWoAIOjfi.jpg</td>\n",
       "      <td>1</td>\n",
       "      <td>0</td>\n",
       "      <td>0</td>\n",
       "      <td>0</td>\n",
       "      <td>0</td>\n",
       "      <td>0</td>\n",
       "    </tr>\n",
       "  </tbody>\n",
       "</table>\n",
       "<p>1283 rows × 8 columns</p>\n",
       "</div>"
      ],
      "text/plain": [
       "        id                                           img  label  pred_gv  \\\n",
       "3668     0         ./annot_3000_hate/EfzVXLnX0AIp4ZB.jpg      1        0   \n",
       "2747  1647  ./annot_2000_no_politics/EWYq8flUcAAjsik.jpg      1        0   \n",
       "144   1643         ./annot_3000_hate/EUhr8zuWkAE4-LE.jpg      1        0   \n",
       "957   1639  ./annot_2000_no_politics/EU3Ll_LX0AIzE6_.jpg      1        0   \n",
       "2900  1639         ./annot_3000_hate/EzEdaGrVoAA1stV.jpg      1        0   \n",
       "...    ...                                           ...    ...      ...   \n",
       "1189   948         ./annot_3000_hate/EfOvKn6WsAEqdo_.jpg      1        0   \n",
       "4084   948  ./annot_2000_no_politics/Efw44qKXkAAsfcg.jpg      1        0   \n",
       "1667   946  ./annot_2000_no_politics/EWeX9vQWkAAgxtN.jpg      1        0   \n",
       "468    736         ./annot_3000_hate/EWkePoRXkAAYmLQ.jpg      1        0   \n",
       "4493  2993         ./annot_3000_hate/EUyDn0FWoAIOjfi.jpg      1        0   \n",
       "\n",
       "      pred_cl  pred_da  pred_amz_value  pred_total  \n",
       "3668        0        0               0           0  \n",
       "2747        0        0               0           0  \n",
       "144         0        0               0           0  \n",
       "957         0        0               0           0  \n",
       "2900        0        0               0           0  \n",
       "...       ...      ...             ...         ...  \n",
       "1189        0        0               0           0  \n",
       "4084        0        0               0           0  \n",
       "1667        0        0               0           0  \n",
       "468         0        0               0           0  \n",
       "4493        0        0               0           0  \n",
       "\n",
       "[1283 rows x 8 columns]"
      ]
     },
     "execution_count": 37,
     "metadata": {},
     "output_type": "execute_result"
    }
   ],
   "source": [
    "pass_all = final_df[(final_df['label']>0) & (final_df['pred_total']<1)]\n",
    "pass_all = pass_all.sort_values('label', ascending=True)\n",
    "pass_all\n"
   ]
  },
  {
   "cell_type": "markdown",
   "metadata": {},
   "source": [
    "### Check the passed image for each API"
   ]
  },
  {
   "cell_type": "markdown",
   "metadata": {},
   "source": [
    "#### Google Cloud Vision API"
   ]
  },
  {
   "cell_type": "code",
   "execution_count": 38,
   "metadata": {},
   "outputs": [
    {
     "data": {
      "text/html": [
       "<div>\n",
       "<style scoped>\n",
       "    .dataframe tbody tr th:only-of-type {\n",
       "        vertical-align: middle;\n",
       "    }\n",
       "\n",
       "    .dataframe tbody tr th {\n",
       "        vertical-align: top;\n",
       "    }\n",
       "\n",
       "    .dataframe thead th {\n",
       "        text-align: right;\n",
       "    }\n",
       "</style>\n",
       "<table border=\"1\" class=\"dataframe\">\n",
       "  <thead>\n",
       "    <tr style=\"text-align: right;\">\n",
       "      <th></th>\n",
       "      <th>id</th>\n",
       "      <th>img</th>\n",
       "      <th>label</th>\n",
       "      <th>pred_gv</th>\n",
       "      <th>pred_cl</th>\n",
       "      <th>pred_da</th>\n",
       "      <th>pred_amz_value</th>\n",
       "      <th>pred_total</th>\n",
       "    </tr>\n",
       "  </thead>\n",
       "  <tbody>\n",
       "    <tr>\n",
       "      <th>3668</th>\n",
       "      <td>0</td>\n",
       "      <td>./annot_3000_hate/EfzVXLnX0AIp4ZB.jpg</td>\n",
       "      <td>1</td>\n",
       "      <td>0</td>\n",
       "      <td>0</td>\n",
       "      <td>0</td>\n",
       "      <td>0</td>\n",
       "      <td>0</td>\n",
       "    </tr>\n",
       "    <tr>\n",
       "      <th>2503</th>\n",
       "      <td>1617</td>\n",
       "      <td>./annot_2000_no_politics/Eui6S4JXUAUQlf0.jpg</td>\n",
       "      <td>1</td>\n",
       "      <td>0</td>\n",
       "      <td>0</td>\n",
       "      <td>0</td>\n",
       "      <td>0</td>\n",
       "      <td>0</td>\n",
       "    </tr>\n",
       "    <tr>\n",
       "      <th>906</th>\n",
       "      <td>1649</td>\n",
       "      <td>./annot_3000_hate/EWzAQHcUEAEhH9D.jpg</td>\n",
       "      <td>1</td>\n",
       "      <td>0</td>\n",
       "      <td>0</td>\n",
       "      <td>0</td>\n",
       "      <td>0</td>\n",
       "      <td>0</td>\n",
       "    </tr>\n",
       "    <tr>\n",
       "      <th>3866</th>\n",
       "      <td>1648</td>\n",
       "      <td>./annot_2000_no_politics/Eo-LAxfXIAQOCud.jpg</td>\n",
       "      <td>1</td>\n",
       "      <td>0</td>\n",
       "      <td>0</td>\n",
       "      <td>0</td>\n",
       "      <td>0</td>\n",
       "      <td>0</td>\n",
       "    </tr>\n",
       "    <tr>\n",
       "      <th>4839</th>\n",
       "      <td>1648</td>\n",
       "      <td>./annot_3000_hate/EpIQ1AmXYAYjpTp.jpg</td>\n",
       "      <td>1</td>\n",
       "      <td>0</td>\n",
       "      <td>0</td>\n",
       "      <td>0</td>\n",
       "      <td>0</td>\n",
       "      <td>0</td>\n",
       "    </tr>\n",
       "    <tr>\n",
       "      <th>...</th>\n",
       "      <td>...</td>\n",
       "      <td>...</td>\n",
       "      <td>...</td>\n",
       "      <td>...</td>\n",
       "      <td>...</td>\n",
       "      <td>...</td>\n",
       "      <td>...</td>\n",
       "      <td>...</td>\n",
       "    </tr>\n",
       "    <tr>\n",
       "      <th>3167</th>\n",
       "      <td>951</td>\n",
       "      <td>./annot_3000_hate/EewSW7RXkAAnzz6.png</td>\n",
       "      <td>1</td>\n",
       "      <td>0</td>\n",
       "      <td>0</td>\n",
       "      <td>0</td>\n",
       "      <td>0</td>\n",
       "      <td>0</td>\n",
       "    </tr>\n",
       "    <tr>\n",
       "      <th>519</th>\n",
       "      <td>951</td>\n",
       "      <td>./annot_2000_no_politics/EyJf0TRWEAMo-rX.jpg</td>\n",
       "      <td>1</td>\n",
       "      <td>0</td>\n",
       "      <td>0</td>\n",
       "      <td>0</td>\n",
       "      <td>0</td>\n",
       "      <td>0</td>\n",
       "    </tr>\n",
       "    <tr>\n",
       "      <th>3053</th>\n",
       "      <td>950</td>\n",
       "      <td>./annot_2000_no_politics/Epq7OkcU0AA7ixd.jpg</td>\n",
       "      <td>1</td>\n",
       "      <td>0</td>\n",
       "      <td>0</td>\n",
       "      <td>0</td>\n",
       "      <td>0</td>\n",
       "      <td>0</td>\n",
       "    </tr>\n",
       "    <tr>\n",
       "      <th>1189</th>\n",
       "      <td>948</td>\n",
       "      <td>./annot_3000_hate/EfOvKn6WsAEqdo_.jpg</td>\n",
       "      <td>1</td>\n",
       "      <td>0</td>\n",
       "      <td>0</td>\n",
       "      <td>0</td>\n",
       "      <td>0</td>\n",
       "      <td>0</td>\n",
       "    </tr>\n",
       "    <tr>\n",
       "      <th>4493</th>\n",
       "      <td>2993</td>\n",
       "      <td>./annot_3000_hate/EUyDn0FWoAIOjfi.jpg</td>\n",
       "      <td>1</td>\n",
       "      <td>0</td>\n",
       "      <td>0</td>\n",
       "      <td>0</td>\n",
       "      <td>0</td>\n",
       "      <td>0</td>\n",
       "    </tr>\n",
       "  </tbody>\n",
       "</table>\n",
       "<p>1304 rows × 8 columns</p>\n",
       "</div>"
      ],
      "text/plain": [
       "        id                                           img  label  pred_gv  \\\n",
       "3668     0         ./annot_3000_hate/EfzVXLnX0AIp4ZB.jpg      1        0   \n",
       "2503  1617  ./annot_2000_no_politics/Eui6S4JXUAUQlf0.jpg      1        0   \n",
       "906   1649         ./annot_3000_hate/EWzAQHcUEAEhH9D.jpg      1        0   \n",
       "3866  1648  ./annot_2000_no_politics/Eo-LAxfXIAQOCud.jpg      1        0   \n",
       "4839  1648         ./annot_3000_hate/EpIQ1AmXYAYjpTp.jpg      1        0   \n",
       "...    ...                                           ...    ...      ...   \n",
       "3167   951         ./annot_3000_hate/EewSW7RXkAAnzz6.png      1        0   \n",
       "519    951  ./annot_2000_no_politics/EyJf0TRWEAMo-rX.jpg      1        0   \n",
       "3053   950  ./annot_2000_no_politics/Epq7OkcU0AA7ixd.jpg      1        0   \n",
       "1189   948         ./annot_3000_hate/EfOvKn6WsAEqdo_.jpg      1        0   \n",
       "4493  2993         ./annot_3000_hate/EUyDn0FWoAIOjfi.jpg      1        0   \n",
       "\n",
       "      pred_cl  pred_da  pred_amz_value  pred_total  \n",
       "3668        0        0               0           0  \n",
       "2503        0        0               0           0  \n",
       "906         0        0               0           0  \n",
       "3866        0        0               0           0  \n",
       "4839        0        0               0           0  \n",
       "...       ...      ...             ...         ...  \n",
       "3167        0        0               0           0  \n",
       "519         0        0               0           0  \n",
       "3053        0        0               0           0  \n",
       "1189        0        0               0           0  \n",
       "4493        0        0               0           0  \n",
       "\n",
       "[1304 rows x 8 columns]"
      ]
     },
     "execution_count": 38,
     "metadata": {},
     "output_type": "execute_result"
    }
   ],
   "source": [
    "pass_google = final_df[(final_df['label']>0) & (final_df['pred_gv']<1)]\n",
    "pass_google = pass_google.sort_values('pred_gv', ascending=False)\n",
    "pass_google"
   ]
  },
  {
   "cell_type": "code",
   "execution_count": 42,
   "metadata": {},
   "outputs": [
    {
     "data": {
      "text/html": [
       "<div>\n",
       "<style scoped>\n",
       "    .dataframe tbody tr th:only-of-type {\n",
       "        vertical-align: middle;\n",
       "    }\n",
       "\n",
       "    .dataframe tbody tr th {\n",
       "        vertical-align: top;\n",
       "    }\n",
       "\n",
       "    .dataframe thead th {\n",
       "        text-align: right;\n",
       "    }\n",
       "</style>\n",
       "<table border=\"1\" class=\"dataframe\">\n",
       "  <thead>\n",
       "    <tr style=\"text-align: right;\">\n",
       "      <th></th>\n",
       "      <th>id</th>\n",
       "      <th>img</th>\n",
       "      <th>label</th>\n",
       "      <th>pred_gv</th>\n",
       "      <th>pred_cl</th>\n",
       "      <th>pred_da</th>\n",
       "      <th>pred_amz_value</th>\n",
       "      <th>pred_total</th>\n",
       "    </tr>\n",
       "  </thead>\n",
       "  <tbody>\n",
       "    <tr>\n",
       "      <th>3668</th>\n",
       "      <td>0</td>\n",
       "      <td>./annot_3000_hate/EfzVXLnX0AIp4ZB.jpg</td>\n",
       "      <td>1</td>\n",
       "      <td>0</td>\n",
       "      <td>0</td>\n",
       "      <td>0</td>\n",
       "      <td>0</td>\n",
       "      <td>0</td>\n",
       "    </tr>\n",
       "    <tr>\n",
       "      <th>4839</th>\n",
       "      <td>1648</td>\n",
       "      <td>./annot_3000_hate/EpIQ1AmXYAYjpTp.jpg</td>\n",
       "      <td>1</td>\n",
       "      <td>0</td>\n",
       "      <td>0</td>\n",
       "      <td>0</td>\n",
       "      <td>0</td>\n",
       "      <td>0</td>\n",
       "    </tr>\n",
       "    <tr>\n",
       "      <th>144</th>\n",
       "      <td>1643</td>\n",
       "      <td>./annot_3000_hate/EUhr8zuWkAE4-LE.jpg</td>\n",
       "      <td>1</td>\n",
       "      <td>0</td>\n",
       "      <td>0</td>\n",
       "      <td>0</td>\n",
       "      <td>0</td>\n",
       "      <td>0</td>\n",
       "    </tr>\n",
       "    <tr>\n",
       "      <th>957</th>\n",
       "      <td>1639</td>\n",
       "      <td>./annot_2000_no_politics/EU3Ll_LX0AIzE6_.jpg</td>\n",
       "      <td>1</td>\n",
       "      <td>0</td>\n",
       "      <td>0</td>\n",
       "      <td>0</td>\n",
       "      <td>0</td>\n",
       "      <td>0</td>\n",
       "    </tr>\n",
       "    <tr>\n",
       "      <th>2900</th>\n",
       "      <td>1639</td>\n",
       "      <td>./annot_3000_hate/EzEdaGrVoAA1stV.jpg</td>\n",
       "      <td>1</td>\n",
       "      <td>0</td>\n",
       "      <td>0</td>\n",
       "      <td>0</td>\n",
       "      <td>0</td>\n",
       "      <td>0</td>\n",
       "    </tr>\n",
       "    <tr>\n",
       "      <th>...</th>\n",
       "      <td>...</td>\n",
       "      <td>...</td>\n",
       "      <td>...</td>\n",
       "      <td>...</td>\n",
       "      <td>...</td>\n",
       "      <td>...</td>\n",
       "      <td>...</td>\n",
       "      <td>...</td>\n",
       "    </tr>\n",
       "    <tr>\n",
       "      <th>3167</th>\n",
       "      <td>951</td>\n",
       "      <td>./annot_3000_hate/EewSW7RXkAAnzz6.png</td>\n",
       "      <td>1</td>\n",
       "      <td>0</td>\n",
       "      <td>0</td>\n",
       "      <td>0</td>\n",
       "      <td>0</td>\n",
       "      <td>0</td>\n",
       "    </tr>\n",
       "    <tr>\n",
       "      <th>519</th>\n",
       "      <td>951</td>\n",
       "      <td>./annot_2000_no_politics/EyJf0TRWEAMo-rX.jpg</td>\n",
       "      <td>1</td>\n",
       "      <td>0</td>\n",
       "      <td>0</td>\n",
       "      <td>0</td>\n",
       "      <td>0</td>\n",
       "      <td>0</td>\n",
       "    </tr>\n",
       "    <tr>\n",
       "      <th>3053</th>\n",
       "      <td>950</td>\n",
       "      <td>./annot_2000_no_politics/Epq7OkcU0AA7ixd.jpg</td>\n",
       "      <td>1</td>\n",
       "      <td>0</td>\n",
       "      <td>0</td>\n",
       "      <td>0</td>\n",
       "      <td>0</td>\n",
       "      <td>0</td>\n",
       "    </tr>\n",
       "    <tr>\n",
       "      <th>1189</th>\n",
       "      <td>948</td>\n",
       "      <td>./annot_3000_hate/EfOvKn6WsAEqdo_.jpg</td>\n",
       "      <td>1</td>\n",
       "      <td>0</td>\n",
       "      <td>0</td>\n",
       "      <td>0</td>\n",
       "      <td>0</td>\n",
       "      <td>0</td>\n",
       "    </tr>\n",
       "    <tr>\n",
       "      <th>4493</th>\n",
       "      <td>2993</td>\n",
       "      <td>./annot_3000_hate/EUyDn0FWoAIOjfi.jpg</td>\n",
       "      <td>1</td>\n",
       "      <td>0</td>\n",
       "      <td>0</td>\n",
       "      <td>0</td>\n",
       "      <td>0</td>\n",
       "      <td>0</td>\n",
       "    </tr>\n",
       "  </tbody>\n",
       "</table>\n",
       "<p>1327 rows × 8 columns</p>\n",
       "</div>"
      ],
      "text/plain": [
       "        id                                           img  label  pred_gv  \\\n",
       "3668     0         ./annot_3000_hate/EfzVXLnX0AIp4ZB.jpg      1        0   \n",
       "4839  1648         ./annot_3000_hate/EpIQ1AmXYAYjpTp.jpg      1        0   \n",
       "144   1643         ./annot_3000_hate/EUhr8zuWkAE4-LE.jpg      1        0   \n",
       "957   1639  ./annot_2000_no_politics/EU3Ll_LX0AIzE6_.jpg      1        0   \n",
       "2900  1639         ./annot_3000_hate/EzEdaGrVoAA1stV.jpg      1        0   \n",
       "...    ...                                           ...    ...      ...   \n",
       "3167   951         ./annot_3000_hate/EewSW7RXkAAnzz6.png      1        0   \n",
       "519    951  ./annot_2000_no_politics/EyJf0TRWEAMo-rX.jpg      1        0   \n",
       "3053   950  ./annot_2000_no_politics/Epq7OkcU0AA7ixd.jpg      1        0   \n",
       "1189   948         ./annot_3000_hate/EfOvKn6WsAEqdo_.jpg      1        0   \n",
       "4493  2993         ./annot_3000_hate/EUyDn0FWoAIOjfi.jpg      1        0   \n",
       "\n",
       "      pred_cl  pred_da  pred_amz_value  pred_total  \n",
       "3668        0        0               0           0  \n",
       "4839        0        0               0           0  \n",
       "144         0        0               0           0  \n",
       "957         0        0               0           0  \n",
       "2900        0        0               0           0  \n",
       "...       ...      ...             ...         ...  \n",
       "3167        0        0               0           0  \n",
       "519         0        0               0           0  \n",
       "3053        0        0               0           0  \n",
       "1189        0        0               0           0  \n",
       "4493        0        0               0           0  \n",
       "\n",
       "[1327 rows x 8 columns]"
      ]
     },
     "execution_count": 42,
     "metadata": {},
     "output_type": "execute_result"
    }
   ],
   "source": [
    "pass_amz = final_df[(final_df['label']>0) & (final_df['pred_amz_value']<1)]\n",
    "pass_amz = pass_amz.sort_values('pred_amz_value', ascending=False)\n",
    "pass_amz"
   ]
  },
  {
   "cell_type": "code",
   "execution_count": 43,
   "metadata": {},
   "outputs": [
    {
     "data": {
      "text/html": [
       "<div>\n",
       "<style scoped>\n",
       "    .dataframe tbody tr th:only-of-type {\n",
       "        vertical-align: middle;\n",
       "    }\n",
       "\n",
       "    .dataframe tbody tr th {\n",
       "        vertical-align: top;\n",
       "    }\n",
       "\n",
       "    .dataframe thead th {\n",
       "        text-align: right;\n",
       "    }\n",
       "</style>\n",
       "<table border=\"1\" class=\"dataframe\">\n",
       "  <thead>\n",
       "    <tr style=\"text-align: right;\">\n",
       "      <th></th>\n",
       "      <th>id</th>\n",
       "      <th>img</th>\n",
       "      <th>label</th>\n",
       "      <th>pred_gv</th>\n",
       "      <th>pred_cl</th>\n",
       "      <th>pred_da</th>\n",
       "      <th>pred_amz_value</th>\n",
       "      <th>pred_total</th>\n",
       "    </tr>\n",
       "  </thead>\n",
       "  <tbody>\n",
       "    <tr>\n",
       "      <th>3668</th>\n",
       "      <td>0</td>\n",
       "      <td>./annot_3000_hate/EfzVXLnX0AIp4ZB.jpg</td>\n",
       "      <td>1</td>\n",
       "      <td>0</td>\n",
       "      <td>0</td>\n",
       "      <td>0</td>\n",
       "      <td>0</td>\n",
       "      <td>0</td>\n",
       "    </tr>\n",
       "    <tr>\n",
       "      <th>906</th>\n",
       "      <td>1649</td>\n",
       "      <td>./annot_3000_hate/EWzAQHcUEAEhH9D.jpg</td>\n",
       "      <td>1</td>\n",
       "      <td>0</td>\n",
       "      <td>0</td>\n",
       "      <td>0</td>\n",
       "      <td>0</td>\n",
       "      <td>0</td>\n",
       "    </tr>\n",
       "    <tr>\n",
       "      <th>4839</th>\n",
       "      <td>1648</td>\n",
       "      <td>./annot_3000_hate/EpIQ1AmXYAYjpTp.jpg</td>\n",
       "      <td>1</td>\n",
       "      <td>0</td>\n",
       "      <td>0</td>\n",
       "      <td>0</td>\n",
       "      <td>0</td>\n",
       "      <td>0</td>\n",
       "    </tr>\n",
       "    <tr>\n",
       "      <th>2747</th>\n",
       "      <td>1647</td>\n",
       "      <td>./annot_2000_no_politics/EWYq8flUcAAjsik.jpg</td>\n",
       "      <td>1</td>\n",
       "      <td>0</td>\n",
       "      <td>0</td>\n",
       "      <td>0</td>\n",
       "      <td>0</td>\n",
       "      <td>0</td>\n",
       "    </tr>\n",
       "    <tr>\n",
       "      <th>144</th>\n",
       "      <td>1643</td>\n",
       "      <td>./annot_3000_hate/EUhr8zuWkAE4-LE.jpg</td>\n",
       "      <td>1</td>\n",
       "      <td>0</td>\n",
       "      <td>0</td>\n",
       "      <td>0</td>\n",
       "      <td>0</td>\n",
       "      <td>0</td>\n",
       "    </tr>\n",
       "    <tr>\n",
       "      <th>...</th>\n",
       "      <td>...</td>\n",
       "      <td>...</td>\n",
       "      <td>...</td>\n",
       "      <td>...</td>\n",
       "      <td>...</td>\n",
       "      <td>...</td>\n",
       "      <td>...</td>\n",
       "      <td>...</td>\n",
       "    </tr>\n",
       "    <tr>\n",
       "      <th>2394</th>\n",
       "      <td>956</td>\n",
       "      <td>./annot_3000_hate/EVLaLPpUwAAdt2z.jpg</td>\n",
       "      <td>1</td>\n",
       "      <td>0</td>\n",
       "      <td>0</td>\n",
       "      <td>0</td>\n",
       "      <td>0</td>\n",
       "      <td>0</td>\n",
       "    </tr>\n",
       "    <tr>\n",
       "      <th>3167</th>\n",
       "      <td>951</td>\n",
       "      <td>./annot_3000_hate/EewSW7RXkAAnzz6.png</td>\n",
       "      <td>1</td>\n",
       "      <td>0</td>\n",
       "      <td>0</td>\n",
       "      <td>0</td>\n",
       "      <td>0</td>\n",
       "      <td>0</td>\n",
       "    </tr>\n",
       "    <tr>\n",
       "      <th>519</th>\n",
       "      <td>951</td>\n",
       "      <td>./annot_2000_no_politics/EyJf0TRWEAMo-rX.jpg</td>\n",
       "      <td>1</td>\n",
       "      <td>0</td>\n",
       "      <td>0</td>\n",
       "      <td>0</td>\n",
       "      <td>0</td>\n",
       "      <td>0</td>\n",
       "    </tr>\n",
       "    <tr>\n",
       "      <th>3053</th>\n",
       "      <td>950</td>\n",
       "      <td>./annot_2000_no_politics/Epq7OkcU0AA7ixd.jpg</td>\n",
       "      <td>1</td>\n",
       "      <td>0</td>\n",
       "      <td>0</td>\n",
       "      <td>0</td>\n",
       "      <td>0</td>\n",
       "      <td>0</td>\n",
       "    </tr>\n",
       "    <tr>\n",
       "      <th>4493</th>\n",
       "      <td>2993</td>\n",
       "      <td>./annot_3000_hate/EUyDn0FWoAIOjfi.jpg</td>\n",
       "      <td>1</td>\n",
       "      <td>0</td>\n",
       "      <td>0</td>\n",
       "      <td>0</td>\n",
       "      <td>0</td>\n",
       "      <td>0</td>\n",
       "    </tr>\n",
       "  </tbody>\n",
       "</table>\n",
       "<p>1333 rows × 8 columns</p>\n",
       "</div>"
      ],
      "text/plain": [
       "        id                                           img  label  pred_gv  \\\n",
       "3668     0         ./annot_3000_hate/EfzVXLnX0AIp4ZB.jpg      1        0   \n",
       "906   1649         ./annot_3000_hate/EWzAQHcUEAEhH9D.jpg      1        0   \n",
       "4839  1648         ./annot_3000_hate/EpIQ1AmXYAYjpTp.jpg      1        0   \n",
       "2747  1647  ./annot_2000_no_politics/EWYq8flUcAAjsik.jpg      1        0   \n",
       "144   1643         ./annot_3000_hate/EUhr8zuWkAE4-LE.jpg      1        0   \n",
       "...    ...                                           ...    ...      ...   \n",
       "2394   956         ./annot_3000_hate/EVLaLPpUwAAdt2z.jpg      1        0   \n",
       "3167   951         ./annot_3000_hate/EewSW7RXkAAnzz6.png      1        0   \n",
       "519    951  ./annot_2000_no_politics/EyJf0TRWEAMo-rX.jpg      1        0   \n",
       "3053   950  ./annot_2000_no_politics/Epq7OkcU0AA7ixd.jpg      1        0   \n",
       "4493  2993         ./annot_3000_hate/EUyDn0FWoAIOjfi.jpg      1        0   \n",
       "\n",
       "      pred_cl  pred_da  pred_amz_value  pred_total  \n",
       "3668        0        0               0           0  \n",
       "906         0        0               0           0  \n",
       "4839        0        0               0           0  \n",
       "2747        0        0               0           0  \n",
       "144         0        0               0           0  \n",
       "...       ...      ...             ...         ...  \n",
       "2394        0        0               0           0  \n",
       "3167        0        0               0           0  \n",
       "519         0        0               0           0  \n",
       "3053        0        0               0           0  \n",
       "4493        0        0               0           0  \n",
       "\n",
       "[1333 rows x 8 columns]"
      ]
     },
     "execution_count": 43,
     "metadata": {},
     "output_type": "execute_result"
    }
   ],
   "source": [
    "pass_deepAI = final_df[(final_df['label']>0) & (final_df['pred_da']<1)]\n",
    "pass_deepAI = pass_deepAI.sort_values('pred_da', ascending=False)\n",
    "pass_deepAI"
   ]
  },
  {
   "cell_type": "code",
   "execution_count": 44,
   "metadata": {},
   "outputs": [
    {
     "data": {
      "text/html": [
       "<div>\n",
       "<style scoped>\n",
       "    .dataframe tbody tr th:only-of-type {\n",
       "        vertical-align: middle;\n",
       "    }\n",
       "\n",
       "    .dataframe tbody tr th {\n",
       "        vertical-align: top;\n",
       "    }\n",
       "\n",
       "    .dataframe thead th {\n",
       "        text-align: right;\n",
       "    }\n",
       "</style>\n",
       "<table border=\"1\" class=\"dataframe\">\n",
       "  <thead>\n",
       "    <tr style=\"text-align: right;\">\n",
       "      <th></th>\n",
       "      <th>id</th>\n",
       "      <th>img</th>\n",
       "      <th>label</th>\n",
       "      <th>pred_gv</th>\n",
       "      <th>pred_cl</th>\n",
       "      <th>pred_da</th>\n",
       "      <th>pred_amz_value</th>\n",
       "      <th>pred_total</th>\n",
       "    </tr>\n",
       "  </thead>\n",
       "  <tbody>\n",
       "    <tr>\n",
       "      <th>3668</th>\n",
       "      <td>0</td>\n",
       "      <td>./annot_3000_hate/EfzVXLnX0AIp4ZB.jpg</td>\n",
       "      <td>1</td>\n",
       "      <td>0</td>\n",
       "      <td>0</td>\n",
       "      <td>0</td>\n",
       "      <td>0</td>\n",
       "      <td>0</td>\n",
       "    </tr>\n",
       "    <tr>\n",
       "      <th>906</th>\n",
       "      <td>1649</td>\n",
       "      <td>./annot_3000_hate/EWzAQHcUEAEhH9D.jpg</td>\n",
       "      <td>1</td>\n",
       "      <td>0</td>\n",
       "      <td>0</td>\n",
       "      <td>0</td>\n",
       "      <td>0</td>\n",
       "      <td>0</td>\n",
       "    </tr>\n",
       "    <tr>\n",
       "      <th>4839</th>\n",
       "      <td>1648</td>\n",
       "      <td>./annot_3000_hate/EpIQ1AmXYAYjpTp.jpg</td>\n",
       "      <td>1</td>\n",
       "      <td>0</td>\n",
       "      <td>0</td>\n",
       "      <td>0</td>\n",
       "      <td>0</td>\n",
       "      <td>0</td>\n",
       "    </tr>\n",
       "    <tr>\n",
       "      <th>2747</th>\n",
       "      <td>1647</td>\n",
       "      <td>./annot_2000_no_politics/EWYq8flUcAAjsik.jpg</td>\n",
       "      <td>1</td>\n",
       "      <td>0</td>\n",
       "      <td>0</td>\n",
       "      <td>0</td>\n",
       "      <td>0</td>\n",
       "      <td>0</td>\n",
       "    </tr>\n",
       "    <tr>\n",
       "      <th>144</th>\n",
       "      <td>1643</td>\n",
       "      <td>./annot_3000_hate/EUhr8zuWkAE4-LE.jpg</td>\n",
       "      <td>1</td>\n",
       "      <td>0</td>\n",
       "      <td>0</td>\n",
       "      <td>0</td>\n",
       "      <td>0</td>\n",
       "      <td>0</td>\n",
       "    </tr>\n",
       "    <tr>\n",
       "      <th>...</th>\n",
       "      <td>...</td>\n",
       "      <td>...</td>\n",
       "      <td>...</td>\n",
       "      <td>...</td>\n",
       "      <td>...</td>\n",
       "      <td>...</td>\n",
       "      <td>...</td>\n",
       "      <td>...</td>\n",
       "    </tr>\n",
       "    <tr>\n",
       "      <th>2394</th>\n",
       "      <td>956</td>\n",
       "      <td>./annot_3000_hate/EVLaLPpUwAAdt2z.jpg</td>\n",
       "      <td>1</td>\n",
       "      <td>0</td>\n",
       "      <td>0</td>\n",
       "      <td>0</td>\n",
       "      <td>0</td>\n",
       "      <td>0</td>\n",
       "    </tr>\n",
       "    <tr>\n",
       "      <th>3167</th>\n",
       "      <td>951</td>\n",
       "      <td>./annot_3000_hate/EewSW7RXkAAnzz6.png</td>\n",
       "      <td>1</td>\n",
       "      <td>0</td>\n",
       "      <td>0</td>\n",
       "      <td>0</td>\n",
       "      <td>0</td>\n",
       "      <td>0</td>\n",
       "    </tr>\n",
       "    <tr>\n",
       "      <th>519</th>\n",
       "      <td>951</td>\n",
       "      <td>./annot_2000_no_politics/EyJf0TRWEAMo-rX.jpg</td>\n",
       "      <td>1</td>\n",
       "      <td>0</td>\n",
       "      <td>0</td>\n",
       "      <td>0</td>\n",
       "      <td>0</td>\n",
       "      <td>0</td>\n",
       "    </tr>\n",
       "    <tr>\n",
       "      <th>3053</th>\n",
       "      <td>950</td>\n",
       "      <td>./annot_2000_no_politics/Epq7OkcU0AA7ixd.jpg</td>\n",
       "      <td>1</td>\n",
       "      <td>0</td>\n",
       "      <td>0</td>\n",
       "      <td>0</td>\n",
       "      <td>0</td>\n",
       "      <td>0</td>\n",
       "    </tr>\n",
       "    <tr>\n",
       "      <th>4493</th>\n",
       "      <td>2993</td>\n",
       "      <td>./annot_3000_hate/EUyDn0FWoAIOjfi.jpg</td>\n",
       "      <td>1</td>\n",
       "      <td>0</td>\n",
       "      <td>0</td>\n",
       "      <td>0</td>\n",
       "      <td>0</td>\n",
       "      <td>0</td>\n",
       "    </tr>\n",
       "  </tbody>\n",
       "</table>\n",
       "<p>1341 rows × 8 columns</p>\n",
       "</div>"
      ],
      "text/plain": [
       "        id                                           img  label  pred_gv  \\\n",
       "3668     0         ./annot_3000_hate/EfzVXLnX0AIp4ZB.jpg      1        0   \n",
       "906   1649         ./annot_3000_hate/EWzAQHcUEAEhH9D.jpg      1        0   \n",
       "4839  1648         ./annot_3000_hate/EpIQ1AmXYAYjpTp.jpg      1        0   \n",
       "2747  1647  ./annot_2000_no_politics/EWYq8flUcAAjsik.jpg      1        0   \n",
       "144   1643         ./annot_3000_hate/EUhr8zuWkAE4-LE.jpg      1        0   \n",
       "...    ...                                           ...    ...      ...   \n",
       "2394   956         ./annot_3000_hate/EVLaLPpUwAAdt2z.jpg      1        0   \n",
       "3167   951         ./annot_3000_hate/EewSW7RXkAAnzz6.png      1        0   \n",
       "519    951  ./annot_2000_no_politics/EyJf0TRWEAMo-rX.jpg      1        0   \n",
       "3053   950  ./annot_2000_no_politics/Epq7OkcU0AA7ixd.jpg      1        0   \n",
       "4493  2993         ./annot_3000_hate/EUyDn0FWoAIOjfi.jpg      1        0   \n",
       "\n",
       "      pred_cl  pred_da  pred_amz_value  pred_total  \n",
       "3668        0        0               0           0  \n",
       "906         0        0               0           0  \n",
       "4839        0        0               0           0  \n",
       "2747        0        0               0           0  \n",
       "144         0        0               0           0  \n",
       "...       ...      ...             ...         ...  \n",
       "2394        0        0               0           0  \n",
       "3167        0        0               0           0  \n",
       "519         0        0               0           0  \n",
       "3053        0        0               0           0  \n",
       "4493        0        0               0           0  \n",
       "\n",
       "[1341 rows x 8 columns]"
      ]
     },
     "execution_count": 44,
     "metadata": {},
     "output_type": "execute_result"
    }
   ],
   "source": [
    "pass_clari = final_df[(final_df['label']>0) & (final_df['pred_cl']<1)]\n",
    "pass_clari = pass_clari.sort_values('pred_cl', ascending=False)\n",
    "pass_clari"
   ]
  },
  {
   "cell_type": "markdown",
   "metadata": {},
   "source": [
    "### Get the Pass rate of all the APIs\n",
    "Pass rate = (predict safe) / (real safe)"
   ]
  },
  {
   "cell_type": "code",
   "execution_count": 30,
   "metadata": {
    "ExecuteTime": {
     "end_time": "2021-10-07T04:14:31.659415Z",
     "start_time": "2021-10-07T04:14:31.655285Z"
    }
   },
   "outputs": [
    {
     "name": "stdout",
     "output_type": "stream",
     "text": [
      "1341\n",
      "1283\n",
      "0.9567486950037286\n"
     ]
    }
   ],
   "source": [
    "df_pos = df[df.label.eq(1)]\n",
    "df_pos_rows = df_pos.shape[0]\n",
    "print(df_pos_rows)\n",
    "df_false_neg = df_pos[df_pos.pred_total.eq(0)]\n",
    "df_false_neg_rows = df_false_neg.shape[0]\n",
    "print(df_false_neg_rows)\n",
    "pass_rate = df_false_neg_rows / df_pos_rows\n",
    "print(pass_rate)"
   ]
  },
  {
   "cell_type": "markdown",
   "metadata": {},
   "source": [
    "### Get the False rate of all the APIs\n",
    "False rate = (predict unsafe) / (real unsafe)"
   ]
  },
  {
   "cell_type": "code",
   "execution_count": 29,
   "metadata": {
    "ExecuteTime": {
     "end_time": "2021-10-07T04:14:34.024160Z",
     "start_time": "2021-10-07T04:14:34.019720Z"
    }
   },
   "outputs": [
    {
     "name": "stdout",
     "output_type": "stream",
     "text": [
      "3659\n",
      "165\n",
      "0.045094288056846135\n"
     ]
    }
   ],
   "source": [
    "df_neg = df[df.label.eq(0)]\n",
    "df_neg_rows = df_neg.shape[0]\n",
    "print(df_neg_rows)\n",
    "df_false_pos = df_neg[df_neg.pred_total.gt(0)]\n",
    "df_false_pos_rows = df_false_pos.shape[0]\n",
    "print(df_false_pos_rows)\n",
    "false_rate = df_false_pos_rows / df_neg_rows\n",
    "print(false_rate)"
   ]
  },
  {
   "cell_type": "code",
   "execution_count": 30,
   "metadata": {
    "ExecuteTime": {
     "end_time": "2021-10-07T04:14:44.847819Z",
     "start_time": "2021-10-07T04:14:44.844706Z"
    },
    "scrolled": false
   },
   "outputs": [
    {
     "name": "stdout",
     "output_type": "stream",
     "text": [
      "Measurement of Google Cloud API:\n",
      "               precision    recall  f1-score   support\n",
      "\n",
      "        safe     0.7332    0.9719    0.8358      3659\n",
      "    not-safe     0.3133    0.0350    0.0630      1341\n",
      "\n",
      "    accuracy                         0.7206      5000\n",
      "   macro avg     0.5233    0.5034    0.4494      5000\n",
      "weighted avg     0.6206    0.7206    0.6286      5000\n",
      "\n",
      "======================================================\n",
      "\n",
      "Measurement of Amazon Rekognition API:\n",
      "               precision    recall  f1-score   support\n",
      "\n",
      "        safe     0.7331    0.9932    0.8435      3659\n",
      "   not-safe      0.4186    0.0134    0.0260      1341\n",
      "\n",
      "    accuracy                         0.7304      5000\n",
      "   macro avg     0.5759    0.5033    0.4348      5000\n",
      "weighted avg     0.6488    0.7304    0.6243      5000\n",
      "\n",
      "======================================================\n",
      "\n",
      "Measurement of Clarifai NSFW API (Threshold 0.5):\n",
      "               precision    recall  f1-score   support\n",
      "\n",
      "        safe     0.7318    1.0000    0.8451      3659\n",
      "    not-safe     0.0000    0.0000    0.0000      1341\n",
      "\n",
      "    accuracy                         0.7318      5000\n",
      "   macro avg     0.3659    0.5000    0.4226      5000\n",
      "weighted avg     0.5355    0.7318    0.6185      5000\n",
      "\n",
      "======================================================\n",
      "\n",
      "Measurment 0f Deep AI NSFW API (Threshold 0.5):\n",
      "               precision    recall  f1-score   support\n",
      "\n",
      "        safe     0.7319    0.9932    0.8428      3659\n",
      "    not-safe     0.2857    0.0075    0.0145      1341\n",
      "\n",
      "    accuracy                         0.7288      5000\n",
      "   macro avg     0.5088    0.5003    0.4286      5000\n",
      "weighted avg     0.6123    0.7288    0.6206      5000\n",
      "\n"
     ]
    }
   ],
   "source": [
    "# print('google:\\n',metricsr_google,'\\nclarifai:\\n', metrics_clarifai_04, metrics_clarifai_05 ,'\\ndeep AI:\\n', metrics_deepai_04, metrics_deepai_05 ,'\\nAmazon:',metrics_amazon)\n",
    "print('Measurement of Google Cloud API:\\n', metricsr_google)\n",
    "print('======================================================\\n')\n",
    "print('Measurement of Amazon Rekognition API:\\n', metrics_amazon)\n",
    "print('======================================================\\n')\n",
    "# print('Measurement of Clarifai NSFW API (Threshold 0.4):\\n', metrics_clarifai_04)\n",
    "print('Measurement of Clarifai NSFW API (Threshold 0.5):\\n', metrics_clarifai_05)\n",
    "print('======================================================\\n')\n",
    "\n",
    "print('Measurment 0f Deep AI NSFW API (Threshold 0.5):\\n', metrics_deepai_05)\n"
   ]
  },
  {
   "cell_type": "markdown",
   "metadata": {},
   "source": [
    "### table for safe lable prediction"
   ]
  },
  {
   "cell_type": "markdown",
   "metadata": {},
   "source": [
    "| APIs | precision | recall | f1-score | \n",
    "| --- | --- | --- | --- |\n",
    "| **Google Cloud Vision** |0.7332 | 0.9719 | 0.8358 |\n",
    "| **Amazon Rekognition** | 0.7331 | 0.9932 | 0.8435 |\n",
    "| **Clarifai NSFW**  | 0.7318 | 1.0000 | 0.8451 |\n",
    "| **DeepAI NSFW** | 0.7319| 0.9932 | 0.8428 |\n"
   ]
  },
  {
   "cell_type": "markdown",
   "metadata": {
    "ExecuteTime": {
     "end_time": "2021-10-07T03:26:05.839999Z",
     "start_time": "2021-10-07T03:26:05.838127Z"
    }
   },
   "source": [
    "### table for not-safe lable prediction"
   ]
  },
  {
   "cell_type": "markdown",
   "metadata": {},
   "source": [
    "| APIs| precision | recall | f1-score | \n",
    "| --- | --- | --- | --- | \n",
    "| **Google Cloud Vision**| 0.3133| 0.0350 | 0.0630 |\n",
    "| **Amazon Rekognition**| 0.4186 | 0.0134 | 0.0260 | \n",
    "| **Clarifai NSFW**| 0.0000| 0.0000 | 0.0000 |\n",
    "| **DeepAI NSFW** | 0.2857| 0.0075 | 0.0145 |\n"
   ]
  }
 ],
 "metadata": {
  "interpreter": {
   "hash": "b7c754adb513dbd5addfe93ce4dee16cd8aeca470c17463dc6f47f3e621c3529"
  },
  "kernelspec": {
   "display_name": "Python 3.8.5 64-bit ('py3': conda)",
   "name": "python3"
  },
  "language_info": {
   "codemirror_mode": {
    "name": "ipython",
    "version": 3
   },
   "file_extension": ".py",
   "mimetype": "text/x-python",
   "name": "python",
   "nbconvert_exporter": "python",
   "pygments_lexer": "ipython3",
   "version": "3.8.5"
  },
  "toc": {
   "base_numbering": 1,
   "nav_menu": {},
   "number_sections": true,
   "sideBar": true,
   "skip_h1_title": false,
   "title_cell": "Table of Contents",
   "title_sidebar": "Contents",
   "toc_cell": false,
   "toc_position": {},
   "toc_section_display": true,
   "toc_window_display": false
  }
 },
 "nbformat": 4,
 "nbformat_minor": 2
}
