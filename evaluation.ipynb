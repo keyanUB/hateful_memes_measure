{
 "cells": [
  {
   "cell_type": "code",
   "execution_count": 1,
   "metadata": {
    "ExecuteTime": {
     "end_time": "2021-10-07T02:16:53.687184Z",
     "start_time": "2021-10-07T02:16:53.684750Z"
    }
   },
   "outputs": [],
   "source": [
    "import os\n",
    "os.environ['GOOGLE_APPLICATION_CREDENTIALS'] = './credentials/google_application_credentials.json'"
   ]
  },
  {
   "cell_type": "code",
   "execution_count": 2,
   "metadata": {
    "ExecuteTime": {
     "end_time": "2021-10-07T02:16:54.368050Z",
     "start_time": "2021-10-07T02:16:54.358651Z"
    },
    "scrolled": true
   },
   "outputs": [],
   "source": [
    "from credentials import api_keys"
   ]
  },
  {
   "cell_type": "code",
   "execution_count": 3,
   "metadata": {
    "ExecuteTime": {
     "end_time": "2021-10-07T02:16:55.320374Z",
     "start_time": "2021-10-07T02:16:54.884977Z"
    }
   },
   "outputs": [],
   "source": [
    "import io\n",
    "import time\n",
    "import requests\n",
    "import numpy as np\n",
    "import pandas as pd\n",
    "from sklearn import metrics\n",
    "from google.cloud import vision\n",
    "from tqdm.notebook import tqdm\n",
    "from tqdm.notebook import trange, tqdm"
   ]
  },
  {
   "cell_type": "markdown",
   "metadata": {},
   "source": [
    "## Data Preprocessing"
   ]
  },
  {
   "cell_type": "code",
   "execution_count": 4,
   "metadata": {
    "ExecuteTime": {
     "end_time": "2021-10-07T02:16:56.482304Z",
     "start_time": "2021-10-07T02:16:56.451688Z"
    }
   },
   "outputs": [],
   "source": [
    "df1 = pd.read_csv('csv_3000_hate/sample_3000_labeled.csv')\n",
    "df2 = pd.read_csv('csv_2000_no_politics/sample_2000_labeled.csv')"
   ]
  },
  {
   "cell_type": "code",
   "execution_count": 5,
   "metadata": {
    "ExecuteTime": {
     "end_time": "2021-10-07T02:16:57.358116Z",
     "start_time": "2021-10-07T02:16:57.350696Z"
    },
    "scrolled": true
   },
   "outputs": [],
   "source": [
    "df1 = df1[['id', 'sample_path', 'label']]\n",
    "df2 = df2[['id', 'sample_path', 'label']]"
   ]
  },
  {
   "cell_type": "code",
   "execution_count": 6,
   "metadata": {
    "ExecuteTime": {
     "end_time": "2021-10-07T02:16:58.504997Z",
     "start_time": "2021-10-07T02:16:58.499976Z"
    }
   },
   "outputs": [],
   "source": [
    "# combine 50,000 images\n",
    "df = df1.append(df2)\n",
    "# shuffle the images\n",
    "df = df.sample(frac=1).reset_index(drop=True)"
   ]
  },
  {
   "cell_type": "code",
   "execution_count": 7,
   "metadata": {
    "ExecuteTime": {
     "end_time": "2021-10-07T02:17:00.062471Z",
     "start_time": "2021-10-07T02:17:00.058988Z"
    }
   },
   "outputs": [],
   "source": [
    "df['label'] = df['label'].apply(int)"
   ]
  },
  {
   "cell_type": "code",
   "execution_count": 8,
   "metadata": {
    "ExecuteTime": {
     "end_time": "2021-10-07T02:17:01.948610Z",
     "start_time": "2021-10-07T02:17:01.945853Z"
    }
   },
   "outputs": [],
   "source": [
    "# change column path to 'img'\n",
    "df = df.rename(columns={'sample_path': 'img'})"
   ]
  },
  {
   "cell_type": "code",
   "execution_count": 9,
   "metadata": {
    "ExecuteTime": {
     "end_time": "2021-10-07T02:17:04.537880Z",
     "start_time": "2021-10-07T02:17:04.530165Z"
    }
   },
   "outputs": [
    {
     "name": "stdout",
     "output_type": "stream",
     "text": [
      "(5000, 3)\n"
     ]
    }
   ],
   "source": [
    "print(df.shape)"
   ]
  },
  {
   "cell_type": "markdown",
   "metadata": {},
   "source": [
    "## Google Cloud Vision API"
   ]
  },
  {
   "cell_type": "code",
   "execution_count": null,
   "metadata": {
    "ExecuteTime": {
     "end_time": "2021-10-06T22:18:00.219518Z",
     "start_time": "2021-10-06T22:18:00.216589Z"
    }
   },
   "outputs": [],
   "source": [
    "def google_vision_api_without_spoof(path):\n",
    "    \"\"\"Google Cloud Vision API\"\"\"\n",
    "    client = vision.ImageAnnotatorClient()\n",
    "\n",
    "    with io.open(path, 'rb') as image_file:\n",
    "        content = image_file.read()\n",
    "\n",
    "    image = vision.Image(content=content)\n",
    "\n",
    "    response = client.safe_search_detection(image=image)\n",
    "    # print(response)\n",
    "    safe = response.safe_search_annotation\n",
    "\n",
    "    if response.error.message:\n",
    "        raise Exception(response.error.message)\n",
    "\n",
    "    # if safe.adult > 3 or safe.medical > 3 or safe.violence > 3 or safe.racy > 3:\n",
    "    # #     print('Image: {}, UNSAFE'.format(path))\n",
    "    #     return 1\n",
    "    # else:\n",
    "    # #     print('Image: {}, SAFE'.format(path))\n",
    "    #     return 0\n",
    "\n",
    "    # list all safe search labels:\n",
    "\n",
    "    # print(safe.adult)\n",
    "    # print(safe.medical)\n",
    "    # print(safe.violence)\n",
    "    # print(safe.racy)\n",
    "    return(int(safe.adult), int(safe.medical), int(safe.violence), int(safe.racy))"
   ]
  },
  {
   "cell_type": "code",
   "execution_count": null,
   "metadata": {
    "ExecuteTime": {
     "end_time": "2021-10-06T22:18:14.371507Z",
     "start_time": "2021-10-06T22:18:07.597846Z"
    },
    "collapsed": true
   },
   "outputs": [
    {
     "data": {
      "application/vnd.jupyter.widget-view+json": {
       "model_id": "e5f46578837b4e85806ce9b80a24adbd",
       "version_major": 2,
       "version_minor": 0
      },
      "text/plain": [
       "  0%|          | 0/5000 [00:00<?, ?it/s]"
      ]
     },
     "metadata": {},
     "output_type": "display_data"
    },
    {
     "ename": "KeyboardInterrupt",
     "evalue": "",
     "output_type": "error",
     "traceback": [
      "\u001b[0;31m---------------------------------------------------------------------------\u001b[0m",
      "\u001b[0;31mKeyboardInterrupt\u001b[0m                         Traceback (most recent call last)",
      "\u001b[0;32m/tmp/ipykernel_100408/1715138054.py\u001b[0m in \u001b[0;36m<module>\u001b[0;34m\u001b[0m\n\u001b[1;32m      2\u001b[0m \u001b[0;34m\u001b[0m\u001b[0m\n\u001b[1;32m      3\u001b[0m \u001b[0mtqdm\u001b[0m\u001b[0;34m.\u001b[0m\u001b[0mpandas\u001b[0m\u001b[0;34m(\u001b[0m\u001b[0;34m)\u001b[0m\u001b[0;34m\u001b[0m\u001b[0;34m\u001b[0m\u001b[0m\n\u001b[0;32m----> 4\u001b[0;31m \u001b[0mdf_google\u001b[0m\u001b[0;34m[\u001b[0m\u001b[0;34m'label_pred'\u001b[0m\u001b[0;34m]\u001b[0m \u001b[0;34m=\u001b[0m \u001b[0mdf_google\u001b[0m\u001b[0;34m[\u001b[0m\u001b[0;34m'img'\u001b[0m\u001b[0;34m]\u001b[0m\u001b[0;34m.\u001b[0m\u001b[0mprogress_apply\u001b[0m\u001b[0;34m(\u001b[0m\u001b[0mgoogle_vision_api_without_spoof\u001b[0m\u001b[0;34m)\u001b[0m\u001b[0;34m\u001b[0m\u001b[0;34m\u001b[0m\u001b[0m\n\u001b[0m",
      "\u001b[0;32m~/yes/envs/hate/lib/python3.8/site-packages/tqdm/std.py\u001b[0m in \u001b[0;36minner\u001b[0;34m(df, func, *args, **kwargs)\u001b[0m\n\u001b[1;32m    812\u001b[0m                 \u001b[0;31m# on the df using our wrapper (which provides bar updating)\u001b[0m\u001b[0;34m\u001b[0m\u001b[0;34m\u001b[0m\u001b[0;34m\u001b[0m\u001b[0m\n\u001b[1;32m    813\u001b[0m                 \u001b[0;32mtry\u001b[0m\u001b[0;34m:\u001b[0m\u001b[0;34m\u001b[0m\u001b[0;34m\u001b[0m\u001b[0m\n\u001b[0;32m--> 814\u001b[0;31m                     \u001b[0;32mreturn\u001b[0m \u001b[0mgetattr\u001b[0m\u001b[0;34m(\u001b[0m\u001b[0mdf\u001b[0m\u001b[0;34m,\u001b[0m \u001b[0mdf_function\u001b[0m\u001b[0;34m)\u001b[0m\u001b[0;34m(\u001b[0m\u001b[0mwrapper\u001b[0m\u001b[0;34m,\u001b[0m \u001b[0;34m**\u001b[0m\u001b[0mkwargs\u001b[0m\u001b[0;34m)\u001b[0m\u001b[0;34m\u001b[0m\u001b[0;34m\u001b[0m\u001b[0m\n\u001b[0m\u001b[1;32m    815\u001b[0m                 \u001b[0;32mfinally\u001b[0m\u001b[0;34m:\u001b[0m\u001b[0;34m\u001b[0m\u001b[0;34m\u001b[0m\u001b[0m\n\u001b[1;32m    816\u001b[0m                     \u001b[0mt\u001b[0m\u001b[0;34m.\u001b[0m\u001b[0mclose\u001b[0m\u001b[0;34m(\u001b[0m\u001b[0;34m)\u001b[0m\u001b[0;34m\u001b[0m\u001b[0;34m\u001b[0m\u001b[0m\n",
      "\u001b[0;32m~/yes/envs/hate/lib/python3.8/site-packages/pandas/core/series.py\u001b[0m in \u001b[0;36mapply\u001b[0;34m(self, func, convert_dtype, args, **kwargs)\u001b[0m\n\u001b[1;32m   4354\u001b[0m         \u001b[0mdtype\u001b[0m\u001b[0;34m:\u001b[0m \u001b[0mfloat64\u001b[0m\u001b[0;34m\u001b[0m\u001b[0;34m\u001b[0m\u001b[0m\n\u001b[1;32m   4355\u001b[0m         \"\"\"\n\u001b[0;32m-> 4356\u001b[0;31m         \u001b[0;32mreturn\u001b[0m \u001b[0mSeriesApply\u001b[0m\u001b[0;34m(\u001b[0m\u001b[0mself\u001b[0m\u001b[0;34m,\u001b[0m \u001b[0mfunc\u001b[0m\u001b[0;34m,\u001b[0m \u001b[0mconvert_dtype\u001b[0m\u001b[0;34m,\u001b[0m \u001b[0margs\u001b[0m\u001b[0;34m,\u001b[0m \u001b[0mkwargs\u001b[0m\u001b[0;34m)\u001b[0m\u001b[0;34m.\u001b[0m\u001b[0mapply\u001b[0m\u001b[0;34m(\u001b[0m\u001b[0;34m)\u001b[0m\u001b[0;34m\u001b[0m\u001b[0;34m\u001b[0m\u001b[0m\n\u001b[0m\u001b[1;32m   4357\u001b[0m \u001b[0;34m\u001b[0m\u001b[0m\n\u001b[1;32m   4358\u001b[0m     def _reduce(\n",
      "\u001b[0;32m~/yes/envs/hate/lib/python3.8/site-packages/pandas/core/apply.py\u001b[0m in \u001b[0;36mapply\u001b[0;34m(self)\u001b[0m\n\u001b[1;32m   1034\u001b[0m             \u001b[0;32mreturn\u001b[0m \u001b[0mself\u001b[0m\u001b[0;34m.\u001b[0m\u001b[0mapply_str\u001b[0m\u001b[0;34m(\u001b[0m\u001b[0;34m)\u001b[0m\u001b[0;34m\u001b[0m\u001b[0;34m\u001b[0m\u001b[0m\n\u001b[1;32m   1035\u001b[0m \u001b[0;34m\u001b[0m\u001b[0m\n\u001b[0;32m-> 1036\u001b[0;31m         \u001b[0;32mreturn\u001b[0m \u001b[0mself\u001b[0m\u001b[0;34m.\u001b[0m\u001b[0mapply_standard\u001b[0m\u001b[0;34m(\u001b[0m\u001b[0;34m)\u001b[0m\u001b[0;34m\u001b[0m\u001b[0;34m\u001b[0m\u001b[0m\n\u001b[0m\u001b[1;32m   1037\u001b[0m \u001b[0;34m\u001b[0m\u001b[0m\n\u001b[1;32m   1038\u001b[0m     \u001b[0;32mdef\u001b[0m \u001b[0magg\u001b[0m\u001b[0;34m(\u001b[0m\u001b[0mself\u001b[0m\u001b[0;34m)\u001b[0m\u001b[0;34m:\u001b[0m\u001b[0;34m\u001b[0m\u001b[0;34m\u001b[0m\u001b[0m\n",
      "\u001b[0;32m~/yes/envs/hate/lib/python3.8/site-packages/pandas/core/apply.py\u001b[0m in \u001b[0;36mapply_standard\u001b[0;34m(self)\u001b[0m\n\u001b[1;32m   1090\u001b[0m                 \u001b[0;31m# List[Union[Callable[..., Any], str]]]]]\"; expected\u001b[0m\u001b[0;34m\u001b[0m\u001b[0;34m\u001b[0m\u001b[0;34m\u001b[0m\u001b[0m\n\u001b[1;32m   1091\u001b[0m                 \u001b[0;31m# \"Callable[[Any], Any]\"\u001b[0m\u001b[0;34m\u001b[0m\u001b[0;34m\u001b[0m\u001b[0;34m\u001b[0m\u001b[0m\n\u001b[0;32m-> 1092\u001b[0;31m                 mapped = lib.map_infer(\n\u001b[0m\u001b[1;32m   1093\u001b[0m                     \u001b[0mvalues\u001b[0m\u001b[0;34m,\u001b[0m\u001b[0;34m\u001b[0m\u001b[0;34m\u001b[0m\u001b[0m\n\u001b[1;32m   1094\u001b[0m                     \u001b[0mf\u001b[0m\u001b[0;34m,\u001b[0m  \u001b[0;31m# type: ignore[arg-type]\u001b[0m\u001b[0;34m\u001b[0m\u001b[0;34m\u001b[0m\u001b[0m\n",
      "\u001b[0;32m~/yes/envs/hate/lib/python3.8/site-packages/pandas/_libs/lib.pyx\u001b[0m in \u001b[0;36mpandas._libs.lib.map_infer\u001b[0;34m()\u001b[0m\n",
      "\u001b[0;32m~/yes/envs/hate/lib/python3.8/site-packages/tqdm/std.py\u001b[0m in \u001b[0;36mwrapper\u001b[0;34m(*args, **kwargs)\u001b[0m\n\u001b[1;32m    807\u001b[0m                     \u001b[0;31m# take a fast or slow code path; so stop when t.total==t.n\u001b[0m\u001b[0;34m\u001b[0m\u001b[0;34m\u001b[0m\u001b[0;34m\u001b[0m\u001b[0m\n\u001b[1;32m    808\u001b[0m                     \u001b[0mt\u001b[0m\u001b[0;34m.\u001b[0m\u001b[0mupdate\u001b[0m\u001b[0;34m(\u001b[0m\u001b[0mn\u001b[0m\u001b[0;34m=\u001b[0m\u001b[0;36m1\u001b[0m \u001b[0;32mif\u001b[0m \u001b[0;32mnot\u001b[0m \u001b[0mt\u001b[0m\u001b[0;34m.\u001b[0m\u001b[0mtotal\u001b[0m \u001b[0;32mor\u001b[0m \u001b[0mt\u001b[0m\u001b[0;34m.\u001b[0m\u001b[0mn\u001b[0m \u001b[0;34m<\u001b[0m \u001b[0mt\u001b[0m\u001b[0;34m.\u001b[0m\u001b[0mtotal\u001b[0m \u001b[0;32melse\u001b[0m \u001b[0;36m0\u001b[0m\u001b[0;34m)\u001b[0m\u001b[0;34m\u001b[0m\u001b[0;34m\u001b[0m\u001b[0m\n\u001b[0;32m--> 809\u001b[0;31m                     \u001b[0;32mreturn\u001b[0m \u001b[0mfunc\u001b[0m\u001b[0;34m(\u001b[0m\u001b[0;34m*\u001b[0m\u001b[0margs\u001b[0m\u001b[0;34m,\u001b[0m \u001b[0;34m**\u001b[0m\u001b[0mkwargs\u001b[0m\u001b[0;34m)\u001b[0m\u001b[0;34m\u001b[0m\u001b[0;34m\u001b[0m\u001b[0m\n\u001b[0m\u001b[1;32m    810\u001b[0m \u001b[0;34m\u001b[0m\u001b[0m\n\u001b[1;32m    811\u001b[0m                 \u001b[0;31m# Apply the provided function (in **kwargs)\u001b[0m\u001b[0;34m\u001b[0m\u001b[0;34m\u001b[0m\u001b[0;34m\u001b[0m\u001b[0m\n",
      "\u001b[0;32m/tmp/ipykernel_100408/1533019468.py\u001b[0m in \u001b[0;36mgoogle_vision_api_without_spoof\u001b[0;34m(path)\u001b[0m\n\u001b[1;32m      8\u001b[0m     \u001b[0mimage\u001b[0m \u001b[0;34m=\u001b[0m \u001b[0mvision\u001b[0m\u001b[0;34m.\u001b[0m\u001b[0mImage\u001b[0m\u001b[0;34m(\u001b[0m\u001b[0mcontent\u001b[0m\u001b[0;34m=\u001b[0m\u001b[0mcontent\u001b[0m\u001b[0;34m)\u001b[0m\u001b[0;34m\u001b[0m\u001b[0;34m\u001b[0m\u001b[0m\n\u001b[1;32m      9\u001b[0m \u001b[0;34m\u001b[0m\u001b[0m\n\u001b[0;32m---> 10\u001b[0;31m     \u001b[0mresponse\u001b[0m \u001b[0;34m=\u001b[0m \u001b[0mclient\u001b[0m\u001b[0;34m.\u001b[0m\u001b[0msafe_search_detection\u001b[0m\u001b[0;34m(\u001b[0m\u001b[0mimage\u001b[0m\u001b[0;34m=\u001b[0m\u001b[0mimage\u001b[0m\u001b[0;34m)\u001b[0m\u001b[0;34m\u001b[0m\u001b[0;34m\u001b[0m\u001b[0m\n\u001b[0m\u001b[1;32m     11\u001b[0m     \u001b[0;31m# print(response)\u001b[0m\u001b[0;34m\u001b[0m\u001b[0;34m\u001b[0m\u001b[0;34m\u001b[0m\u001b[0m\n\u001b[1;32m     12\u001b[0m     \u001b[0msafe\u001b[0m \u001b[0;34m=\u001b[0m \u001b[0mresponse\u001b[0m\u001b[0;34m.\u001b[0m\u001b[0msafe_search_annotation\u001b[0m\u001b[0;34m\u001b[0m\u001b[0;34m\u001b[0m\u001b[0m\n",
      "\u001b[0;32m~/yes/envs/hate/lib/python3.8/site-packages/google/cloud/vision_helpers/decorators.py\u001b[0m in \u001b[0;36minner\u001b[0;34m(self, image, max_results, retry, timeout, metadata, **kwargs)\u001b[0m\n\u001b[1;32m    110\u001b[0m             \u001b[0mcopied_features\u001b[0m\u001b[0;34m[\u001b[0m\u001b[0;34m\"max_results\"\u001b[0m\u001b[0;34m]\u001b[0m \u001b[0;34m=\u001b[0m \u001b[0mmax_results\u001b[0m\u001b[0;34m\u001b[0m\u001b[0;34m\u001b[0m\u001b[0m\n\u001b[1;32m    111\u001b[0m         \u001b[0mrequest\u001b[0m \u001b[0;34m=\u001b[0m \u001b[0mdict\u001b[0m\u001b[0;34m(\u001b[0m\u001b[0mimage\u001b[0m\u001b[0;34m=\u001b[0m\u001b[0mimage\u001b[0m\u001b[0;34m,\u001b[0m \u001b[0mfeatures\u001b[0m\u001b[0;34m=\u001b[0m\u001b[0;34m[\u001b[0m\u001b[0mcopied_features\u001b[0m\u001b[0;34m]\u001b[0m\u001b[0;34m,\u001b[0m \u001b[0;34m**\u001b[0m\u001b[0mkwargs\u001b[0m\u001b[0;34m)\u001b[0m\u001b[0;34m\u001b[0m\u001b[0;34m\u001b[0m\u001b[0m\n\u001b[0;32m--> 112\u001b[0;31m         response = self.annotate_image(\n\u001b[0m\u001b[1;32m    113\u001b[0m             \u001b[0mrequest\u001b[0m\u001b[0;34m,\u001b[0m \u001b[0mretry\u001b[0m\u001b[0;34m=\u001b[0m\u001b[0mretry\u001b[0m\u001b[0;34m,\u001b[0m \u001b[0mtimeout\u001b[0m\u001b[0;34m=\u001b[0m\u001b[0mtimeout\u001b[0m\u001b[0;34m,\u001b[0m \u001b[0mmetadata\u001b[0m\u001b[0;34m=\u001b[0m\u001b[0mmetadata\u001b[0m\u001b[0;34m\u001b[0m\u001b[0;34m\u001b[0m\u001b[0m\n\u001b[1;32m    114\u001b[0m         )\n",
      "\u001b[0;32m~/yes/envs/hate/lib/python3.8/site-packages/google/cloud/vision_helpers/__init__.py\u001b[0m in \u001b[0;36mannotate_image\u001b[0;34m(self, request, retry, timeout, metadata)\u001b[0m\n\u001b[1;32m     74\u001b[0m         \u001b[0;32melif\u001b[0m \u001b[0mlen\u001b[0m\u001b[0;34m(\u001b[0m\u001b[0mrequest\u001b[0m\u001b[0;34m.\u001b[0m\u001b[0mfeatures\u001b[0m\u001b[0;34m)\u001b[0m \u001b[0;34m==\u001b[0m \u001b[0;36m0\u001b[0m\u001b[0;34m:\u001b[0m\u001b[0;34m\u001b[0m\u001b[0;34m\u001b[0m\u001b[0m\n\u001b[1;32m     75\u001b[0m             \u001b[0mrequest\u001b[0m\u001b[0;34m.\u001b[0m\u001b[0mfeatures\u001b[0m \u001b[0;34m=\u001b[0m \u001b[0mself\u001b[0m\u001b[0;34m.\u001b[0m\u001b[0m_get_all_features\u001b[0m\u001b[0;34m(\u001b[0m\u001b[0;34m)\u001b[0m\u001b[0;34m\u001b[0m\u001b[0;34m\u001b[0m\u001b[0m\n\u001b[0;32m---> 76\u001b[0;31m         r = self.batch_annotate_images(\n\u001b[0m\u001b[1;32m     77\u001b[0m             \u001b[0mrequests\u001b[0m\u001b[0;34m=\u001b[0m\u001b[0;34m[\u001b[0m\u001b[0mrequest\u001b[0m\u001b[0;34m]\u001b[0m\u001b[0;34m,\u001b[0m \u001b[0mretry\u001b[0m\u001b[0;34m=\u001b[0m\u001b[0mretry\u001b[0m\u001b[0;34m,\u001b[0m \u001b[0mtimeout\u001b[0m\u001b[0;34m=\u001b[0m\u001b[0mtimeout\u001b[0m\u001b[0;34m,\u001b[0m \u001b[0mmetadata\u001b[0m\u001b[0;34m=\u001b[0m\u001b[0mmetadata\u001b[0m\u001b[0;34m\u001b[0m\u001b[0;34m\u001b[0m\u001b[0m\n\u001b[1;32m     78\u001b[0m         )\n",
      "\u001b[0;32m~/yes/envs/hate/lib/python3.8/site-packages/google/cloud/vision_v1/services/image_annotator/client.py\u001b[0m in \u001b[0;36mbatch_annotate_images\u001b[0;34m(self, request, requests, retry, timeout, metadata)\u001b[0m\n\u001b[1;32m    436\u001b[0m \u001b[0;34m\u001b[0m\u001b[0m\n\u001b[1;32m    437\u001b[0m         \u001b[0;31m# Send the request.\u001b[0m\u001b[0;34m\u001b[0m\u001b[0;34m\u001b[0m\u001b[0;34m\u001b[0m\u001b[0m\n\u001b[0;32m--> 438\u001b[0;31m         \u001b[0mresponse\u001b[0m \u001b[0;34m=\u001b[0m \u001b[0mrpc\u001b[0m\u001b[0;34m(\u001b[0m\u001b[0mrequest\u001b[0m\u001b[0;34m,\u001b[0m \u001b[0mretry\u001b[0m\u001b[0;34m=\u001b[0m\u001b[0mretry\u001b[0m\u001b[0;34m,\u001b[0m \u001b[0mtimeout\u001b[0m\u001b[0;34m=\u001b[0m\u001b[0mtimeout\u001b[0m\u001b[0;34m,\u001b[0m \u001b[0mmetadata\u001b[0m\u001b[0;34m=\u001b[0m\u001b[0mmetadata\u001b[0m\u001b[0;34m,\u001b[0m\u001b[0;34m)\u001b[0m\u001b[0;34m\u001b[0m\u001b[0;34m\u001b[0m\u001b[0m\n\u001b[0m\u001b[1;32m    439\u001b[0m \u001b[0;34m\u001b[0m\u001b[0m\n\u001b[1;32m    440\u001b[0m         \u001b[0;31m# Done; return the response.\u001b[0m\u001b[0;34m\u001b[0m\u001b[0;34m\u001b[0m\u001b[0;34m\u001b[0m\u001b[0m\n",
      "\u001b[0;32m~/yes/envs/hate/lib/python3.8/site-packages/google/api_core/gapic_v1/method.py\u001b[0m in \u001b[0;36m__call__\u001b[0;34m(self, timeout, retry, *args, **kwargs)\u001b[0m\n\u001b[1;32m    140\u001b[0m             \u001b[0mkwargs\u001b[0m\u001b[0;34m[\u001b[0m\u001b[0;34m\"metadata\"\u001b[0m\u001b[0;34m]\u001b[0m \u001b[0;34m=\u001b[0m \u001b[0mmetadata\u001b[0m\u001b[0;34m\u001b[0m\u001b[0;34m\u001b[0m\u001b[0m\n\u001b[1;32m    141\u001b[0m \u001b[0;34m\u001b[0m\u001b[0m\n\u001b[0;32m--> 142\u001b[0;31m         \u001b[0;32mreturn\u001b[0m \u001b[0mwrapped_func\u001b[0m\u001b[0;34m(\u001b[0m\u001b[0;34m*\u001b[0m\u001b[0margs\u001b[0m\u001b[0;34m,\u001b[0m \u001b[0;34m**\u001b[0m\u001b[0mkwargs\u001b[0m\u001b[0;34m)\u001b[0m\u001b[0;34m\u001b[0m\u001b[0;34m\u001b[0m\u001b[0m\n\u001b[0m\u001b[1;32m    143\u001b[0m \u001b[0;34m\u001b[0m\u001b[0m\n\u001b[1;32m    144\u001b[0m \u001b[0;34m\u001b[0m\u001b[0m\n",
      "\u001b[0;32m~/yes/envs/hate/lib/python3.8/site-packages/google/api_core/grpc_helpers.py\u001b[0m in \u001b[0;36merror_remapped_callable\u001b[0;34m(*args, **kwargs)\u001b[0m\n\u001b[1;32m     64\u001b[0m     \u001b[0;32mdef\u001b[0m \u001b[0merror_remapped_callable\u001b[0m\u001b[0;34m(\u001b[0m\u001b[0;34m*\u001b[0m\u001b[0margs\u001b[0m\u001b[0;34m,\u001b[0m \u001b[0;34m**\u001b[0m\u001b[0mkwargs\u001b[0m\u001b[0;34m)\u001b[0m\u001b[0;34m:\u001b[0m\u001b[0;34m\u001b[0m\u001b[0;34m\u001b[0m\u001b[0m\n\u001b[1;32m     65\u001b[0m         \u001b[0;32mtry\u001b[0m\u001b[0;34m:\u001b[0m\u001b[0;34m\u001b[0m\u001b[0;34m\u001b[0m\u001b[0m\n\u001b[0;32m---> 66\u001b[0;31m             \u001b[0;32mreturn\u001b[0m \u001b[0mcallable_\u001b[0m\u001b[0;34m(\u001b[0m\u001b[0;34m*\u001b[0m\u001b[0margs\u001b[0m\u001b[0;34m,\u001b[0m \u001b[0;34m**\u001b[0m\u001b[0mkwargs\u001b[0m\u001b[0;34m)\u001b[0m\u001b[0;34m\u001b[0m\u001b[0;34m\u001b[0m\u001b[0m\n\u001b[0m\u001b[1;32m     67\u001b[0m         \u001b[0;32mexcept\u001b[0m \u001b[0mgrpc\u001b[0m\u001b[0;34m.\u001b[0m\u001b[0mRpcError\u001b[0m \u001b[0;32mas\u001b[0m \u001b[0mexc\u001b[0m\u001b[0;34m:\u001b[0m\u001b[0;34m\u001b[0m\u001b[0;34m\u001b[0m\u001b[0m\n\u001b[1;32m     68\u001b[0m             \u001b[0;32mraise\u001b[0m \u001b[0mexceptions\u001b[0m\u001b[0;34m.\u001b[0m\u001b[0mfrom_grpc_error\u001b[0m\u001b[0;34m(\u001b[0m\u001b[0mexc\u001b[0m\u001b[0;34m)\u001b[0m \u001b[0;32mfrom\u001b[0m \u001b[0mexc\u001b[0m\u001b[0;34m\u001b[0m\u001b[0;34m\u001b[0m\u001b[0m\n",
      "\u001b[0;32m~/.local/lib/python3.8/site-packages/grpc/_channel.py\u001b[0m in \u001b[0;36m__call__\u001b[0;34m(self, request, timeout, metadata, credentials, wait_for_ready, compression)\u001b[0m\n\u001b[1;32m    942\u001b[0m                  \u001b[0mwait_for_ready\u001b[0m\u001b[0;34m=\u001b[0m\u001b[0;32mNone\u001b[0m\u001b[0;34m,\u001b[0m\u001b[0;34m\u001b[0m\u001b[0;34m\u001b[0m\u001b[0m\n\u001b[1;32m    943\u001b[0m                  compression=None):\n\u001b[0;32m--> 944\u001b[0;31m         state, call, = self._blocking(request, timeout, metadata, credentials,\n\u001b[0m\u001b[1;32m    945\u001b[0m                                       wait_for_ready, compression)\n\u001b[1;32m    946\u001b[0m         \u001b[0;32mreturn\u001b[0m \u001b[0m_end_unary_response_blocking\u001b[0m\u001b[0;34m(\u001b[0m\u001b[0mstate\u001b[0m\u001b[0;34m,\u001b[0m \u001b[0mcall\u001b[0m\u001b[0;34m,\u001b[0m \u001b[0;32mFalse\u001b[0m\u001b[0;34m,\u001b[0m \u001b[0;32mNone\u001b[0m\u001b[0;34m)\u001b[0m\u001b[0;34m\u001b[0m\u001b[0;34m\u001b[0m\u001b[0m\n",
      "\u001b[0;32m~/.local/lib/python3.8/site-packages/grpc/_channel.py\u001b[0m in \u001b[0;36m_blocking\u001b[0;34m(self, request, timeout, metadata, credentials, wait_for_ready, compression)\u001b[0m\n\u001b[1;32m    931\u001b[0m                     \u001b[0;32mNone\u001b[0m\u001b[0;34m,\u001b[0m\u001b[0;34m\u001b[0m\u001b[0;34m\u001b[0m\u001b[0m\n\u001b[1;32m    932\u001b[0m                 ),), self._context)\n\u001b[0;32m--> 933\u001b[0;31m             \u001b[0mevent\u001b[0m \u001b[0;34m=\u001b[0m \u001b[0mcall\u001b[0m\u001b[0;34m.\u001b[0m\u001b[0mnext_event\u001b[0m\u001b[0;34m(\u001b[0m\u001b[0;34m)\u001b[0m\u001b[0;34m\u001b[0m\u001b[0;34m\u001b[0m\u001b[0m\n\u001b[0m\u001b[1;32m    934\u001b[0m             \u001b[0m_handle_event\u001b[0m\u001b[0;34m(\u001b[0m\u001b[0mevent\u001b[0m\u001b[0;34m,\u001b[0m \u001b[0mstate\u001b[0m\u001b[0;34m,\u001b[0m \u001b[0mself\u001b[0m\u001b[0;34m.\u001b[0m\u001b[0m_response_deserializer\u001b[0m\u001b[0;34m)\u001b[0m\u001b[0;34m\u001b[0m\u001b[0;34m\u001b[0m\u001b[0m\n\u001b[1;32m    935\u001b[0m             \u001b[0;32mreturn\u001b[0m \u001b[0mstate\u001b[0m\u001b[0;34m,\u001b[0m \u001b[0mcall\u001b[0m\u001b[0;34m\u001b[0m\u001b[0;34m\u001b[0m\u001b[0m\n",
      "\u001b[0;32msrc/python/grpcio/grpc/_cython/_cygrpc/channel.pyx.pxi\u001b[0m in \u001b[0;36mgrpc._cython.cygrpc.SegregatedCall.next_event\u001b[0;34m()\u001b[0m\n",
      "\u001b[0;32msrc/python/grpcio/grpc/_cython/_cygrpc/channel.pyx.pxi\u001b[0m in \u001b[0;36mgrpc._cython.cygrpc._next_call_event\u001b[0;34m()\u001b[0m\n",
      "\u001b[0;32msrc/python/grpcio/grpc/_cython/_cygrpc/channel.pyx.pxi\u001b[0m in \u001b[0;36mgrpc._cython.cygrpc._next_call_event\u001b[0;34m()\u001b[0m\n",
      "\u001b[0;32msrc/python/grpcio/grpc/_cython/_cygrpc/completion_queue.pyx.pxi\u001b[0m in \u001b[0;36mgrpc._cython.cygrpc._latent_event\u001b[0;34m()\u001b[0m\n",
      "\u001b[0;32msrc/python/grpcio/grpc/_cython/_cygrpc/credentials.pyx.pxi\u001b[0m in \u001b[0;36mgrpc._cython.cygrpc._get_metadata\u001b[0;34m()\u001b[0m\n",
      "\u001b[0;32msrc/python/grpcio/grpc/_cython/_cygrpc/credentials.pyx.pxi\u001b[0m in \u001b[0;36mgrpc._cython.cygrpc._spawn_callback_async\u001b[0;34m()\u001b[0m\n",
      "\u001b[0;32msrc/python/grpcio/grpc/_cython/_cygrpc/credentials.pyx.pxi\u001b[0m in \u001b[0;36mgrpc._cython.cygrpc._spawn_callback_in_thread\u001b[0;34m()\u001b[0m\n",
      "\u001b[0;32msrc/python/grpcio/grpc/_cython/_cygrpc/fork_posix.pyx.pxi\u001b[0m in \u001b[0;36mgrpc._cython.cygrpc.ForkManagedThread.__init__\u001b[0;34m()\u001b[0m\n",
      "\u001b[0;32m~/yes/envs/hate/lib/python3.8/threading.py\u001b[0m in \u001b[0;36m__init__\u001b[0;34m(self, group, target, name, args, kwargs, daemon)\u001b[0m\n\u001b[1;32m    759\u001b[0m     \u001b[0m_initialized\u001b[0m \u001b[0;34m=\u001b[0m \u001b[0;32mFalse\u001b[0m\u001b[0;34m\u001b[0m\u001b[0;34m\u001b[0m\u001b[0m\n\u001b[1;32m    760\u001b[0m \u001b[0;34m\u001b[0m\u001b[0m\n\u001b[0;32m--> 761\u001b[0;31m     def __init__(self, group=None, target=None, name=None,\n\u001b[0m\u001b[1;32m    762\u001b[0m                  args=(), kwargs=None, *, daemon=None):\n\u001b[1;32m    763\u001b[0m         \"\"\"This constructor should always be called with keyword arguments. Arguments are:\n",
      "\u001b[0;31mKeyboardInterrupt\u001b[0m: "
     ]
    }
   ],
   "source": [
    "df_google = df.copy()\n",
    "\n",
    "tqdm.pandas()\n",
    "df_google['label_pred'] = df_google['img'].progress_apply(\n",
    "    google_vision_api_without_spoof)"
   ]
  },
  {
   "cell_type": "code",
   "execution_count": null,
   "metadata": {
    "collapsed": true
   },
   "outputs": [
    {
     "ename": "KeyError",
     "evalue": "'label_pred'",
     "output_type": "error",
     "traceback": [
      "\u001b[0;31m---------------------------------------------------------------------------\u001b[0m",
      "\u001b[0;31mKeyError\u001b[0m                                  Traceback (most recent call last)",
      "\u001b[0;32m~/yes/envs/hate/lib/python3.8/site-packages/pandas/core/indexes/base.py\u001b[0m in \u001b[0;36mget_loc\u001b[0;34m(self, key, method, tolerance)\u001b[0m\n\u001b[1;32m   3360\u001b[0m             \u001b[0;32mtry\u001b[0m\u001b[0;34m:\u001b[0m\u001b[0;34m\u001b[0m\u001b[0;34m\u001b[0m\u001b[0m\n\u001b[0;32m-> 3361\u001b[0;31m                 \u001b[0;32mreturn\u001b[0m \u001b[0mself\u001b[0m\u001b[0;34m.\u001b[0m\u001b[0m_engine\u001b[0m\u001b[0;34m.\u001b[0m\u001b[0mget_loc\u001b[0m\u001b[0;34m(\u001b[0m\u001b[0mcasted_key\u001b[0m\u001b[0;34m)\u001b[0m\u001b[0;34m\u001b[0m\u001b[0;34m\u001b[0m\u001b[0m\n\u001b[0m\u001b[1;32m   3362\u001b[0m             \u001b[0;32mexcept\u001b[0m \u001b[0mKeyError\u001b[0m \u001b[0;32mas\u001b[0m \u001b[0merr\u001b[0m\u001b[0;34m:\u001b[0m\u001b[0;34m\u001b[0m\u001b[0;34m\u001b[0m\u001b[0m\n",
      "\u001b[0;32m~/yes/envs/hate/lib/python3.8/site-packages/pandas/_libs/index.pyx\u001b[0m in \u001b[0;36mpandas._libs.index.IndexEngine.get_loc\u001b[0;34m()\u001b[0m\n",
      "\u001b[0;32m~/yes/envs/hate/lib/python3.8/site-packages/pandas/_libs/index.pyx\u001b[0m in \u001b[0;36mpandas._libs.index.IndexEngine.get_loc\u001b[0;34m()\u001b[0m\n",
      "\u001b[0;32mpandas/_libs/hashtable_class_helper.pxi\u001b[0m in \u001b[0;36mpandas._libs.hashtable.PyObjectHashTable.get_item\u001b[0;34m()\u001b[0m\n",
      "\u001b[0;32mpandas/_libs/hashtable_class_helper.pxi\u001b[0m in \u001b[0;36mpandas._libs.hashtable.PyObjectHashTable.get_item\u001b[0;34m()\u001b[0m\n",
      "\u001b[0;31mKeyError\u001b[0m: 'label_pred'",
      "\nThe above exception was the direct cause of the following exception:\n",
      "\u001b[0;31mKeyError\u001b[0m                                  Traceback (most recent call last)",
      "\u001b[0;32m/tmp/ipykernel_18182/2512435477.py\u001b[0m in \u001b[0;36m<module>\u001b[0;34m\u001b[0m\n\u001b[0;32m----> 1\u001b[0;31m \u001b[0mdf_google\u001b[0m\u001b[0;34m[\u001b[0m\u001b[0;34m'label_pred'\u001b[0m\u001b[0;34m]\u001b[0m \u001b[0;34m=\u001b[0m \u001b[0mdf_google\u001b[0m\u001b[0;34m[\u001b[0m\u001b[0;34m'label_pred'\u001b[0m\u001b[0;34m]\u001b[0m\u001b[0;34m.\u001b[0m\u001b[0mastype\u001b[0m\u001b[0;34m(\u001b[0m\u001b[0;34m'str'\u001b[0m\u001b[0;34m)\u001b[0m\u001b[0;34m\u001b[0m\u001b[0;34m\u001b[0m\u001b[0m\n\u001b[0m\u001b[1;32m      2\u001b[0m \u001b[0mdf_google\u001b[0m\u001b[0;34m[\u001b[0m\u001b[0;34m[\u001b[0m\u001b[0;34m'pred_adult'\u001b[0m\u001b[0;34m,\u001b[0m\u001b[0;34m'pred_medical'\u001b[0m\u001b[0;34m,\u001b[0m\u001b[0;34m'pred_viol'\u001b[0m\u001b[0;34m,\u001b[0m\u001b[0;34m'pred_racy'\u001b[0m\u001b[0;34m]\u001b[0m\u001b[0;34m]\u001b[0m \u001b[0;34m=\u001b[0m \u001b[0mdf_google\u001b[0m\u001b[0;34m[\u001b[0m\u001b[0;34m'label_pred'\u001b[0m\u001b[0;34m]\u001b[0m\u001b[0;34m.\u001b[0m\u001b[0mstr\u001b[0m\u001b[0;34m.\u001b[0m\u001b[0msplit\u001b[0m\u001b[0;34m(\u001b[0m\u001b[0;34m','\u001b[0m\u001b[0;34m,\u001b[0m\u001b[0mexpand\u001b[0m\u001b[0;34m=\u001b[0m\u001b[0;32mTrue\u001b[0m\u001b[0;34m)\u001b[0m\u001b[0;34m\u001b[0m\u001b[0;34m\u001b[0m\u001b[0m\n",
      "\u001b[0;32m~/yes/envs/hate/lib/python3.8/site-packages/pandas/core/frame.py\u001b[0m in \u001b[0;36m__getitem__\u001b[0;34m(self, key)\u001b[0m\n\u001b[1;32m   3456\u001b[0m             \u001b[0;32mif\u001b[0m \u001b[0mself\u001b[0m\u001b[0;34m.\u001b[0m\u001b[0mcolumns\u001b[0m\u001b[0;34m.\u001b[0m\u001b[0mnlevels\u001b[0m \u001b[0;34m>\u001b[0m \u001b[0;36m1\u001b[0m\u001b[0;34m:\u001b[0m\u001b[0;34m\u001b[0m\u001b[0;34m\u001b[0m\u001b[0m\n\u001b[1;32m   3457\u001b[0m                 \u001b[0;32mreturn\u001b[0m \u001b[0mself\u001b[0m\u001b[0;34m.\u001b[0m\u001b[0m_getitem_multilevel\u001b[0m\u001b[0;34m(\u001b[0m\u001b[0mkey\u001b[0m\u001b[0;34m)\u001b[0m\u001b[0;34m\u001b[0m\u001b[0;34m\u001b[0m\u001b[0m\n\u001b[0;32m-> 3458\u001b[0;31m             \u001b[0mindexer\u001b[0m \u001b[0;34m=\u001b[0m \u001b[0mself\u001b[0m\u001b[0;34m.\u001b[0m\u001b[0mcolumns\u001b[0m\u001b[0;34m.\u001b[0m\u001b[0mget_loc\u001b[0m\u001b[0;34m(\u001b[0m\u001b[0mkey\u001b[0m\u001b[0;34m)\u001b[0m\u001b[0;34m\u001b[0m\u001b[0;34m\u001b[0m\u001b[0m\n\u001b[0m\u001b[1;32m   3459\u001b[0m             \u001b[0;32mif\u001b[0m \u001b[0mis_integer\u001b[0m\u001b[0;34m(\u001b[0m\u001b[0mindexer\u001b[0m\u001b[0;34m)\u001b[0m\u001b[0;34m:\u001b[0m\u001b[0;34m\u001b[0m\u001b[0;34m\u001b[0m\u001b[0m\n\u001b[1;32m   3460\u001b[0m                 \u001b[0mindexer\u001b[0m \u001b[0;34m=\u001b[0m \u001b[0;34m[\u001b[0m\u001b[0mindexer\u001b[0m\u001b[0;34m]\u001b[0m\u001b[0;34m\u001b[0m\u001b[0;34m\u001b[0m\u001b[0m\n",
      "\u001b[0;32m~/yes/envs/hate/lib/python3.8/site-packages/pandas/core/indexes/base.py\u001b[0m in \u001b[0;36mget_loc\u001b[0;34m(self, key, method, tolerance)\u001b[0m\n\u001b[1;32m   3361\u001b[0m                 \u001b[0;32mreturn\u001b[0m \u001b[0mself\u001b[0m\u001b[0;34m.\u001b[0m\u001b[0m_engine\u001b[0m\u001b[0;34m.\u001b[0m\u001b[0mget_loc\u001b[0m\u001b[0;34m(\u001b[0m\u001b[0mcasted_key\u001b[0m\u001b[0;34m)\u001b[0m\u001b[0;34m\u001b[0m\u001b[0;34m\u001b[0m\u001b[0m\n\u001b[1;32m   3362\u001b[0m             \u001b[0;32mexcept\u001b[0m \u001b[0mKeyError\u001b[0m \u001b[0;32mas\u001b[0m \u001b[0merr\u001b[0m\u001b[0;34m:\u001b[0m\u001b[0;34m\u001b[0m\u001b[0;34m\u001b[0m\u001b[0m\n\u001b[0;32m-> 3363\u001b[0;31m                 \u001b[0;32mraise\u001b[0m \u001b[0mKeyError\u001b[0m\u001b[0;34m(\u001b[0m\u001b[0mkey\u001b[0m\u001b[0;34m)\u001b[0m \u001b[0;32mfrom\u001b[0m \u001b[0merr\u001b[0m\u001b[0;34m\u001b[0m\u001b[0;34m\u001b[0m\u001b[0m\n\u001b[0m\u001b[1;32m   3364\u001b[0m \u001b[0;34m\u001b[0m\u001b[0m\n\u001b[1;32m   3365\u001b[0m         \u001b[0;32mif\u001b[0m \u001b[0mis_scalar\u001b[0m\u001b[0;34m(\u001b[0m\u001b[0mkey\u001b[0m\u001b[0;34m)\u001b[0m \u001b[0;32mand\u001b[0m \u001b[0misna\u001b[0m\u001b[0;34m(\u001b[0m\u001b[0mkey\u001b[0m\u001b[0;34m)\u001b[0m \u001b[0;32mand\u001b[0m \u001b[0;32mnot\u001b[0m \u001b[0mself\u001b[0m\u001b[0;34m.\u001b[0m\u001b[0mhasnans\u001b[0m\u001b[0;34m:\u001b[0m\u001b[0;34m\u001b[0m\u001b[0;34m\u001b[0m\u001b[0m\n",
      "\u001b[0;31mKeyError\u001b[0m: 'label_pred'"
     ]
    }
   ],
   "source": [
    "df_google['label_pred'] = df_google['label_pred'].astype('str')\n",
    "df_google[['pred_adult', 'pred_medical', 'pred_viol', 'pred_racy']\n",
    "          ] = df_google['label_pred'].str.split(',', expand=True)"
   ]
  },
  {
   "cell_type": "code",
   "execution_count": null,
   "metadata": {},
   "outputs": [],
   "source": [
    "df_google['pred_adult'] = df_google['pred_adult'].replace(\n",
    "    to_replace='\\(', value=\"\", regex=True)\n",
    "df_google['pred_racy'] = df_google['pred_racy'].replace(\n",
    "    to_replace='\\)', value=\"\", regex=True)\n",
    "df_google['pred_adult'] = df_google['pred_adult'].apply(int)\n",
    "df_google['pred_medical'] = df_google['pred_medical'].apply(int)\n",
    "df_google['pred_viol'] = df_google['pred_viol'].apply(int)\n",
    "df_google['pred_racy'] = df_google['pred_racy'].apply(int)"
   ]
  },
  {
   "cell_type": "code",
   "execution_count": null,
   "metadata": {
    "collapsed": true
   },
   "outputs": [
    {
     "name": "stdout",
     "output_type": "stream",
     "text": [
      "        id                                           img  label  pred_adult  \\\n",
      "0     1438  ./annot_2000_no_politics/EQw2J_mX0AAxvoq.jpg      1           1   \n",
      "1      172  ./annot_2000_no_politics/EWAuxVaWkAIv7Nv.jpg      0           1   \n",
      "2     2156         ./annot_3000_hate/EeoBkhCXoAAc5IQ.jpg      0           2   \n",
      "3     2749         ./annot_3000_hate/EgbTs6AWsAAHAj9.jpg      1           1   \n",
      "4      738  ./annot_2000_no_politics/E0KvNiSVIAQ4vZR.jpg      1           1   \n",
      "...    ...                                           ...    ...         ...   \n",
      "4995   853         ./annot_3000_hate/EfQTejhX0AIt7Hp.jpg      1           1   \n",
      "4996  1291  ./annot_2000_no_politics/EoOmgneWEAAkSy3.jpg      0           1   \n",
      "4997  2136         ./annot_3000_hate/Et4HU8vUcAEY7y5.jpg      0           1   \n",
      "4998   516         ./annot_3000_hate/EUt652pUYAEkpdI.jpg      0           1   \n",
      "4999  1540  ./annot_2000_no_politics/EeqFVFTXYAA3Bs1.jpg      0           1   \n",
      "\n",
      "      pred_medical  pred_viol  pred_racy  \n",
      "0                1          2          1  \n",
      "1                1          1          2  \n",
      "2                2          2          2  \n",
      "3                1          2          1  \n",
      "4                2          2          1  \n",
      "...            ...        ...        ...  \n",
      "4995             2          1          1  \n",
      "4996             1          1          1  \n",
      "4997             1          1          2  \n",
      "4998             1          2          1  \n",
      "4999             1          2          1  \n",
      "\n",
      "[5000 rows x 7 columns]\n"
     ]
    }
   ],
   "source": [
    "df_google = df_google.drop(columns=['label_pred'])\n",
    "# print(df_google)"
   ]
  },
  {
   "cell_type": "code",
   "execution_count": null,
   "metadata": {
    "ExecuteTime": {
     "end_time": "2021-10-05T03:33:30.059327Z",
     "start_time": "2021-10-05T03:33:15.256634Z"
    },
    "collapsed": true,
    "tags": []
   },
   "outputs": [
    {
     "name": "stdout",
     "output_type": "stream",
     "text": [
      "        id                                           img  label  pred_adult  \\\n",
      "0     1438  ./annot_2000_no_politics/EQw2J_mX0AAxvoq.jpg      1           1   \n",
      "1      172  ./annot_2000_no_politics/EWAuxVaWkAIv7Nv.jpg      0           1   \n",
      "2     2156         ./annot_3000_hate/EeoBkhCXoAAc5IQ.jpg      0           2   \n",
      "3     2749         ./annot_3000_hate/EgbTs6AWsAAHAj9.jpg      1           1   \n",
      "4      738  ./annot_2000_no_politics/E0KvNiSVIAQ4vZR.jpg      1           1   \n",
      "...    ...                                           ...    ...         ...   \n",
      "4995   853         ./annot_3000_hate/EfQTejhX0AIt7Hp.jpg      1           1   \n",
      "4996  1291  ./annot_2000_no_politics/EoOmgneWEAAkSy3.jpg      0           1   \n",
      "4997  2136         ./annot_3000_hate/Et4HU8vUcAEY7y5.jpg      0           1   \n",
      "4998   516         ./annot_3000_hate/EUt652pUYAEkpdI.jpg      0           1   \n",
      "4999  1540  ./annot_2000_no_politics/EeqFVFTXYAA3Bs1.jpg      0           1   \n",
      "\n",
      "      pred_medical  pred_viol  pred_racy  \n",
      "0                1          2          1  \n",
      "1                1          1          2  \n",
      "2                2          2          2  \n",
      "3                1          2          1  \n",
      "4                2          2          1  \n",
      "...            ...        ...        ...  \n",
      "4995             2          1          1  \n",
      "4996             1          1          1  \n",
      "4997             1          1          2  \n",
      "4998             1          2          1  \n",
      "4999             1          2          1  \n",
      "\n",
      "[5000 rows x 7 columns]\n"
     ]
    }
   ],
   "source": [
    "# save the result to './results/df_google.csv'\n",
    "df_google.to_csv('./results/df_google.csv')\n",
    "print(df_google)"
   ]
  },
  {
   "cell_type": "code",
   "execution_count": 10,
   "metadata": {
    "ExecuteTime": {
     "end_time": "2021-10-07T02:17:31.660361Z",
     "start_time": "2021-10-07T02:17:31.643133Z"
    },
    "collapsed": true
   },
   "outputs": [
    {
     "name": "stdout",
     "output_type": "stream",
     "text": [
      "      Unnamed: 0    id                                           img  label  \\\n",
      "0              0  1438  ./annot_2000_no_politics/EQw2J_mX0AAxvoq.jpg      1   \n",
      "1              1   172  ./annot_2000_no_politics/EWAuxVaWkAIv7Nv.jpg      0   \n",
      "2              2  2156         ./annot_3000_hate/EeoBkhCXoAAc5IQ.jpg      0   \n",
      "3              3  2749         ./annot_3000_hate/EgbTs6AWsAAHAj9.jpg      1   \n",
      "4              4   738  ./annot_2000_no_politics/E0KvNiSVIAQ4vZR.jpg      1   \n",
      "...          ...   ...                                           ...    ...   \n",
      "4995        4995   853         ./annot_3000_hate/EfQTejhX0AIt7Hp.jpg      1   \n",
      "4996        4996  1291  ./annot_2000_no_politics/EoOmgneWEAAkSy3.jpg      0   \n",
      "4997        4997  2136         ./annot_3000_hate/Et4HU8vUcAEY7y5.jpg      0   \n",
      "4998        4998   516         ./annot_3000_hate/EUt652pUYAEkpdI.jpg      0   \n",
      "4999        4999  1540  ./annot_2000_no_politics/EeqFVFTXYAA3Bs1.jpg      0   \n",
      "\n",
      "      pred_adult  pred_medical  pred_viol  pred_racy  \n",
      "0              1             1          2          1  \n",
      "1              1             1          1          2  \n",
      "2              2             2          2          2  \n",
      "3              1             1          2          1  \n",
      "4              1             2          2          1  \n",
      "...          ...           ...        ...        ...  \n",
      "4995           1             2          1          1  \n",
      "4996           1             1          1          1  \n",
      "4997           1             1          1          2  \n",
      "4998           1             1          2          1  \n",
      "4999           1             1          2          1  \n",
      "\n",
      "[5000 rows x 8 columns]\n"
     ]
    }
   ],
   "source": [
    "df_test = pd.read_csv('./results/df_google.csv')\n",
    "print(df_test)"
   ]
  },
  {
   "cell_type": "markdown",
   "metadata": {},
   "source": [
    "### Define the safety criteria"
   ]
  },
  {
   "cell_type": "code",
   "execution_count": 11,
   "metadata": {
    "ExecuteTime": {
     "end_time": "2021-10-07T02:17:38.352225Z",
     "start_time": "2021-10-07T02:17:38.337420Z"
    }
   },
   "outputs": [
    {
     "data": {
      "text/plain": [
       "0    4850\n",
       "1     150\n",
       "Name: pre_label, dtype: int64"
      ]
     },
     "execution_count": 11,
     "metadata": {},
     "output_type": "execute_result"
    }
   ],
   "source": [
    "# if safe.adult > 3 or safe.medical > 3 or safe.violence > 3 or safe.racy > 3, we record it as 1 which means unsafe\n",
    "df_test['pre_label'] = df_test[['pred_adult',\n",
    "                                'pred_medical', 'pred_viol', 'pred_racy']].max(axis=1)\n",
    "df_test['pre_label'] = df_test['pre_label'].apply(lambda x: 1 if x > 3 else 0)\n",
    "# check the number of unsafe labels from google\n",
    "df_test['pre_label'].value_counts()"
   ]
  },
  {
   "cell_type": "markdown",
   "metadata": {},
   "source": [
    "### Get the report"
   ]
  },
  {
   "cell_type": "code",
   "execution_count": 39,
   "metadata": {
    "ExecuteTime": {
     "end_time": "2021-10-07T02:35:26.414339Z",
     "start_time": "2021-10-07T02:35:26.406157Z"
    }
   },
   "outputs": [
    {
     "name": "stdout",
     "output_type": "stream",
     "text": [
      "Classification Report for Google Cloud Vision API:\n"
     ]
    }
   ],
   "source": [
    "print('Classification Report for Google Cloud Vision API:')\n",
    "target_names = ['safe', 'not-safe']\n",
    "metricsr_google = metrics.classification_report(\n",
    "    df_test['label'], df_test['pre_label'], target_names=target_names, digits=4)"
   ]
  },
  {
   "cell_type": "code",
   "execution_count": 40,
   "metadata": {
    "ExecuteTime": {
     "end_time": "2021-10-07T02:35:38.079695Z",
     "start_time": "2021-10-07T02:35:38.076890Z"
    }
   },
   "outputs": [
    {
     "name": "stdout",
     "output_type": "stream",
     "text": [
      "              precision    recall  f1-score   support\n",
      "\n",
      "        safe     0.7332    0.9719    0.8358      3659\n",
      "    not-safe     0.3133    0.0350    0.0630      1341\n",
      "\n",
      "    accuracy                         0.7206      5000\n",
      "   macro avg     0.5233    0.5034    0.4494      5000\n",
      "weighted avg     0.6206    0.7206    0.6286      5000\n",
      "\n"
     ]
    }
   ],
   "source": [
    "print(metricsr_google)"
   ]
  },
  {
   "cell_type": "markdown",
   "metadata": {},
   "source": [
    "## Yahoo Open NSFW"
   ]
  },
  {
   "cell_type": "code",
   "execution_count": null,
   "metadata": {
    "collapsed": true
   },
   "outputs": [
    {
     "name": "stdout",
     "output_type": "stream",
     "text": [
      "Classification Report for Yahoo Open NSFW:\n",
      "              precision    recall  f1-score   support\n",
      "\n",
      "        safe     0.5051    0.9802    0.6667       253\n",
      "    not-safe     0.4444    0.0162    0.0312       247\n",
      "\n",
      "    accuracy                         0.5040       500\n",
      "   macro avg     0.4748    0.4982    0.3490       500\n",
      "weighted avg     0.4751    0.5040    0.3528       500\n",
      "\n"
     ]
    }
   ],
   "source": [
    "print('Classification Report for Yahoo Open NSFW:')\n",
    "df_yahoo = pd.read_csv('./results/df_yahoo.csv')\n",
    "df_yahoo['pred_yh'] = df_yahoo['pred_yh_value'].apply(\n",
    "    lambda x: 1 if x >= 0.5 else 0)\n",
    "target_names = ['safe', 'not-safe']\n",
    "print(metrics.classification_report(\n",
    "    df_yahoo['label'], df_yahoo['pred_yh'], target_names=target_names, digits=4))"
   ]
  },
  {
   "cell_type": "markdown",
   "metadata": {},
   "source": [
    "## Clarifai NSFW API"
   ]
  },
  {
   "cell_type": "code",
   "execution_count": 4,
   "metadata": {
    "ExecuteTime": {
     "end_time": "2021-10-07T01:56:25.409564Z",
     "start_time": "2021-10-07T01:56:25.406286Z"
    }
   },
   "outputs": [
    {
     "name": "stdout",
     "output_type": "stream",
     "text": [
      "env: GRPC_DEFAULT_SSL_ROOTS_FILE_PATH=/home/keyan/jupter/hateful_memes-main/roots.pem\n"
     ]
    }
   ],
   "source": [
    "%env GRPC_DEFAULT_SSL_ROOTS_FILE_PATH = /home/keyan/jupter/hateful_memes-main/roots.pem"
   ]
  },
  {
   "cell_type": "code",
   "execution_count": 5,
   "metadata": {
    "ExecuteTime": {
     "end_time": "2021-10-07T01:56:26.145239Z",
     "start_time": "2021-10-07T01:56:26.124840Z"
    }
   },
   "outputs": [],
   "source": [
    "from clarifai_grpc.channel.clarifai_channel import ClarifaiChannel\n",
    "from clarifai_grpc.grpc.api import resources_pb2, service_pb2, service_pb2_grpc\n",
    "from clarifai_grpc.grpc.api.status import status_pb2, status_code_pb2\n",
    "\n",
    "channel = ClarifaiChannel.get_grpc_channel()\n",
    "stub = service_pb2_grpc.V2Stub(channel)\n",
    "metadata = (('authorization', api_keys.CLARIFAI_API_KEY),)"
   ]
  },
  {
   "cell_type": "code",
   "execution_count": 6,
   "metadata": {
    "ExecuteTime": {
     "end_time": "2021-10-07T01:56:27.184038Z",
     "start_time": "2021-10-07T01:56:27.180286Z"
    }
   },
   "outputs": [],
   "source": [
    "def clarifai_api(path):\n",
    "    time.sleep(0.2)\n",
    "    with open(path, \"rb\") as f:\n",
    "        file_bytes = f.read()\n",
    "\n",
    "    request = service_pb2.PostModelOutputsRequest(\n",
    "        # This is the model ID of a publicly available General model.\n",
    "        # You may use any other public or custom model ID.\n",
    "        model_id='e9576d86d2004ed1a38ba0cf39ecb4b1',\n",
    "        inputs=[\n",
    "            resources_pb2.Input(\n",
    "                data=resources_pb2.Data(\n",
    "                    image=resources_pb2.Image(\n",
    "                        base64=file_bytes\n",
    "                    )\n",
    "                )\n",
    "            )\n",
    "        ])\n",
    "    response = stub.PostModelOutputs(request, metadata=metadata)\n",
    "\n",
    "    if response.status.code != status_code_pb2.SUCCESS:\n",
    "        raise Exception(\"Post model outputs failed, status: \" +\n",
    "                        response.status.description)\n",
    "    # for concept in response.outputs[0].data.concepts:\n",
    "    #     print('%12s: %.2f' % (concept.name, concept.value))\n",
    "\n",
    "    # if response.outputs[0].data.concepts[1].value >= 0.4:\n",
    "    #     print('Image: {}, Offensive: {:.2f}'.format(path, response.outputs[0].data.concepts[1].value))\n",
    "    # else:\n",
    "    #     print('Image: {}, not-Offensive: {:.2f}'.format(path, response.outputs[0].data.concepts[1].value))\n",
    "\n",
    "    return response.outputs[0].data.concepts[1].name, response.outputs[0].data.concepts[1].value"
   ]
  },
  {
   "cell_type": "code",
   "execution_count": 7,
   "metadata": {
    "ExecuteTime": {
     "end_time": "2021-10-07T01:56:29.718867Z",
     "start_time": "2021-10-07T01:56:29.717463Z"
    }
   },
   "outputs": [],
   "source": [
    "df_clarifai = df.copy()\n",
    "header = [\"id\", \"img\", \"label\"]\n",
    "df_clarifai.to_csv('./df_clarifai.csv', columns=header)\n",
    "print(df_clarifai)"
   ]
  },
  {
   "cell_type": "code",
   "execution_count": 8,
   "metadata": {
    "ExecuteTime": {
     "end_time": "2021-10-07T01:56:31.151063Z",
     "start_time": "2021-10-07T01:56:31.144019Z"
    }
   },
   "outputs": [],
   "source": [
    "df_c = pd.read_csv('./df_clarifai.csv')\n",
    "df_c = df_c.loc[:, ~df_c.columns.str.contains('^Unnamed')]\n",
    "# print(df_c)"
   ]
  },
  {
   "cell_type": "code",
   "execution_count": 9,
   "metadata": {
    "ExecuteTime": {
     "end_time": "2021-10-07T01:56:31.887102Z",
     "start_time": "2021-10-07T01:56:31.883966Z"
    }
   },
   "outputs": [],
   "source": [
    "df_c1 = df_c[:500]\n",
    "df_c2 = df_c[500:1000]\n",
    "df_c3 = df_c[1000:1500]\n",
    "df_c4 = df_c[1500:2000]\n",
    "df_c5 = df_c[2000:2500]\n",
    "df_c6 = df_c[2500:3000]\n",
    "df_c7 = df_c[3000:3500]\n",
    "df_c8 = df_c[3500:4000]\n",
    "df_c9 = df_c[4000:4500]\n",
    "df_c10 = df_c[4500:5000]\n",
    "\n",
    "# df_c10"
   ]
  },
  {
   "cell_type": "code",
   "execution_count": 11,
   "metadata": {
    "ExecuteTime": {
     "end_time": "2021-10-07T02:00:56.574720Z",
     "start_time": "2021-10-07T01:56:40.166352Z"
    }
   },
   "outputs": [
    {
     "data": {
      "application/vnd.jupyter.widget-view+json": {
       "model_id": "d9db4798ec5644689e5951be89d23c56",
       "version_major": 2,
       "version_minor": 0
      },
      "text/plain": [
       "  0%|          | 0/500 [00:00<?, ?it/s]"
      ]
     },
     "metadata": {},
     "output_type": "display_data"
    },
    {
     "name": "stderr",
     "output_type": "stream",
     "text": [
      "/tmp/ipykernel_186104/2761523870.py:1: SettingWithCopyWarning: \n",
      "A value is trying to be set on a copy of a slice from a DataFrame.\n",
      "Try using .loc[row_indexer,col_indexer] = value instead\n",
      "\n",
      "See the caveats in the documentation: https://pandas.pydata.org/pandas-docs/stable/user_guide/indexing.html#returning-a-view-versus-a-copy\n",
      "  df_c10['pred_cf'] = df_c10['img'].progress_apply(clarifai_api)\n"
     ]
    }
   ],
   "source": [
    "tqdm.pandas()\n",
    "df_c1['pred_cf'] = df_c1['img'].progress_apply(clarifai_api)\n",
    "df_c1.to_csv('./results/df_clarifai.csv')\n",
    "df_c2['pred_cf'] = df_c2['img'].progress_apply(clarifai_api)\n",
    "df_c2.to_csv('./results/df_clarifai.csv', mode='a', header=False)\n",
    "df_c3['pred_cf'] = df_c3['img'].progress_apply(clarifai_api)\n",
    "df_c3.to_csv('./results/df_clarifai.csv', mode='a', header=False)\n",
    "df_c4['pred_cf'] = df_c4['img'].progress_apply(clarifai_api)\n",
    "df_c4.to_csv('./results/df_clarifai.csv', mode='a', header=False)\n",
    "df_c5['pred_cf'] = df_c5['img'].progress_apply(clarifai_api)\n",
    "df_c5.to_csv('./results/df_clarifai.csv', mode='a', header=False)\n",
    "df_c6['pred_cf'] = df_c6['img'].progress_apply(clarifai_api)\n",
    "df_c6.to_csv('./results/df_clarifai.csv', mode='a', header=False)\n",
    "df_c7['pred_cf'] = df_c7['img'].progress_apply(clarifai_api)\n",
    "df_c7.to_csv('./results/df_clarifai.csv', mode='a', header=False)\n",
    "df_c8['pred_cf'] = df_c8['img'].progress_apply(clarifai_api)\n",
    "df_c8.to_csv('./results/df_clarifai.csv', mode='a', header=False)\n",
    "df_c9['pred_cf'] = df_c9['img'].progress_apply(clarifai_api)\n",
    "df_c9.to_csv('./results/df_clarifai.csv', mode='a', header=False)\n",
    "\n",
    "df_c10['pred_cf'] = df_c10['img'].progress_apply(clarifai_api)\n",
    "df_c10.to_csv('./results/df_clarifai.csv', mode='a', header=False)"
   ]
  },
  {
   "cell_type": "code",
   "execution_count": 13,
   "metadata": {
    "ExecuteTime": {
     "end_time": "2021-10-07T02:18:39.276874Z",
     "start_time": "2021-10-07T02:18:39.268410Z"
    }
   },
   "outputs": [],
   "source": [
    "df_clarifai = pd.read_csv('./results/df_clarifai.csv')\n",
    "df_clarifai = df_clarifai.loc[:, ~df_clarifai.columns.str.contains('^Unnamed')]"
   ]
  },
  {
   "cell_type": "code",
   "execution_count": 14,
   "metadata": {
    "ExecuteTime": {
     "end_time": "2021-10-07T02:18:40.082868Z",
     "start_time": "2021-10-07T02:18:40.075587Z"
    }
   },
   "outputs": [],
   "source": [
    "df_clarifai[['nsfw', 'pred_cf']\n",
    "            ] = df_clarifai['pred_cf'].str.split(',', expand=True)"
   ]
  },
  {
   "cell_type": "code",
   "execution_count": 15,
   "metadata": {
    "ExecuteTime": {
     "end_time": "2021-10-07T02:18:41.308782Z",
     "start_time": "2021-10-07T02:18:41.286941Z"
    }
   },
   "outputs": [
    {
     "data": {
      "text/html": [
       "<div>\n",
       "<style scoped>\n",
       "    .dataframe tbody tr th:only-of-type {\n",
       "        vertical-align: middle;\n",
       "    }\n",
       "\n",
       "    .dataframe tbody tr th {\n",
       "        vertical-align: top;\n",
       "    }\n",
       "\n",
       "    .dataframe thead th {\n",
       "        text-align: right;\n",
       "    }\n",
       "</style>\n",
       "<table border=\"1\" class=\"dataframe\">\n",
       "  <thead>\n",
       "    <tr style=\"text-align: right;\">\n",
       "      <th></th>\n",
       "      <th>id</th>\n",
       "      <th>img</th>\n",
       "      <th>label</th>\n",
       "      <th>pred_cf</th>\n",
       "      <th>pred_clar</th>\n",
       "    </tr>\n",
       "  </thead>\n",
       "  <tbody>\n",
       "    <tr>\n",
       "      <th>0</th>\n",
       "      <td>1317</td>\n",
       "      <td>./annot_2000_no_politics/EVEgUxfUYAAFz5L.jpg</td>\n",
       "      <td>1</td>\n",
       "      <td>0.000046</td>\n",
       "      <td>0</td>\n",
       "    </tr>\n",
       "    <tr>\n",
       "      <th>1</th>\n",
       "      <td>722</td>\n",
       "      <td>./annot_2000_no_politics/ERDWtP3UwAAfSLg.jpg</td>\n",
       "      <td>1</td>\n",
       "      <td>0.001216</td>\n",
       "      <td>0</td>\n",
       "    </tr>\n",
       "    <tr>\n",
       "      <th>2</th>\n",
       "      <td>1318</td>\n",
       "      <td>./annot_3000_hate/Eo9S0_AWEAET-QR.jpg</td>\n",
       "      <td>1</td>\n",
       "      <td>0.024454</td>\n",
       "      <td>0</td>\n",
       "    </tr>\n",
       "    <tr>\n",
       "      <th>3</th>\n",
       "      <td>1085</td>\n",
       "      <td>./annot_3000_hate/EUhm9iIXkAEmJ4-.jpg</td>\n",
       "      <td>1</td>\n",
       "      <td>0.026894</td>\n",
       "      <td>0</td>\n",
       "    </tr>\n",
       "    <tr>\n",
       "      <th>4</th>\n",
       "      <td>892</td>\n",
       "      <td>./annot_3000_hate/Ezp3meCVgAUYnQj.jpg</td>\n",
       "      <td>0</td>\n",
       "      <td>0.001515</td>\n",
       "      <td>0</td>\n",
       "    </tr>\n",
       "    <tr>\n",
       "      <th>...</th>\n",
       "      <td>...</td>\n",
       "      <td>...</td>\n",
       "      <td>...</td>\n",
       "      <td>...</td>\n",
       "      <td>...</td>\n",
       "    </tr>\n",
       "    <tr>\n",
       "      <th>4995</th>\n",
       "      <td>1220</td>\n",
       "      <td>./annot_2000_no_politics/EgFX2dqWsAASgr7.jpg</td>\n",
       "      <td>1</td>\n",
       "      <td>0.006097</td>\n",
       "      <td>0</td>\n",
       "    </tr>\n",
       "    <tr>\n",
       "      <th>4996</th>\n",
       "      <td>481</td>\n",
       "      <td>./annot_3000_hate/Efpt2BuUwAEDoTA.jpg</td>\n",
       "      <td>0</td>\n",
       "      <td>0.010203</td>\n",
       "      <td>0</td>\n",
       "    </tr>\n",
       "    <tr>\n",
       "      <th>4997</th>\n",
       "      <td>1318</td>\n",
       "      <td>./annot_2000_no_politics/Etcg2D9WYAESDcn.jpg</td>\n",
       "      <td>0</td>\n",
       "      <td>0.000703</td>\n",
       "      <td>0</td>\n",
       "    </tr>\n",
       "    <tr>\n",
       "      <th>4998</th>\n",
       "      <td>504</td>\n",
       "      <td>./annot_2000_no_politics/EUnKbolXgAUeXXy.jpg</td>\n",
       "      <td>0</td>\n",
       "      <td>0.008061</td>\n",
       "      <td>0</td>\n",
       "    </tr>\n",
       "    <tr>\n",
       "      <th>4999</th>\n",
       "      <td>928</td>\n",
       "      <td>./annot_2000_no_politics/EVfYtvRU4AIqEuH.jpg</td>\n",
       "      <td>1</td>\n",
       "      <td>0.098477</td>\n",
       "      <td>0</td>\n",
       "    </tr>\n",
       "  </tbody>\n",
       "</table>\n",
       "<p>5000 rows × 5 columns</p>\n",
       "</div>"
      ],
      "text/plain": [
       "        id                                           img  label   pred_cf  \\\n",
       "0     1317  ./annot_2000_no_politics/EVEgUxfUYAAFz5L.jpg      1  0.000046   \n",
       "1      722  ./annot_2000_no_politics/ERDWtP3UwAAfSLg.jpg      1  0.001216   \n",
       "2     1318         ./annot_3000_hate/Eo9S0_AWEAET-QR.jpg      1  0.024454   \n",
       "3     1085         ./annot_3000_hate/EUhm9iIXkAEmJ4-.jpg      1  0.026894   \n",
       "4      892         ./annot_3000_hate/Ezp3meCVgAUYnQj.jpg      0  0.001515   \n",
       "...    ...                                           ...    ...       ...   \n",
       "4995  1220  ./annot_2000_no_politics/EgFX2dqWsAASgr7.jpg      1  0.006097   \n",
       "4996   481         ./annot_3000_hate/Efpt2BuUwAEDoTA.jpg      0  0.010203   \n",
       "4997  1318  ./annot_2000_no_politics/Etcg2D9WYAESDcn.jpg      0  0.000703   \n",
       "4998   504  ./annot_2000_no_politics/EUnKbolXgAUeXXy.jpg      0  0.008061   \n",
       "4999   928  ./annot_2000_no_politics/EVfYtvRU4AIqEuH.jpg      1  0.098477   \n",
       "\n",
       "      pred_clar  \n",
       "0             0  \n",
       "1             0  \n",
       "2             0  \n",
       "3             0  \n",
       "4             0  \n",
       "...         ...  \n",
       "4995          0  \n",
       "4996          0  \n",
       "4997          0  \n",
       "4998          0  \n",
       "4999          0  \n",
       "\n",
       "[5000 rows x 5 columns]"
      ]
     },
     "execution_count": 15,
     "metadata": {},
     "output_type": "execute_result"
    }
   ],
   "source": [
    "df_clarifai = df_clarifai.drop(columns='nsfw')\n",
    "df_clarifai['pred_cf'] = df_clarifai['pred_cf'].replace(\n",
    "    to_replace='\\)', value=\"\", regex=True)\n",
    "# We set the threashold as 0.5\n",
    "df_clarifai['pred_cf'] = df_clarifai['pred_cf'].apply(float)\n",
    "df_clarifai['pred_clar'] = df_clarifai['pred_cf'].apply(\n",
    "    lambda x: 1 if x >= 0.4 else 0)\n",
    "df_clarifai"
   ]
  },
  {
   "cell_type": "code",
   "execution_count": 37,
   "metadata": {
    "ExecuteTime": {
     "end_time": "2021-10-07T02:34:53.783698Z",
     "start_time": "2021-10-07T02:34:53.775336Z"
    }
   },
   "outputs": [
    {
     "name": "stdout",
     "output_type": "stream",
     "text": [
      "Classification Report for Clarifai NSFW API:\n"
     ]
    }
   ],
   "source": [
    "print('Classification Report for Clarifai NSFW API:')\n",
    "target_names = ['safe', 'not-safe']\n",
    "metrics_clarifai = metrics.classification_report(\n",
    "    df_clarifai['label'], df_clarifai['pred_clar'], target_names=target_names, digits=4)"
   ]
  },
  {
   "cell_type": "code",
   "execution_count": 38,
   "metadata": {
    "ExecuteTime": {
     "end_time": "2021-10-07T02:35:01.288258Z",
     "start_time": "2021-10-07T02:35:01.286135Z"
    }
   },
   "outputs": [
    {
     "name": "stdout",
     "output_type": "stream",
     "text": [
      "              precision    recall  f1-score   support\n",
      "\n",
      "        safe     0.7328    0.9954    0.8441      3659\n",
      "    not-safe     0.4333    0.0097    0.0190      1341\n",
      "\n",
      "    accuracy                         0.7310      5000\n",
      "   macro avg     0.5831    0.5025    0.4315      5000\n",
      "weighted avg     0.6525    0.7310    0.6228      5000\n",
      "\n"
     ]
    }
   ],
   "source": [
    "print(metrics_clarifai)"
   ]
  },
  {
   "cell_type": "markdown",
   "metadata": {},
   "source": [
    "## DeepAI API"
   ]
  },
  {
   "cell_type": "code",
   "execution_count": null,
   "metadata": {},
   "outputs": [],
   "source": [
    "def deep_ai_api(path):\n",
    "    deep_ai_request = requests.post(\n",
    "        'https://api.deepai.org/api/content-moderation',\n",
    "        files={\n",
    "            'image': open(path, 'rb'),\n",
    "        },\n",
    "        headers={'api-key': api_keys.DEEPAI_API_KEY}\n",
    "    )\n",
    "    # print(deep_ai_request.json())\n",
    "    nsfw_score = deep_ai_request.json()['output']['nsfw_score']\n",
    "#    print('Image: {}, nsfw_score: {:.2f}'.format(path, nsfw_score))\n",
    "    return nsfw_score"
   ]
  },
  {
   "cell_type": "code",
   "execution_count": null,
   "metadata": {},
   "outputs": [
    {
     "data": {
      "application/vnd.jupyter.widget-view+json": {
       "model_id": "f157f55f639c4a6a8008d41891cb12b2",
       "version_major": 2,
       "version_minor": 0
      },
      "text/plain": [
       "  0%|          | 0/5000 [00:00<?, ?it/s]"
      ]
     },
     "metadata": {},
     "output_type": "display_data"
    }
   ],
   "source": [
    "df_deepai = df.copy()\n",
    "\n",
    "tqdm.pandas()\n",
    "df_deepai['pred_da_value'] = df_deepai['img'].progress_apply(deep_ai_api)"
   ]
  },
  {
   "cell_type": "code",
   "execution_count": null,
   "metadata": {},
   "outputs": [
    {
     "name": "stdout",
     "output_type": "stream",
     "text": [
      "        id                                           img  label  pred_da_value\n",
      "0     1031  ./annot_2000_no_politics/EzVXJPlVgAQOich.jpg      0       0.015985\n",
      "1      661         ./annot_3000_hate/EtO03ozUUAA8OPx.jpg      0       0.024578\n",
      "2      886  ./annot_2000_no_politics/EVXX4kGX0AAeG-u.jpg      0       0.000871\n",
      "3      378         ./annot_3000_hate/EUkr_PrUwAAgFTy.jpg      0       0.001544\n",
      "4     1288         ./annot_3000_hate/EecEF9eX0AAZ1Un.jpg      0       0.697362\n",
      "...    ...                                           ...    ...            ...\n",
      "4995  2223         ./annot_3000_hate/Ee4mZF_VAAAUGRq.jpg      1       0.063505\n",
      "4996  2375         ./annot_3000_hate/Eyx-2k-VoAMDtTU.jpg      1       0.014567\n",
      "4997   901  ./annot_2000_no_politics/EemqXurWsAECWL4.jpg      1       0.006366\n",
      "4998  1126  ./annot_2000_no_politics/EV7jt3KXYAUCEJ7.jpg      0       0.001977\n",
      "4999   350  ./annot_2000_no_politics/EgH1jIwU8AAwlcl.jpg      0       0.001412\n",
      "\n",
      "[5000 rows x 4 columns]\n"
     ]
    }
   ],
   "source": [
    "df_deepai.to_csv('./results/df_deepai.csv')\n",
    "print(df_deepai)"
   ]
  },
  {
   "cell_type": "code",
   "execution_count": 35,
   "metadata": {
    "ExecuteTime": {
     "end_time": "2021-10-07T02:34:18.742120Z",
     "start_time": "2021-10-07T02:34:18.727884Z"
    }
   },
   "outputs": [
    {
     "name": "stdout",
     "output_type": "stream",
     "text": [
      "Classification Report for DeepAI API:\n"
     ]
    }
   ],
   "source": [
    "print('Classification Report for DeepAI API:')\n",
    "df_deepai = pd.read_csv('./results/df_deepai.csv')\n",
    "df_deepai['pred_da'] = df_deepai['pred_da_value'].apply(\n",
    "    lambda x: 1 if x >= 0.4 else 0)\n",
    "target_names = ['safe', 'not-safe']\n",
    "metrics_deepai = metrics.classification_report(\n",
    "    df_deepai['label'], df_deepai['pred_da'], target_names=target_names, digits=4)"
   ]
  },
  {
   "cell_type": "code",
   "execution_count": 36,
   "metadata": {
    "ExecuteTime": {
     "end_time": "2021-10-07T02:34:30.425526Z",
     "start_time": "2021-10-07T02:34:30.422705Z"
    }
   },
   "outputs": [
    {
     "name": "stdout",
     "output_type": "stream",
     "text": [
      "              precision    recall  f1-score   support\n",
      "\n",
      "        safe     0.7323    0.9913    0.8423      3659\n",
      "    not-safe     0.3191    0.0112    0.0216      1341\n",
      "\n",
      "    accuracy                         0.7284      5000\n",
      "   macro avg     0.5257    0.5012    0.4320      5000\n",
      "weighted avg     0.6215    0.7284    0.6222      5000\n",
      "\n"
     ]
    }
   ],
   "source": [
    "print(metrics_deepai)"
   ]
  },
  {
   "cell_type": "markdown",
   "metadata": {},
   "source": [
    "## Amazon Rekognition"
   ]
  },
  {
   "cell_type": "code",
   "execution_count": null,
   "metadata": {},
   "outputs": [],
   "source": [
    "import boto3"
   ]
  },
  {
   "cell_type": "code",
   "execution_count": null,
   "metadata": {},
   "outputs": [],
   "source": [
    "def amz_reko_api_content(path):\n",
    "    with open(path, \"rb\") as f:\n",
    "        file_bytes = f.read()\n",
    "\n",
    "    client = boto3.client('rekognition')\n",
    "\n",
    "    response = client.detect_moderation_labels(Image={'Bytes': file_bytes})\n",
    "\n",
    "    if len(response['ModerationLabels']) == 0:\n",
    "        #print('Image: {}, SAFE'.format(path))\n",
    "        return 0\n",
    "\n",
    "    for item in response['ModerationLabels']:\n",
    "        if item['Name'] == 'Hate Symbols':\n",
    "            #print('Image: {}, Hateful'.format(path))\n",
    "            return 1\n",
    "\n",
    "    return 0"
   ]
  },
  {
   "cell_type": "code",
   "execution_count": null,
   "metadata": {},
   "outputs": [
    {
     "data": {
      "application/vnd.jupyter.widget-view+json": {
       "model_id": "7ac3a1e9ed5544a4af914fce6ad5d90e",
       "version_major": 2,
       "version_minor": 0
      },
      "text/plain": [
       "  0%|          | 0/5000 [00:00<?, ?it/s]"
      ]
     },
     "metadata": {},
     "output_type": "display_data"
    },
    {
     "name": "stdout",
     "output_type": "stream",
     "text": [
      "        id                                           img  label  \\\n",
      "0     1770  ./annot_2000_no_politics/EeVg4ulU4AA8-W-.jpg      0   \n",
      "1     2629         ./annot_3000_hate/EWfB6o6VcAErZAx.jpg      1   \n",
      "2      719  ./annot_2000_no_politics/EVXYkh-WoAEkrf_.jpg      0   \n",
      "3     1503         ./annot_3000_hate/EoRblq-UUAEAz-y.jpg      0   \n",
      "4     1001         ./annot_3000_hate/EU2p99sU4AA58Xa.jpg      0   \n",
      "...    ...                                           ...    ...   \n",
      "4995   412         ./annot_3000_hate/EV6TFCTWAAAaNjD.jpg      0   \n",
      "4996  2507         ./annot_3000_hate/EU0sh5SU8AAOsbn.jpg      0   \n",
      "4997  1087  ./annot_2000_no_politics/EqOqshhXMAMdIup.jpg      0   \n",
      "4998  1653  ./annot_2000_no_politics/EfESdZeUcAAH1AK.jpg      0   \n",
      "4999  1451         ./annot_3000_hate/EgJk2qqXkAAg8YP.jpg      0   \n",
      "\n",
      "      pred_amz_value  \n",
      "0                  0  \n",
      "1                  0  \n",
      "2                  0  \n",
      "3                  0  \n",
      "4                  0  \n",
      "...              ...  \n",
      "4995               0  \n",
      "4996               0  \n",
      "4997               0  \n",
      "4998               0  \n",
      "4999               0  \n",
      "\n",
      "[5000 rows x 4 columns]\n"
     ]
    }
   ],
   "source": [
    "df_amz_hateful = df.copy()\n",
    "\n",
    "tqdm.pandas()\n",
    "df_amz_hateful['pred_amz_value'] = df_amz_hateful['img'].progress_apply(\n",
    "    amz_reko_api_content)\n",
    "df_amz_hateful.to_csv('./results/df_amz_hateful.csv')\n",
    "print(df_amz_hateful)"
   ]
  },
  {
   "cell_type": "code",
   "execution_count": 32,
   "metadata": {
    "ExecuteTime": {
     "end_time": "2021-10-07T02:33:21.760858Z",
     "start_time": "2021-10-07T02:33:21.746826Z"
    },
    "scrolled": true
   },
   "outputs": [
    {
     "name": "stdout",
     "output_type": "stream",
     "text": [
      "Classification Report for Amazon Rekognition on Hate Content:\n"
     ]
    }
   ],
   "source": [
    "print('Classification Report for Amazon Rekognition on Hate Content:')\n",
    "df_amz_hateful = pd.read_csv('./results/df_amz_hateful.csv')\n",
    "df_amz_hateful['pred_amz'] = df_amz_hateful['pred_amz_value'].apply(\n",
    "    lambda x: 1 if x >= 0.5 else 0)\n",
    "target_names = ['safe', 'not-safe ']\n",
    "metrics_amazon = metrics.classification_report(\n",
    "    df_amz_hateful['label'], df_amz_hateful['pred_amz'], target_names=target_names, digits=4)"
   ]
  },
  {
   "cell_type": "code",
   "execution_count": 34,
   "metadata": {
    "ExecuteTime": {
     "end_time": "2021-10-07T02:33:40.521078Z",
     "start_time": "2021-10-07T02:33:40.519129Z"
    }
   },
   "outputs": [
    {
     "name": "stdout",
     "output_type": "stream",
     "text": [
      "              precision    recall  f1-score   support\n",
      "\n",
      "        safe     0.7331    0.9932    0.8435      3659\n",
      "   not-safe      0.4186    0.0134    0.0260      1341\n",
      "\n",
      "    accuracy                         0.7304      5000\n",
      "   macro avg     0.5759    0.5033    0.4348      5000\n",
      "weighted avg     0.6488    0.7304    0.6243      5000\n",
      "\n"
     ]
    }
   ],
   "source": [
    "print(metrics_amazon)"
   ]
  },
  {
   "cell_type": "markdown",
   "metadata": {},
   "source": [
    "## Data Combination"
   ]
  },
  {
   "cell_type": "code",
   "execution_count": 27,
   "metadata": {
    "ExecuteTime": {
     "end_time": "2021-10-07T02:32:08.853943Z",
     "start_time": "2021-10-07T02:32:08.850005Z"
    }
   },
   "outputs": [],
   "source": [
    "df['pred_gv'] = df_test['pre_label']\n",
    "# df['pred_yh'] = df_yahoo['pred_yh']\n",
    "df['pred_cl'] = df_clarifai['pred_clar']\n",
    "df['pred_da'] = df_deepai['pred_da']\n",
    "df['pred_amz'] = df_amz_hateful['pred_amz']"
   ]
  },
  {
   "cell_type": "code",
   "execution_count": 28,
   "metadata": {
    "ExecuteTime": {
     "end_time": "2021-10-07T02:32:09.638527Z",
     "start_time": "2021-10-07T02:32:09.626482Z"
    }
   },
   "outputs": [
    {
     "data": {
      "text/html": [
       "<div>\n",
       "<style scoped>\n",
       "    .dataframe tbody tr th:only-of-type {\n",
       "        vertical-align: middle;\n",
       "    }\n",
       "\n",
       "    .dataframe tbody tr th {\n",
       "        vertical-align: top;\n",
       "    }\n",
       "\n",
       "    .dataframe thead th {\n",
       "        text-align: right;\n",
       "    }\n",
       "</style>\n",
       "<table border=\"1\" class=\"dataframe\">\n",
       "  <thead>\n",
       "    <tr style=\"text-align: right;\">\n",
       "      <th></th>\n",
       "      <th>id</th>\n",
       "      <th>img</th>\n",
       "      <th>label</th>\n",
       "      <th>pred_gv</th>\n",
       "      <th>pred_cl</th>\n",
       "      <th>pred_da</th>\n",
       "      <th>pred_amz</th>\n",
       "      <th>pred_total</th>\n",
       "    </tr>\n",
       "  </thead>\n",
       "  <tbody>\n",
       "    <tr>\n",
       "      <th>0</th>\n",
       "      <td>304</td>\n",
       "      <td>./annot_2000_no_politics/EfcibAUWoAAxUBN.jpg</td>\n",
       "      <td>0</td>\n",
       "      <td>0</td>\n",
       "      <td>0</td>\n",
       "      <td>0</td>\n",
       "      <td>0</td>\n",
       "      <td>0</td>\n",
       "    </tr>\n",
       "    <tr>\n",
       "      <th>1</th>\n",
       "      <td>887</td>\n",
       "      <td>./annot_3000_hate/EPwHth8WoAAuZBW.jpg</td>\n",
       "      <td>0</td>\n",
       "      <td>0</td>\n",
       "      <td>0</td>\n",
       "      <td>0</td>\n",
       "      <td>0</td>\n",
       "      <td>0</td>\n",
       "    </tr>\n",
       "    <tr>\n",
       "      <th>2</th>\n",
       "      <td>2374</td>\n",
       "      <td>./annot_3000_hate/EQ1kjktXkAMisbi.jpg</td>\n",
       "      <td>0</td>\n",
       "      <td>0</td>\n",
       "      <td>0</td>\n",
       "      <td>0</td>\n",
       "      <td>0</td>\n",
       "      <td>0</td>\n",
       "    </tr>\n",
       "    <tr>\n",
       "      <th>3</th>\n",
       "      <td>837</td>\n",
       "      <td>./annot_2000_no_politics/ERP5ED-XYAEvsSB.jpg</td>\n",
       "      <td>0</td>\n",
       "      <td>0</td>\n",
       "      <td>0</td>\n",
       "      <td>0</td>\n",
       "      <td>0</td>\n",
       "      <td>0</td>\n",
       "    </tr>\n",
       "    <tr>\n",
       "      <th>4</th>\n",
       "      <td>1499</td>\n",
       "      <td>./annot_3000_hate/EyBrnf-UUAInC4D.jpg</td>\n",
       "      <td>1</td>\n",
       "      <td>0</td>\n",
       "      <td>0</td>\n",
       "      <td>1</td>\n",
       "      <td>0</td>\n",
       "      <td>1</td>\n",
       "    </tr>\n",
       "    <tr>\n",
       "      <th>...</th>\n",
       "      <td>...</td>\n",
       "      <td>...</td>\n",
       "      <td>...</td>\n",
       "      <td>...</td>\n",
       "      <td>...</td>\n",
       "      <td>...</td>\n",
       "      <td>...</td>\n",
       "      <td>...</td>\n",
       "    </tr>\n",
       "    <tr>\n",
       "      <th>4995</th>\n",
       "      <td>961</td>\n",
       "      <td>./annot_3000_hate/EVqZ-o1XsAAU_if.jpg</td>\n",
       "      <td>0</td>\n",
       "      <td>0</td>\n",
       "      <td>0</td>\n",
       "      <td>0</td>\n",
       "      <td>0</td>\n",
       "      <td>0</td>\n",
       "    </tr>\n",
       "    <tr>\n",
       "      <th>4996</th>\n",
       "      <td>56</td>\n",
       "      <td>./annot_2000_no_politics/Epht_KUXUAMSTGo.jpg</td>\n",
       "      <td>0</td>\n",
       "      <td>0</td>\n",
       "      <td>0</td>\n",
       "      <td>0</td>\n",
       "      <td>0</td>\n",
       "      <td>0</td>\n",
       "    </tr>\n",
       "    <tr>\n",
       "      <th>4997</th>\n",
       "      <td>467</td>\n",
       "      <td>./annot_3000_hate/EzNTnksVEAIvaFZ.jpg</td>\n",
       "      <td>0</td>\n",
       "      <td>0</td>\n",
       "      <td>0</td>\n",
       "      <td>0</td>\n",
       "      <td>0</td>\n",
       "      <td>0</td>\n",
       "    </tr>\n",
       "    <tr>\n",
       "      <th>4998</th>\n",
       "      <td>1437</td>\n",
       "      <td>./annot_3000_hate/Eeh-bhjVoAEMgFd.jpg</td>\n",
       "      <td>1</td>\n",
       "      <td>0</td>\n",
       "      <td>0</td>\n",
       "      <td>0</td>\n",
       "      <td>0</td>\n",
       "      <td>0</td>\n",
       "    </tr>\n",
       "    <tr>\n",
       "      <th>4999</th>\n",
       "      <td>591</td>\n",
       "      <td>./annot_2000_no_politics/Ey0U_SdXEAAvCqL.jpg</td>\n",
       "      <td>0</td>\n",
       "      <td>0</td>\n",
       "      <td>0</td>\n",
       "      <td>0</td>\n",
       "      <td>0</td>\n",
       "      <td>0</td>\n",
       "    </tr>\n",
       "  </tbody>\n",
       "</table>\n",
       "<p>5000 rows × 8 columns</p>\n",
       "</div>"
      ],
      "text/plain": [
       "        id                                           img  label  pred_gv  \\\n",
       "0      304  ./annot_2000_no_politics/EfcibAUWoAAxUBN.jpg      0        0   \n",
       "1      887         ./annot_3000_hate/EPwHth8WoAAuZBW.jpg      0        0   \n",
       "2     2374         ./annot_3000_hate/EQ1kjktXkAMisbi.jpg      0        0   \n",
       "3      837  ./annot_2000_no_politics/ERP5ED-XYAEvsSB.jpg      0        0   \n",
       "4     1499         ./annot_3000_hate/EyBrnf-UUAInC4D.jpg      1        0   \n",
       "...    ...                                           ...    ...      ...   \n",
       "4995   961         ./annot_3000_hate/EVqZ-o1XsAAU_if.jpg      0        0   \n",
       "4996    56  ./annot_2000_no_politics/Epht_KUXUAMSTGo.jpg      0        0   \n",
       "4997   467         ./annot_3000_hate/EzNTnksVEAIvaFZ.jpg      0        0   \n",
       "4998  1437         ./annot_3000_hate/Eeh-bhjVoAEMgFd.jpg      1        0   \n",
       "4999   591  ./annot_2000_no_politics/Ey0U_SdXEAAvCqL.jpg      0        0   \n",
       "\n",
       "      pred_cl  pred_da  pred_amz  pred_total  \n",
       "0           0        0         0           0  \n",
       "1           0        0         0           0  \n",
       "2           0        0         0           0  \n",
       "3           0        0         0           0  \n",
       "4           0        1         0           1  \n",
       "...       ...      ...       ...         ...  \n",
       "4995        0        0         0           0  \n",
       "4996        0        0         0           0  \n",
       "4997        0        0         0           0  \n",
       "4998        0        0         0           0  \n",
       "4999        0        0         0           0  \n",
       "\n",
       "[5000 rows x 8 columns]"
      ]
     },
     "execution_count": 28,
     "metadata": {},
     "output_type": "execute_result"
    }
   ],
   "source": [
    "df['pred_total'] = df['pred_gv'] + \\\n",
    "    df['pred_cl'] + df['pred_da'] + df['pred_amz']"
   ]
  },
  {
   "cell_type": "code",
   "execution_count": 52,
   "metadata": {
    "ExecuteTime": {
     "end_time": "2021-10-07T02:47:23.372356Z",
     "start_time": "2021-10-07T02:47:23.360901Z"
    }
   },
   "outputs": [],
   "source": [
    "final_df = df.sort_values(by=['id'], ascending=True)\n",
    "final_df.to_csv('./results/comparison.csv', index=False)\n"
   ]
  },
  {
   "cell_type": "code",
   "execution_count": 29,
   "metadata": {
    "ExecuteTime": {
     "end_time": "2021-10-07T02:32:10.656646Z",
     "start_time": "2021-10-07T02:32:10.636822Z"
    }
   },
   "outputs": [
    {
     "name": "stdout",
     "output_type": "stream",
     "text": [
      "1341\n",
      "1276\n",
      "0.9515287099179717\n"
     ]
    }
   ],
   "source": [
    "df_pos = df[df.label.eq(1)]\n",
    "df_pos_rows = df_pos.shape[0]\n",
    "print(df_pos_rows)\n",
    "df_false_neg = df_pos[df_pos.pred_total.eq(0)]\n",
    "df_false_neg_rows = df_false_neg.shape[0]\n",
    "print(df_false_neg_rows)\n",
    "pass_rate = df_false_neg_rows / df_pos_rows\n",
    "print(pass_rate)"
   ]
  },
  {
   "cell_type": "code",
   "execution_count": 30,
   "metadata": {
    "ExecuteTime": {
     "end_time": "2021-10-07T02:32:12.596310Z",
     "start_time": "2021-10-07T02:32:12.591404Z"
    }
   },
   "outputs": [
    {
     "name": "stdout",
     "output_type": "stream",
     "text": [
      "3659\n",
      "200\n",
      "0.05465974309920743\n"
     ]
    }
   ],
   "source": [
    "df_neg = df[df.label.eq(0)]\n",
    "df_neg_rows = df_neg.shape[0]\n",
    "print(df_neg_rows)\n",
    "df_false_pos = df_neg[df_neg.pred_total.gt(0)]\n",
    "df_false_pos_rows = df_false_pos.shape[0]\n",
    "print(df_false_pos_rows)\n",
    "false_rate = df_false_pos_rows / df_neg_rows\n",
    "print(false_rate)"
   ]
  },
  {
   "cell_type": "code",
   "execution_count": 64,
   "metadata": {
    "ExecuteTime": {
     "end_time": "2021-10-07T03:00:36.300396Z",
     "start_time": "2021-10-07T03:00:36.297809Z"
    },
    "scrolled": false
   },
   "outputs": [
    {
     "name": "stdout",
     "output_type": "stream",
     "text": [
      "google:\n",
      "               precision    recall  f1-score   support\n",
      "\n",
      "        safe     0.7332    0.9719    0.8358      3659\n",
      "    not-safe     0.3133    0.0350    0.0630      1341\n",
      "\n",
      "    accuracy                         0.7206      5000\n",
      "   macro avg     0.5233    0.5034    0.4494      5000\n",
      "weighted avg     0.6206    0.7206    0.6286      5000\n",
      " \n",
      "clarifai:\n",
      "               precision    recall  f1-score   support\n",
      "\n",
      "        safe     0.7328    0.9954    0.8441      3659\n",
      "    not-safe     0.4333    0.0097    0.0190      1341\n",
      "\n",
      "    accuracy                         0.7310      5000\n",
      "   macro avg     0.5831    0.5025    0.4315      5000\n",
      "weighted avg     0.6525    0.7310    0.6228      5000\n",
      " \n",
      "deep AI:\n",
      "               precision    recall  f1-score   support\n",
      "\n",
      "        safe     0.7323    0.9913    0.8423      3659\n",
      "    not-safe     0.3191    0.0112    0.0216      1341\n",
      "\n",
      "    accuracy                         0.7284      5000\n",
      "   macro avg     0.5257    0.5012    0.4320      5000\n",
      "weighted avg     0.6215    0.7284    0.6222      5000\n",
      " \n",
      "Amazon:               precision    recall  f1-score   support\n",
      "\n",
      "        safe     0.7331    0.9932    0.8435      3659\n",
      "   not-safe      0.4186    0.0134    0.0260      1341\n",
      "\n",
      "    accuracy                         0.7304      5000\n",
      "   macro avg     0.5759    0.5033    0.4348      5000\n",
      "weighted avg     0.6488    0.7304    0.6243      5000\n",
      "\n"
     ]
    }
   ],
   "source": [
    "print('google:\\n',metricsr_google,'\\nclarifai:\\n', metrics_clarifai, '\\ndeep AI:\\n', metrics_deepai, '\\nAmazon:',metrics_amazon)"
   ]
  },
  {
   "cell_type": "markdown",
   "metadata": {},
   "source": [
    "### table for safe lable prediction"
   ]
  },
  {
   "cell_type": "markdown",
   "metadata": {},
   "source": [
    "| APIs | precision | recall | f1-score | \n",
    "| --- | --- | --- | --- |\n",
    "| **Google Cloud Vision** |0.7332 | 0.9719 | 0.8358 |\n",
    "| **Clarifai NSFW**  | 0.7328 | 0.9954 | 0.8441 |\n",
    "| **DeepAI NSFW** | 0.7323 | 0.9913 | 0.8423 |\n",
    "| **Amazon Rekognition** | 0.7331 | 0.9932 | 0.8435 |"
   ]
  },
  {
   "cell_type": "markdown",
   "metadata": {
    "ExecuteTime": {
     "end_time": "2021-10-07T03:26:05.839999Z",
     "start_time": "2021-10-07T03:26:05.838127Z"
    }
   },
   "source": [
    "### table for not-safe lable prediction"
   ]
  },
  {
   "cell_type": "markdown",
   "metadata": {},
   "source": [
    "| APIs| precision | recall | f1-score | \n",
    "| --- | --- | --- | --- | \n",
    "| **Google Cloud Vision**| 0.3133| 0.0350 | 0.0630 |\n",
    "| **Clarifai NSFW**| 0.4333| 0.0097 | 0.0190 |\n",
    "| **DeepAI NSFW** | 0.3191| 0.0112 | 0.0216 |\n",
    "| **Amazon Rekognition**| 0.4186 | 0.0134 | 0.0260 | "
   ]
  }
 ],
 "metadata": {
  "interpreter": {
   "hash": "ce7fba1d7034a2bdc76107f27554ea4623bd152ad61dce6190548bbd57c18b81"
  },
  "kernelspec": {
   "display_name": "Python 3.8.11 64-bit ('hate': conda)",
   "language": "python",
   "name": "python3811jvsc74a57bd0ce7fba1d7034a2bdc76107f27554ea4623bd152ad61dce6190548bbd57c18b81"
  },
  "language_info": {
   "codemirror_mode": {
    "name": "ipython",
    "version": 3
   },
   "file_extension": ".py",
   "mimetype": "text/x-python",
   "name": "python",
   "nbconvert_exporter": "python",
   "pygments_lexer": "ipython3",
   "version": "3.8.11"
  },
  "toc": {
   "base_numbering": 1,
   "nav_menu": {},
   "number_sections": true,
   "sideBar": true,
   "skip_h1_title": false,
   "title_cell": "Table of Contents",
   "title_sidebar": "Contents",
   "toc_cell": false,
   "toc_position": {},
   "toc_section_display": true,
   "toc_window_display": false
  }
 },
 "nbformat": 4,
 "nbformat_minor": 2
}
