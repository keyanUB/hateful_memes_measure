{
 "cells": [
  {
   "cell_type": "code",
   "execution_count": 1,
   "source": [
    "import os\n",
    "os.environ['GOOGLE_APPLICATION_CREDENTIALS'] = './credentials/google_application_credentials.json'"
   ],
   "outputs": [],
   "metadata": {
    "ExecuteTime": {
     "end_time": "2021-10-07T04:08:20.949789Z",
     "start_time": "2021-10-07T04:08:20.947634Z"
    }
   }
  },
  {
   "cell_type": "code",
   "execution_count": 2,
   "source": [
    "from credentials import api_keys"
   ],
   "outputs": [],
   "metadata": {
    "ExecuteTime": {
     "end_time": "2021-10-07T04:08:21.118744Z",
     "start_time": "2021-10-07T04:08:21.110579Z"
    },
    "scrolled": true
   }
  },
  {
   "cell_type": "code",
   "execution_count": 3,
   "source": [
    "import io\n",
    "import time\n",
    "import requests\n",
    "import numpy as np\n",
    "import pandas as pd\n",
    "from sklearn import metrics\n",
    "from google.cloud import vision\n",
    "from tqdm.notebook import tqdm\n",
    "from tqdm.notebook import trange, tqdm\n",
    "import warnings\n",
    "warnings.filterwarnings('ignore')"
   ],
   "outputs": [],
   "metadata": {
    "ExecuteTime": {
     "end_time": "2021-10-07T04:08:21.738452Z",
     "start_time": "2021-10-07T04:08:21.308222Z"
    }
   }
  },
  {
   "cell_type": "markdown",
   "source": [
    "## Data Preprocessing"
   ],
   "metadata": {}
  },
  {
   "cell_type": "code",
   "execution_count": 4,
   "source": [
    "df1 = pd.read_csv('csv_3000_hate/sample_3000_labeled.csv')\n",
    "df2 = pd.read_csv('csv_2000_no_politics/sample_2000_labeled.csv')"
   ],
   "outputs": [],
   "metadata": {
    "ExecuteTime": {
     "end_time": "2021-10-07T04:08:23.747597Z",
     "start_time": "2021-10-07T04:08:23.717359Z"
    }
   }
  },
  {
   "cell_type": "code",
   "execution_count": 5,
   "source": [
    "df1 = df1[['id', 'sample_path', 'label']]\n",
    "df2 = df2[['id', 'sample_path', 'label']]"
   ],
   "outputs": [],
   "metadata": {
    "ExecuteTime": {
     "end_time": "2021-10-07T04:08:24.031937Z",
     "start_time": "2021-10-07T04:08:24.025479Z"
    },
    "scrolled": true
   }
  },
  {
   "cell_type": "code",
   "execution_count": 6,
   "source": [
    "# combine 50,000 images\n",
    "df = df1.append(df2)\n",
    "# shuffle the images\n",
    "df = df.sample(frac=1).reset_index(drop=True)"
   ],
   "outputs": [],
   "metadata": {
    "ExecuteTime": {
     "end_time": "2021-10-07T04:08:24.606852Z",
     "start_time": "2021-10-07T04:08:24.599455Z"
    }
   }
  },
  {
   "cell_type": "code",
   "execution_count": 7,
   "source": [
    "df['label'] = df['label'].apply(int)"
   ],
   "outputs": [],
   "metadata": {
    "ExecuteTime": {
     "end_time": "2021-10-07T04:08:25.331716Z",
     "start_time": "2021-10-07T04:08:25.327931Z"
    }
   }
  },
  {
   "cell_type": "code",
   "execution_count": 8,
   "source": [
    "# change column path to 'img'\n",
    "df = df.rename(columns={'sample_path': 'img'})"
   ],
   "outputs": [],
   "metadata": {
    "ExecuteTime": {
     "end_time": "2021-10-07T04:08:25.569517Z",
     "start_time": "2021-10-07T04:08:25.560861Z"
    }
   }
  },
  {
   "cell_type": "code",
   "execution_count": 9,
   "source": [
    "print(df.shape)"
   ],
   "outputs": [
    {
     "output_type": "stream",
     "name": "stdout",
     "text": [
      "(5000, 3)\n"
     ]
    }
   ],
   "metadata": {
    "ExecuteTime": {
     "end_time": "2021-10-07T04:08:26.124275Z",
     "start_time": "2021-10-07T04:08:26.121586Z"
    }
   }
  },
  {
   "cell_type": "markdown",
   "source": [
    "## Google Cloud Vision API"
   ],
   "metadata": {}
  },
  {
   "cell_type": "code",
   "execution_count": 11,
   "source": [
    "def google_vision_api_without_spoof(path):\n",
    "    \"\"\"Google Cloud Vision API\"\"\"\n",
    "    client = vision.ImageAnnotatorClient()\n",
    "\n",
    "    with io.open(path, 'rb') as image_file:\n",
    "        content = image_file.read()\n",
    "\n",
    "    image = vision.Image(content=content)\n",
    "\n",
    "    response = client.safe_search_detection(image=image)\n",
    "    # print(response)\n",
    "    safe = response.safe_search_annotation\n",
    "\n",
    "    if response.error.message:\n",
    "        raise Exception(response.error.message)\n",
    "\n",
    "    # if safe.adult > 3 or safe.medical > 3 or safe.violence > 3 or safe.racy > 3:\n",
    "    # #     print('Image: {}, UNSAFE'.format(path))\n",
    "    #     return 1\n",
    "    # else:\n",
    "    # #     print('Image: {}, SAFE'.format(path))\n",
    "    #     return 0\n",
    "\n",
    "    # list all safe search labels:\n",
    "\n",
    "    # print(safe.adult)\n",
    "    # print(safe.medical)\n",
    "    # print(safe.violence)\n",
    "    # print(safe.racy)\n",
    "    return(int(safe.adult), int(safe.medical), int(safe.violence), int(safe.racy))"
   ],
   "outputs": [],
   "metadata": {
    "ExecuteTime": {
     "end_time": "2021-10-06T22:18:00.219518Z",
     "start_time": "2021-10-06T22:18:00.216589Z"
    }
   }
  },
  {
   "cell_type": "code",
   "execution_count": 12,
   "source": [
    "df_google = df.copy()\n",
    "\n",
    "tqdm.pandas()\n",
    "df_google['label_pred'] = df_google['img'].progress_apply(\n",
    "    google_vision_api_without_spoof)"
   ],
   "outputs": [],
   "metadata": {
    "ExecuteTime": {
     "end_time": "2021-10-06T22:18:14.371507Z",
     "start_time": "2021-10-06T22:18:07.597846Z"
    },
    "collapsed": true
   }
  },
  {
   "cell_type": "code",
   "execution_count": 13,
   "source": [
    "df_google['label_pred'] = df_google['label_pred'].astype('str')\n",
    "df_google[['pred_adult', 'pred_medical', 'pred_viol', 'pred_racy']\n",
    "          ] = df_google['label_pred'].str.split(',', expand=True)"
   ],
   "outputs": [],
   "metadata": {
    "collapsed": true
   }
  },
  {
   "cell_type": "code",
   "execution_count": 14,
   "source": [
    "df_google['pred_adult'] = df_google['pred_adult'].replace(\n",
    "    to_replace='\\(', value=\"\", regex=True)\n",
    "df_google['pred_racy'] = df_google['pred_racy'].replace(\n",
    "    to_replace='\\)', value=\"\", regex=True)\n",
    "df_google['pred_adult'] = df_google['pred_adult'].apply(int)\n",
    "df_google['pred_medical'] = df_google['pred_medical'].apply(int)\n",
    "df_google['pred_viol'] = df_google['pred_viol'].apply(int)\n",
    "df_google['pred_racy'] = df_google['pred_racy'].apply(int)"
   ],
   "outputs": [],
   "metadata": {}
  },
  {
   "cell_type": "code",
   "execution_count": 15,
   "source": [
    "# df_google = df_google.drop(columns=['label_pred'])\n",
    "# # print(df_google)"
   ],
   "outputs": [],
   "metadata": {
    "collapsed": true
   }
  },
  {
   "cell_type": "code",
   "execution_count": 16,
   "source": [
    "# save the result to './results/df_google.csv'\n",
    "df_google.to_csv('./results/df_google.csv')\n",
    "# print(df_google)"
   ],
   "outputs": [],
   "metadata": {
    "ExecuteTime": {
     "end_time": "2021-10-05T03:33:30.059327Z",
     "start_time": "2021-10-05T03:33:15.256634Z"
    },
    "collapsed": true,
    "tags": []
   }
  },
  {
   "cell_type": "code",
   "execution_count": 17,
   "source": [
    "df_test = pd.read_csv('./results/df_google.csv')\n",
    "print(df_test)"
   ],
   "outputs": [
    {
     "output_type": "stream",
     "name": "stdout",
     "text": [
      "      Unnamed: 0    id                                           img  label  \\\n",
      "0              0  1438  ./annot_2000_no_politics/EQw2J_mX0AAxvoq.jpg      1   \n",
      "1              1   172  ./annot_2000_no_politics/EWAuxVaWkAIv7Nv.jpg      0   \n",
      "2              2  2156         ./annot_3000_hate/EeoBkhCXoAAc5IQ.jpg      0   \n",
      "3              3  2749         ./annot_3000_hate/EgbTs6AWsAAHAj9.jpg      1   \n",
      "4              4   738  ./annot_2000_no_politics/E0KvNiSVIAQ4vZR.jpg      1   \n",
      "...          ...   ...                                           ...    ...   \n",
      "4995        4995   853         ./annot_3000_hate/EfQTejhX0AIt7Hp.jpg      1   \n",
      "4996        4996  1291  ./annot_2000_no_politics/EoOmgneWEAAkSy3.jpg      0   \n",
      "4997        4997  2136         ./annot_3000_hate/Et4HU8vUcAEY7y5.jpg      0   \n",
      "4998        4998   516         ./annot_3000_hate/EUt652pUYAEkpdI.jpg      0   \n",
      "4999        4999  1540  ./annot_2000_no_politics/EeqFVFTXYAA3Bs1.jpg      0   \n",
      "\n",
      "      pred_adult  pred_medical  pred_viol  pred_racy  \n",
      "0              1             1          2          1  \n",
      "1              1             1          1          2  \n",
      "2              2             2          2          2  \n",
      "3              1             1          2          1  \n",
      "4              1             2          2          1  \n",
      "...          ...           ...        ...        ...  \n",
      "4995           1             2          1          1  \n",
      "4996           1             1          1          1  \n",
      "4997           1             1          1          2  \n",
      "4998           1             1          2          1  \n",
      "4999           1             1          2          1  \n",
      "\n",
      "[5000 rows x 8 columns]\n"
     ]
    }
   ],
   "metadata": {
    "ExecuteTime": {
     "end_time": "2021-10-07T04:08:32.155852Z",
     "start_time": "2021-10-07T04:08:32.146496Z"
    }
   }
  },
  {
   "cell_type": "markdown",
   "source": [
    "### Define the safety criteria"
   ],
   "metadata": {}
  },
  {
   "cell_type": "code",
   "execution_count": 18,
   "source": [
    "# if safe.adult > 3 or safe.medical > 3 or safe.violence > 3 or safe.racy > 3, we record it as 1 which means unsafe\n",
    "df_test['pre_label'] = df_test[['pred_adult',\n",
    "                                'pred_medical', 'pred_viol', 'pred_racy']].max(axis=1)\n",
    "df_test['pre_label'] = df_test['pre_label'].apply(lambda x: 1 if x > 3 else 0)\n",
    "# check the number of unsafe labels from google\n",
    "df_test['pre_label'].value_counts()"
   ],
   "outputs": [
    {
     "output_type": "execute_result",
     "data": {
      "text/plain": [
       "0    4850\n",
       "1     150\n",
       "Name: pre_label, dtype: int64"
      ]
     },
     "metadata": {},
     "execution_count": 18
    }
   ],
   "metadata": {
    "ExecuteTime": {
     "end_time": "2021-10-07T04:08:36.565017Z",
     "start_time": "2021-10-07T04:08:36.555596Z"
    }
   }
  },
  {
   "cell_type": "markdown",
   "source": [
    "### Get the report"
   ],
   "metadata": {}
  },
  {
   "cell_type": "code",
   "execution_count": 19,
   "source": [
    "print('Classification Report for Google Cloud Vision API with Threshold (\\'possible\\')')\n",
    "target_names = ['safe', 'not-safe']\n",
    "metricsr_google = metrics.classification_report(\n",
    "    df_test['label'], df_test['pre_label'], target_names=target_names, digits=4)\n",
    "print(metricsr_google)"
   ],
   "outputs": [
    {
     "output_type": "stream",
     "name": "stdout",
     "text": [
      "Classification Report for Google Cloud Vision API with Threshold ('possible')\n",
      "              precision    recall  f1-score   support\n",
      "\n",
      "        safe     0.7332    0.9719    0.8358      3659\n",
      "    not-safe     0.3133    0.0350    0.0630      1341\n",
      "\n",
      "    accuracy                         0.7206      5000\n",
      "   macro avg     0.5233    0.5034    0.4494      5000\n",
      "weighted avg     0.6206    0.7206    0.6286      5000\n",
      "\n"
     ]
    }
   ],
   "metadata": {
    "ExecuteTime": {
     "end_time": "2021-10-07T04:08:38.172297Z",
     "start_time": "2021-10-07T04:08:38.163862Z"
    }
   }
  },
  {
   "cell_type": "markdown",
   "source": [
    "## Yahoo Open NSFW"
   ],
   "metadata": {}
  },
  {
   "cell_type": "code",
   "execution_count": null,
   "source": [
    "print('Classification Report for Yahoo Open NSFW:')\n",
    "df_yahoo = pd.read_csv('./results/df_yahoo.csv')\n",
    "df_yahoo['pred_yh'] = df_yahoo['pred_yh_value'].apply(\n",
    "    lambda x: 1 if x >= 0.5 else 0)\n",
    "target_names = ['safe', 'not-safe']\n",
    "print(metrics.classification_report(\n",
    "    df_yahoo['label'], df_yahoo['pred_yh'], target_names=target_names, digits=4))"
   ],
   "outputs": [
    {
     "output_type": "stream",
     "name": "stdout",
     "text": [
      "Classification Report for Yahoo Open NSFW:\n",
      "              precision    recall  f1-score   support\n",
      "\n",
      "        safe     0.5051    0.9802    0.6667       253\n",
      "    not-safe     0.4444    0.0162    0.0312       247\n",
      "\n",
      "    accuracy                         0.5040       500\n",
      "   macro avg     0.4748    0.4982    0.3490       500\n",
      "weighted avg     0.4751    0.5040    0.3528       500\n",
      "\n"
     ]
    }
   ],
   "metadata": {
    "collapsed": true
   }
  },
  {
   "cell_type": "markdown",
   "source": [
    "## Clarifai NSFW API"
   ],
   "metadata": {}
  },
  {
   "cell_type": "code",
   "execution_count": 20,
   "source": [
    "%env GRPC_DEFAULT_SSL_ROOTS_FILE_PATH = /home/keyan/jupter/hateful_memes-main/roots.pem"
   ],
   "outputs": [],
   "metadata": {
    "ExecuteTime": {
     "end_time": "2021-10-07T01:56:25.409564Z",
     "start_time": "2021-10-07T01:56:25.406286Z"
    }
   }
  },
  {
   "cell_type": "code",
   "execution_count": 21,
   "source": [
    "from clarifai_grpc.channel.clarifai_channel import ClarifaiChannel\n",
    "from clarifai_grpc.grpc.api import resources_pb2, service_pb2, service_pb2_grpc\n",
    "from clarifai_grpc.grpc.api.status import status_pb2, status_code_pb2\n",
    "\n",
    "channel = ClarifaiChannel.get_grpc_channel()\n",
    "stub = service_pb2_grpc.V2Stub(channel)\n",
    "metadata = (('authorization', api_keys.CLARIFAI_API_KEY),)"
   ],
   "outputs": [],
   "metadata": {
    "ExecuteTime": {
     "end_time": "2021-10-07T01:56:26.145239Z",
     "start_time": "2021-10-07T01:56:26.124840Z"
    }
   }
  },
  {
   "cell_type": "code",
   "execution_count": 22,
   "source": [
    "def clarifai_api(path):\n",
    "    time.sleep(0.2)\n",
    "    with open(path, \"rb\") as f:\n",
    "        file_bytes = f.read()\n",
    "\n",
    "    request = service_pb2.PostModelOutputsRequest(\n",
    "        # This is the model ID of a publicly available General model.\n",
    "        # You may use any other public or custom model ID.\n",
    "        model_id='e9576d86d2004ed1a38ba0cf39ecb4b1',\n",
    "        inputs=[\n",
    "            resources_pb2.Input(\n",
    "                data=resources_pb2.Data(\n",
    "                    image=resources_pb2.Image(\n",
    "                        base64=file_bytes\n",
    "                    )\n",
    "                )\n",
    "            )\n",
    "        ])\n",
    "    response = stub.PostModelOutputs(request, metadata=metadata)\n",
    "\n",
    "    if response.status.code != status_code_pb2.SUCCESS:\n",
    "        raise Exception(\"Post model outputs failed, status: \" +\n",
    "                        response.status.description)\n",
    "    # for concept in response.outputs[0].data.concepts:\n",
    "    #     print('%12s: %.2f' % (concept.name, concept.value))\n",
    "\n",
    "    # if response.outputs[0].data.concepts[1].value >= 0.4:\n",
    "    #     print('Image: {}, Offensive: {:.2f}'.format(path, response.outputs[0].data.concepts[1].value))\n",
    "    # else:\n",
    "    #     print('Image: {}, not-Offensive: {:.2f}'.format(path, response.outputs[0].data.concepts[1].value))\n",
    "\n",
    "    return response.outputs[0].data.concepts[1].name, response.outputs[0].data.concepts[1].value"
   ],
   "outputs": [],
   "metadata": {
    "ExecuteTime": {
     "end_time": "2021-10-07T01:56:27.184038Z",
     "start_time": "2021-10-07T01:56:27.180286Z"
    }
   }
  },
  {
   "cell_type": "code",
   "execution_count": 23,
   "source": [
    "df_clarifai = df.copy()\n",
    "header = [\"id\", \"img\", \"label\"]\n",
    "df_clarifai.to_csv('./df_clarifai.csv', columns=header)\n",
    "# print(df_clarifai)"
   ],
   "outputs": [],
   "metadata": {
    "ExecuteTime": {
     "end_time": "2021-10-07T01:56:29.718867Z",
     "start_time": "2021-10-07T01:56:29.717463Z"
    }
   }
  },
  {
   "cell_type": "code",
   "execution_count": 25,
   "source": [
    "df_c = pd.read_csv('./df_clarifai.csv')\n",
    "df_c = df_c.loc[:, ~df_c.columns.str.contains('^Unnamed')]\n",
    "# print(df_c)"
   ],
   "outputs": [],
   "metadata": {
    "ExecuteTime": {
     "end_time": "2021-10-07T01:56:31.151063Z",
     "start_time": "2021-10-07T01:56:31.144019Z"
    }
   }
  },
  {
   "cell_type": "code",
   "execution_count": 26,
   "source": [
    "df_c1 = df_c[:500]\n",
    "df_c2 = df_c[500:1000]\n",
    "df_c3 = df_c[1000:1500]\n",
    "df_c4 = df_c[1500:2000]\n",
    "df_c5 = df_c[2000:2500]\n",
    "df_c6 = df_c[2500:3000]\n",
    "df_c7 = df_c[3000:3500]\n",
    "df_c8 = df_c[3500:4000]\n",
    "df_c9 = df_c[4000:4500]\n",
    "df_c10 = df_c[4500:5000]\n",
    "\n",
    "# df_c10"
   ],
   "outputs": [],
   "metadata": {
    "ExecuteTime": {
     "end_time": "2021-10-07T01:56:31.887102Z",
     "start_time": "2021-10-07T01:56:31.883966Z"
    }
   }
  },
  {
   "cell_type": "code",
   "execution_count": 27,
   "source": [
    "tqdm.pandas()\n",
    "df_c1['pred_cf'] = df_c1['img'].progress_apply(clarifai_api)\n",
    "df_c1.to_csv('./results/df_clarifai.csv')\n",
    "df_c2['pred_cf'] = df_c2['img'].progress_apply(clarifai_api)\n",
    "df_c2.to_csv('./results/df_clarifai.csv', mode='a', header=False)\n",
    "df_c3['pred_cf'] = df_c3['img'].progress_apply(clarifai_api)\n",
    "df_c3.to_csv('./results/df_clarifai.csv', mode='a', header=False)\n",
    "df_c4['pred_cf'] = df_c4['img'].progress_apply(clarifai_api)\n",
    "df_c4.to_csv('./results/df_clarifai.csv', mode='a', header=False)\n",
    "df_c5['pred_cf'] = df_c5['img'].progress_apply(clarifai_api)\n",
    "df_c5.to_csv('./results/df_clarifai.csv', mode='a', header=False)\n",
    "df_c6['pred_cf'] = df_c6['img'].progress_apply(clarifai_api)\n",
    "df_c6.to_csv('./results/df_clarifai.csv', mode='a', header=False)\n",
    "df_c7['pred_cf'] = df_c7['img'].progress_apply(clarifai_api)\n",
    "df_c7.to_csv('./results/df_clarifai.csv', mode='a', header=False)\n",
    "df_c8['pred_cf'] = df_c8['img'].progress_apply(clarifai_api)\n",
    "df_c8.to_csv('./results/df_clarifai.csv', mode='a', header=False)\n",
    "df_c9['pred_cf'] = df_c9['img'].progress_apply(clarifai_api)\n",
    "df_c9.to_csv('./results/df_clarifai.csv', mode='a', header=False)\n",
    "\n",
    "df_c10['pred_cf'] = df_c10['img'].progress_apply(clarifai_api)\n",
    "df_c10.to_csv('./results/df_clarifai.csv', mode='a', header=False)"
   ],
   "outputs": [],
   "metadata": {
    "ExecuteTime": {
     "end_time": "2021-10-07T02:00:56.574720Z",
     "start_time": "2021-10-07T01:56:40.166352Z"
    }
   }
  },
  {
   "cell_type": "code",
   "execution_count": 28,
   "source": [
    "df_clarifai = pd.read_csv('./results/df_clarifai.csv')\n",
    "df_clarifai = df_clarifai.loc[:, ~df_clarifai.columns.str.contains('^Unnamed')]"
   ],
   "outputs": [],
   "metadata": {
    "ExecuteTime": {
     "end_time": "2021-10-07T04:10:08.942366Z",
     "start_time": "2021-10-07T04:10:08.934273Z"
    }
   }
  },
  {
   "cell_type": "code",
   "execution_count": 29,
   "source": [
    "df_clarifai[['nsfw', 'pred_cf']\n",
    "            ] = df_clarifai['pred_cf'].str.split(',', expand=True)"
   ],
   "outputs": [],
   "metadata": {
    "ExecuteTime": {
     "end_time": "2021-10-07T04:10:10.009545Z",
     "start_time": "2021-10-07T04:10:09.979628Z"
    }
   }
  },
  {
   "cell_type": "code",
   "execution_count": 30,
   "source": [
    "df_clarifai = df_clarifai.drop(columns='nsfw')\n",
    "df_clarifai['pred_cf'] = df_clarifai['pred_cf'].replace(\n",
    "    to_replace='\\)', value=\"\", regex=True)"
   ],
   "outputs": [],
   "metadata": {
    "ExecuteTime": {
     "end_time": "2021-10-07T04:10:10.803163Z",
     "start_time": "2021-10-07T04:10:10.787591Z"
    }
   }
  },
  {
   "cell_type": "code",
   "execution_count": 31,
   "source": [
    "df_clarifai = df_clarifai.sort_values('pred_cf', ascending=False)\n",
    "df_clarifai['pred_cf'] = df_clarifai['pred_cf'].apply(float)\n",
    "pd.set_option('display.float_format', lambda x: '%0.5f' % x)\n",
    "df_clarifai['pred_cf']"
   ],
   "outputs": [
    {
     "output_type": "execute_result",
     "data": {
      "text/plain": [
       "504    0.00010\n",
       "2839   0.00010\n",
       "4348   0.00010\n",
       "3134   0.00010\n",
       "2339   0.00000\n",
       "         ...  \n",
       "1071   0.00010\n",
       "3871   0.00010\n",
       "1183   0.00010\n",
       "454    0.00010\n",
       "4221   0.00010\n",
       "Name: pred_cf, Length: 5000, dtype: float64"
      ]
     },
     "metadata": {},
     "execution_count": 31
    }
   ],
   "metadata": {}
  },
  {
   "cell_type": "code",
   "execution_count": 32,
   "source": [
    "# If we set the threashold as 0.5\n",
    "df_clarifai['pred_clar'] = df_clarifai['pred_cf'].apply(\n",
    "    lambda x: 1 if x >= 0.5 else 0)\n",
    "print('Classification Report for Clarifai NSFW API with Treshhold (0.5):')\n",
    "target_names = ['safe', 'not-safe']\n",
    "metrics_clarifai_05 = metrics.classification_report(\n",
    "    df_clarifai['label'], df_clarifai['pred_clar'], target_names=target_names, digits=4)\n",
    "print(metrics_clarifai_05)"
   ],
   "outputs": [
    {
     "output_type": "stream",
     "name": "stdout",
     "text": [
      "Classification Report for Clarifai NSFW API with Treshhold (0.5):\n",
      "              precision    recall  f1-score   support\n",
      "\n",
      "        safe     0.7318    1.0000    0.8451      3659\n",
      "    not-safe     0.0000    0.0000    0.0000      1341\n",
      "\n",
      "    accuracy                         0.7318      5000\n",
      "   macro avg     0.3659    0.5000    0.4226      5000\n",
      "weighted avg     0.5355    0.7318    0.6185      5000\n",
      "\n"
     ]
    }
   ],
   "metadata": {}
  },
  {
   "cell_type": "code",
   "execution_count": 33,
   "source": [
    "# If we set the threashold as 0.4\n",
    "df_clarifai['pred_clar'] = df_clarifai['pred_cf'].apply(\n",
    "    lambda x: 1 if x >= 0.4 else 0)\n",
    "print('Classification Report for Clarifai NSFW API with Treshhold (0.4):')\n",
    "target_names = ['safe', 'not-safe']\n",
    "metrics_clarifai_04 = metrics.classification_report(\n",
    "    df_clarifai['label'], df_clarifai['pred_clar'], target_names=target_names, digits=4)\n",
    "print(metrics_clarifai_04)"
   ],
   "outputs": [
    {
     "output_type": "stream",
     "name": "stdout",
     "text": [
      "Classification Report for Clarifai NSFW API with Treshhold (0.4):\n",
      "              precision    recall  f1-score   support\n",
      "\n",
      "        safe     0.7328    0.9954    0.8441      3659\n",
      "    not-safe     0.4333    0.0097    0.0190      1341\n",
      "\n",
      "    accuracy                         0.7310      5000\n",
      "   macro avg     0.5831    0.5025    0.4315      5000\n",
      "weighted avg     0.6525    0.7310    0.6228      5000\n",
      "\n"
     ]
    }
   ],
   "metadata": {}
  },
  {
   "cell_type": "markdown",
   "source": [
    "## DeepAI API"
   ],
   "metadata": {}
  },
  {
   "cell_type": "code",
   "execution_count": 34,
   "source": [
    "def deep_ai_api(path):\n",
    "    deep_ai_request = requests.post(\n",
    "        'https://api.deepai.org/api/content-moderation',\n",
    "        files={\n",
    "            'image': open(path, 'rb'),\n",
    "        },\n",
    "        headers={'api-key': api_keys.DEEPAI_API_KEY}\n",
    "    )\n",
    "    # print(deep_ai_request.json())\n",
    "    nsfw_score = deep_ai_request.json()['output']['nsfw_score']\n",
    "#    print('Image: {}, nsfw_score: {:.2f}'.format(path, nsfw_score))\n",
    "    return nsfw_score"
   ],
   "outputs": [],
   "metadata": {}
  },
  {
   "cell_type": "code",
   "execution_count": 35,
   "source": [
    "df_deepai = df.copy()\n",
    "\n",
    "tqdm.pandas()\n",
    "df_deepai['pred_da_value'] = df_deepai['img'].progress_apply(deep_ai_api)"
   ],
   "outputs": [],
   "metadata": {}
  },
  {
   "cell_type": "code",
   "execution_count": 36,
   "source": [
    "df_deepai.to_csv('./results/df_deepai.csv')\n",
    "print(df_deepai)"
   ],
   "outputs": [],
   "metadata": {}
  },
  {
   "cell_type": "code",
   "execution_count": 37,
   "source": [
    "df_deepai = pd.read_csv('./results/df_deepai.csv')\n",
    "# threshold set as 0.5\n",
    "print('Classification Report for DeepAI API with Treshold (0.5):')\n",
    "df_deepai['pred_da'] = df_deepai['pred_da_value'].apply(\n",
    "    lambda x: 1 if x >= 0.5 else 0)\n",
    "target_names = ['safe', 'not-safe']\n",
    "metrics_deepai_05 = metrics.classification_report(\n",
    "    df_deepai['label'], df_deepai['pred_da'], target_names=target_names, digits=4)\n",
    "print(metrics_deepai_05)"
   ],
   "outputs": [
    {
     "output_type": "stream",
     "name": "stdout",
     "text": [
      "Classification Report for DeepAI API with Treshold (0.5):\n",
      "              precision    recall  f1-score   support\n",
      "\n",
      "        safe     0.7319    0.9932    0.8428      3659\n",
      "    not-safe     0.2857    0.0075    0.0145      1341\n",
      "\n",
      "    accuracy                         0.7288      5000\n",
      "   macro avg     0.5088    0.5003    0.4286      5000\n",
      "weighted avg     0.6123    0.7288    0.6206      5000\n",
      "\n"
     ]
    }
   ],
   "metadata": {
    "ExecuteTime": {
     "end_time": "2021-10-07T04:11:05.418389Z",
     "start_time": "2021-10-07T04:11:05.405558Z"
    }
   }
  },
  {
   "cell_type": "code",
   "execution_count": 38,
   "source": [
    "# threshold set as 0.4\n",
    "print('Classification Report for DeepAI API with Treshold (0.4):')\n",
    "df_deepai['pred_da'] = df_deepai['pred_da_value'].apply(\n",
    "    lambda x: 1 if x >= 0.4 else 0)\n",
    "target_names = ['safe', 'not-safe']\n",
    "metrics_deepai_04 = metrics.classification_report(\n",
    "    df_deepai['label'], df_deepai['pred_da'], target_names=target_names, digits=4)\n",
    "print(metrics_deepai_04)"
   ],
   "outputs": [
    {
     "output_type": "stream",
     "name": "stdout",
     "text": [
      "Classification Report for DeepAI API with Treshold (0.4):\n",
      "              precision    recall  f1-score   support\n",
      "\n",
      "        safe     0.7323    0.9913    0.8423      3659\n",
      "    not-safe     0.3191    0.0112    0.0216      1341\n",
      "\n",
      "    accuracy                         0.7284      5000\n",
      "   macro avg     0.5257    0.5012    0.4320      5000\n",
      "weighted avg     0.6215    0.7284    0.6222      5000\n",
      "\n"
     ]
    }
   ],
   "metadata": {
    "ExecuteTime": {
     "end_time": "2021-10-07T04:11:06.096103Z",
     "start_time": "2021-10-07T04:11:06.089198Z"
    }
   }
  },
  {
   "cell_type": "markdown",
   "source": [
    "## Amazon Rekognition"
   ],
   "metadata": {}
  },
  {
   "cell_type": "code",
   "execution_count": 40,
   "source": [
    "import boto3"
   ],
   "outputs": [],
   "metadata": {}
  },
  {
   "cell_type": "code",
   "execution_count": 41,
   "source": [
    "def amz_reko_api_content(path):\n",
    "    with open(path, \"rb\") as f:\n",
    "        file_bytes = f.read()\n",
    "\n",
    "    client = boto3.client('rekognition')\n",
    "\n",
    "    response = client.detect_moderation_labels(Image={'Bytes': file_bytes})\n",
    "\n",
    "    if len(response['ModerationLabels']) == 0:\n",
    "        #print('Image: {}, SAFE'.format(path))\n",
    "        return 0\n",
    "\n",
    "    for item in response['ModerationLabels']:\n",
    "        # Once amz_rek recognizes any hate symbol we return the value as 1\n",
    "        if item['Name'] == 'Hate Symbols':\n",
    "            #print('Image: {}, Hateful'.format(path))\n",
    "            return 1\n",
    "\n",
    "    return 0"
   ],
   "outputs": [],
   "metadata": {}
  },
  {
   "cell_type": "code",
   "execution_count": 42,
   "source": [
    "df_amz_hateful = df.copy()\n",
    "\n",
    "tqdm.pandas()\n",
    "df_amz_hateful['pred_amz_value'] = df_amz_hateful['img'].progress_apply(\n",
    "    amz_reko_api_content)\n",
    "df_amz_hateful.to_csv('./results/df_amz_hateful.csv')\n",
    "# print(df_amz_hateful)"
   ],
   "outputs": [],
   "metadata": {
    "scrolled": true
   }
  },
  {
   "cell_type": "code",
   "execution_count": 43,
   "source": [
    "df_amz_hateful = pd.read_csv('./results/df_amz_hateful.csv')\n",
    "df_amz_hateful.sort_values('pred_amz_value',ascending=False)"
   ],
   "outputs": [
    {
     "output_type": "execute_result",
     "data": {
      "text/html": [
       "<div>\n",
       "<style scoped>\n",
       "    .dataframe tbody tr th:only-of-type {\n",
       "        vertical-align: middle;\n",
       "    }\n",
       "\n",
       "    .dataframe tbody tr th {\n",
       "        vertical-align: top;\n",
       "    }\n",
       "\n",
       "    .dataframe thead th {\n",
       "        text-align: right;\n",
       "    }\n",
       "</style>\n",
       "<table border=\"1\" class=\"dataframe\">\n",
       "  <thead>\n",
       "    <tr style=\"text-align: right;\">\n",
       "      <th></th>\n",
       "      <th>Unnamed: 0</th>\n",
       "      <th>id</th>\n",
       "      <th>img</th>\n",
       "      <th>label</th>\n",
       "      <th>pred_amz_value</th>\n",
       "    </tr>\n",
       "  </thead>\n",
       "  <tbody>\n",
       "    <tr>\n",
       "      <th>2823</th>\n",
       "      <td>2823</td>\n",
       "      <td>155</td>\n",
       "      <td>./annot_2000_no_politics/EfAGhDPUMAE6jQW.jpg</td>\n",
       "      <td>1</td>\n",
       "      <td>1</td>\n",
       "    </tr>\n",
       "    <tr>\n",
       "      <th>4110</th>\n",
       "      <td>4110</td>\n",
       "      <td>179</td>\n",
       "      <td>./annot_2000_no_politics/EfuBFdTUEAAUYYM.jpg</td>\n",
       "      <td>1</td>\n",
       "      <td>1</td>\n",
       "    </tr>\n",
       "    <tr>\n",
       "      <th>726</th>\n",
       "      <td>726</td>\n",
       "      <td>104</td>\n",
       "      <td>./annot_2000_no_politics/EU6Red0UwAINz7Q.png</td>\n",
       "      <td>0</td>\n",
       "      <td>1</td>\n",
       "    </tr>\n",
       "    <tr>\n",
       "      <th>2432</th>\n",
       "      <td>2432</td>\n",
       "      <td>2292</td>\n",
       "      <td>./annot_3000_hate/EfuybhzU4AAogni.jpg</td>\n",
       "      <td>0</td>\n",
       "      <td>1</td>\n",
       "    </tr>\n",
       "    <tr>\n",
       "      <th>3492</th>\n",
       "      <td>3492</td>\n",
       "      <td>1716</td>\n",
       "      <td>./annot_2000_no_politics/EV7AjuPU4AIsVMa.jpg</td>\n",
       "      <td>0</td>\n",
       "      <td>1</td>\n",
       "    </tr>\n",
       "    <tr>\n",
       "      <th>...</th>\n",
       "      <td>...</td>\n",
       "      <td>...</td>\n",
       "      <td>...</td>\n",
       "      <td>...</td>\n",
       "      <td>...</td>\n",
       "    </tr>\n",
       "    <tr>\n",
       "      <th>1667</th>\n",
       "      <td>1667</td>\n",
       "      <td>2894</td>\n",
       "      <td>./annot_3000_hate/Ez4fAOKXMAAu45A.jpg</td>\n",
       "      <td>0</td>\n",
       "      <td>0</td>\n",
       "    </tr>\n",
       "    <tr>\n",
       "      <th>1666</th>\n",
       "      <td>1666</td>\n",
       "      <td>505</td>\n",
       "      <td>./annot_2000_no_politics/EP49fQ6XsAIX6N_.jpg</td>\n",
       "      <td>0</td>\n",
       "      <td>0</td>\n",
       "    </tr>\n",
       "    <tr>\n",
       "      <th>1665</th>\n",
       "      <td>1665</td>\n",
       "      <td>1238</td>\n",
       "      <td>./annot_2000_no_politics/EoWelRoVgAE6n2K.jpg</td>\n",
       "      <td>0</td>\n",
       "      <td>0</td>\n",
       "    </tr>\n",
       "    <tr>\n",
       "      <th>1664</th>\n",
       "      <td>1664</td>\n",
       "      <td>1146</td>\n",
       "      <td>./annot_3000_hate/Eyx_tjEUcAUiu0C.jpg</td>\n",
       "      <td>1</td>\n",
       "      <td>0</td>\n",
       "    </tr>\n",
       "    <tr>\n",
       "      <th>4999</th>\n",
       "      <td>4999</td>\n",
       "      <td>1451</td>\n",
       "      <td>./annot_3000_hate/EgJk2qqXkAAg8YP.jpg</td>\n",
       "      <td>0</td>\n",
       "      <td>0</td>\n",
       "    </tr>\n",
       "  </tbody>\n",
       "</table>\n",
       "<p>5000 rows × 5 columns</p>\n",
       "</div>"
      ],
      "text/plain": [
       "      Unnamed: 0    id                                           img  label  \\\n",
       "2823        2823   155  ./annot_2000_no_politics/EfAGhDPUMAE6jQW.jpg      1   \n",
       "4110        4110   179  ./annot_2000_no_politics/EfuBFdTUEAAUYYM.jpg      1   \n",
       "726          726   104  ./annot_2000_no_politics/EU6Red0UwAINz7Q.png      0   \n",
       "2432        2432  2292         ./annot_3000_hate/EfuybhzU4AAogni.jpg      0   \n",
       "3492        3492  1716  ./annot_2000_no_politics/EV7AjuPU4AIsVMa.jpg      0   \n",
       "...          ...   ...                                           ...    ...   \n",
       "1667        1667  2894         ./annot_3000_hate/Ez4fAOKXMAAu45A.jpg      0   \n",
       "1666        1666   505  ./annot_2000_no_politics/EP49fQ6XsAIX6N_.jpg      0   \n",
       "1665        1665  1238  ./annot_2000_no_politics/EoWelRoVgAE6n2K.jpg      0   \n",
       "1664        1664  1146         ./annot_3000_hate/Eyx_tjEUcAUiu0C.jpg      1   \n",
       "4999        4999  1451         ./annot_3000_hate/EgJk2qqXkAAg8YP.jpg      0   \n",
       "\n",
       "      pred_amz_value  \n",
       "2823               1  \n",
       "4110               1  \n",
       "726                1  \n",
       "2432               1  \n",
       "3492               1  \n",
       "...              ...  \n",
       "1667               0  \n",
       "1666               0  \n",
       "1665               0  \n",
       "1664               0  \n",
       "4999               0  \n",
       "\n",
       "[5000 rows x 5 columns]"
      ]
     },
     "metadata": {},
     "execution_count": 43
    }
   ],
   "metadata": {}
  },
  {
   "cell_type": "code",
   "execution_count": 44,
   "source": [
    "print('Classification Report for Amazon Rekognition on Hate Content:')\n",
    "target_names = ['safe', 'not-safe ']\n",
    "metrics_amazon = metrics.classification_report(\n",
    "    df_amz_hateful['label'], df_amz_hateful['pred_amz_value'], target_names=target_names, digits=4)\n",
    "print(metrics_amazon)"
   ],
   "outputs": [
    {
     "output_type": "stream",
     "name": "stdout",
     "text": [
      "Classification Report for Amazon Rekognition on Hate Content:\n",
      "              precision    recall  f1-score   support\n",
      "\n",
      "        safe     0.7331    0.9932    0.8435      3659\n",
      "   not-safe      0.4186    0.0134    0.0260      1341\n",
      "\n",
      "    accuracy                         0.7304      5000\n",
      "   macro avg     0.5759    0.5033    0.4348      5000\n",
      "weighted avg     0.6488    0.7304    0.6243      5000\n",
      "\n"
     ]
    }
   ],
   "metadata": {
    "ExecuteTime": {
     "end_time": "2021-10-07T04:13:08.154540Z",
     "start_time": "2021-10-07T04:13:08.140251Z"
    },
    "scrolled": true
   }
  },
  {
   "cell_type": "markdown",
   "source": [
    "## Data Combination"
   ],
   "metadata": {}
  },
  {
   "cell_type": "code",
   "execution_count": 45,
   "source": [
    "df['pred_gv'] = df_test['pre_label']\n",
    "# df['pred_yh'] = df_yahoo['pred_yh']\n",
    "df['pred_cl'] = df_clarifai['pred_clar']\n",
    "df['pred_da'] = df_deepai['pred_da']\n",
    "df['pred_amz_value'] = df_amz_hateful['pred_amz_value']"
   ],
   "outputs": [],
   "metadata": {
    "ExecuteTime": {
     "end_time": "2021-10-07T04:14:27.223111Z",
     "start_time": "2021-10-07T04:14:27.218115Z"
    }
   }
  },
  {
   "cell_type": "code",
   "execution_count": 46,
   "source": [
    "df['pred_total'] = df['pred_gv'] + \\\n",
    "    df['pred_cl'] + df['pred_da'] + df['pred_amz_value']"
   ],
   "outputs": [],
   "metadata": {
    "ExecuteTime": {
     "end_time": "2021-10-07T04:14:27.694157Z",
     "start_time": "2021-10-07T04:14:27.688042Z"
    }
   }
  },
  {
   "cell_type": "code",
   "execution_count": 47,
   "source": [
    "final_df = df.sort_values(by=['id'], ascending=True)\n",
    "final_df.to_csv('./results/comparison.csv', index=False)"
   ],
   "outputs": [],
   "metadata": {
    "ExecuteTime": {
     "end_time": "2021-10-07T04:14:30.486717Z",
     "start_time": "2021-10-07T04:14:30.474660Z"
    }
   }
  },
  {
   "cell_type": "code",
   "execution_count": 78,
   "source": [
    "df_pos = df[df.label.eq(1)]\n",
    "df_pos_rows = df_pos.shape[0]\n",
    "print(df_pos_rows)\n",
    "df_false_neg = df_pos[df_pos.pred_total.eq(0)]\n",
    "df_false_neg_rows = df_false_neg.shape[0]\n",
    "print(df_false_neg_rows)\n",
    "pass_rate = df_false_neg_rows / df_pos_rows\n",
    "print(pass_rate)"
   ],
   "outputs": [
    {
     "output_type": "stream",
     "name": "stdout",
     "text": [
      "1341\n",
      "1129\n",
      "0.8419090231170768\n"
     ]
    }
   ],
   "metadata": {
    "ExecuteTime": {
     "end_time": "2021-10-07T04:14:31.659415Z",
     "start_time": "2021-10-07T04:14:31.655285Z"
    }
   }
  },
  {
   "cell_type": "code",
   "execution_count": 79,
   "source": [
    "df_neg = df[df.label.eq(0)]\n",
    "df_neg_rows = df_neg.shape[0]\n",
    "print(df_neg_rows)\n",
    "df_false_pos = df_neg[df_neg.pred_total.gt(0)]\n",
    "df_false_pos_rows = df_false_pos.shape[0]\n",
    "print(df_false_pos_rows)\n",
    "false_rate = df_false_pos_rows / df_neg_rows\n",
    "print(false_rate)"
   ],
   "outputs": [
    {
     "output_type": "stream",
     "name": "stdout",
     "text": [
      "3659\n",
      "587\n",
      "0.1604263459961738\n"
     ]
    }
   ],
   "metadata": {
    "ExecuteTime": {
     "end_time": "2021-10-07T04:14:34.024160Z",
     "start_time": "2021-10-07T04:14:34.019720Z"
    }
   }
  },
  {
   "cell_type": "code",
   "execution_count": 88,
   "source": [
    "# print('google:\\n',metricsr_google,'\\nclarifai:\\n', metrics_clarifai_04, metrics_clarifai_05 ,'\\ndeep AI:\\n', metrics_deepai_04, metrics_deepai_05 ,'\\nAmazon:',metrics_amazon)\n",
    "print('Measurement of Google Cloud API:\\n', metricsr_google)\n",
    "print('======================================================\\n')\n",
    "print('Measurement of Amazon Rekognition API:\\n', metrics_amazon)\n",
    "print('======================================================\\n')\n",
    "print('Measurement of Clarifai NSFW API (Threshold 0.4):\\n', metrics_clarifai_04)\n",
    "print('Measurement of Clarifai NSFW API (Threshold 0.5):\\n', metrics_clarifai_05)\n",
    "print('======================================================\\n')\n",
    "print('Measurment 0f Deep AI NSFW API (Threshold 0.4):\\n', metrics_deepai_04)\n",
    "print('Measurment 0f Deep AI NSFW API (Threshold 0.5):\\n', metrics_deepai_05)\n"
   ],
   "outputs": [
    {
     "output_type": "stream",
     "name": "stdout",
     "text": [
      "Measurement of Google Cloud API:\n",
      "               precision    recall  f1-score   support\n",
      "\n",
      "        safe     0.7358    0.8653    0.7953      3659\n",
      "    not-safe     0.2927    0.1521    0.2002      1341\n",
      "\n",
      "    accuracy                         0.6740      5000\n",
      "   macro avg     0.5142    0.5087    0.4977      5000\n",
      "weighted avg     0.6169    0.6740    0.6357      5000\n",
      "\n",
      "======================================================\n",
      "\n",
      "Measurement of Amazon Rekognition API:\n",
      "               precision    recall  f1-score   support\n",
      "\n",
      "        safe     0.7331    0.9932    0.8435      3659\n",
      "   not-safe      0.4186    0.0134    0.0260      1341\n",
      "\n",
      "    accuracy                         0.7304      5000\n",
      "   macro avg     0.5759    0.5033    0.4348      5000\n",
      "weighted avg     0.6488    0.7304    0.6243      5000\n",
      "\n",
      "======================================================\n",
      "\n",
      "Measurement of Clarifai NSFW API (Threshold 0.4):\n",
      "               precision    recall  f1-score   support\n",
      "\n",
      "        safe     0.7328    0.9954    0.8441      3659\n",
      "    not-safe     0.4333    0.0097    0.0190      1341\n",
      "\n",
      "    accuracy                         0.7310      5000\n",
      "   macro avg     0.5831    0.5025    0.4315      5000\n",
      "weighted avg     0.6525    0.7310    0.6228      5000\n",
      "\n",
      "Measurement of Clarifai NSFW API (Threshold 0.5):\n",
      "               precision    recall  f1-score   support\n",
      "\n",
      "        safe     0.7318    1.0000    0.8451      3659\n",
      "    not-safe     0.0000    0.0000    0.0000      1341\n",
      "\n",
      "    accuracy                         0.7318      5000\n",
      "   macro avg     0.3659    0.5000    0.4226      5000\n",
      "weighted avg     0.5355    0.7318    0.6185      5000\n",
      "\n",
      "======================================================\n",
      "\n",
      "Measurment 0f Deep AI NSFW API (Threshold 0.4):\n",
      "               precision    recall  f1-score   support\n",
      "\n",
      "        safe     0.7323    0.9913    0.8423      3659\n",
      "    not-safe     0.3191    0.0112    0.0216      1341\n",
      "\n",
      "    accuracy                         0.7284      5000\n",
      "   macro avg     0.5257    0.5012    0.4320      5000\n",
      "weighted avg     0.6215    0.7284    0.6222      5000\n",
      "\n",
      "Measurment 0f Deep AI NSFW API (Threshold 0.5):\n",
      "               precision    recall  f1-score   support\n",
      "\n",
      "        safe     0.7319    0.9932    0.8428      3659\n",
      "    not-safe     0.2857    0.0075    0.0145      1341\n",
      "\n",
      "    accuracy                         0.7288      5000\n",
      "   macro avg     0.5088    0.5003    0.4286      5000\n",
      "weighted avg     0.6123    0.7288    0.6206      5000\n",
      "\n"
     ]
    }
   ],
   "metadata": {
    "ExecuteTime": {
     "end_time": "2021-10-07T04:14:44.847819Z",
     "start_time": "2021-10-07T04:14:44.844706Z"
    },
    "scrolled": false
   }
  },
  {
   "cell_type": "markdown",
   "source": [
    "### table for safe lable prediction"
   ],
   "metadata": {}
  },
  {
   "cell_type": "markdown",
   "source": [
    "| APIs | precision | recall | f1-score | \n",
    "| --- | --- | --- | --- |\n",
    "| **Google Cloud Vision** |0.7332 | 0.9719 | 0.8358 |\n",
    "| **Amazon Rekognition** | 0.7331 | 0.9932 | 0.8435 |\n",
    "| **Clarifai NSFW**  | 0.7328 | 0.9954 | 0.8441 |\n",
    "| **DeepAI NSFW** | 0.7323 | 0.9913 | 0.8423 |\n"
   ],
   "metadata": {}
  },
  {
   "cell_type": "markdown",
   "source": [
    "### table for not-safe lable prediction"
   ],
   "metadata": {
    "ExecuteTime": {
     "end_time": "2021-10-07T03:26:05.839999Z",
     "start_time": "2021-10-07T03:26:05.838127Z"
    }
   }
  },
  {
   "cell_type": "markdown",
   "source": [
    "| APIs| precision | recall | f1-score | \n",
    "| --- | --- | --- | --- | \n",
    "| **Google Cloud Vision**| 0.3133| 0.0350 | 0.0630 |\n",
    "| **Amazon Rekognition**| 0.4186 | 0.0134 | 0.0260 | \n",
    "| **Clarifai NSFW (0.4)**| 0.4333| 0.0097 | 0.0190 |\n",
    "| **Clarifai NSFW (0.5)**| 0.0000| 0.0000 | 0.0000 |\n",
    "| **DeepAI NSFW (0.4)** | 0.3191| 0.0112 | 0.0216 |\n",
    "| **DeepAI NSFW (0.5)** | 0.2857| 0.0075 | 0.0145 |\n"
   ],
   "metadata": {}
  }
 ],
 "metadata": {
  "interpreter": {
   "hash": "f1e06f935804d74c0ad3a030b4b889d4499ff756cd1db4021ee6222c00109ba8"
  },
  "kernelspec": {
   "name": "python3",
   "display_name": "Python 3.8.5 64-bit ('py3': conda)"
  },
  "language_info": {
   "codemirror_mode": {
    "name": "ipython",
    "version": 3
   },
   "file_extension": ".py",
   "mimetype": "text/x-python",
   "name": "python",
   "nbconvert_exporter": "python",
   "pygments_lexer": "ipython3",
   "version": "3.8.5"
  },
  "toc": {
   "base_numbering": 1,
   "nav_menu": {},
   "number_sections": true,
   "sideBar": true,
   "skip_h1_title": false,
   "title_cell": "Table of Contents",
   "title_sidebar": "Contents",
   "toc_cell": false,
   "toc_position": {},
   "toc_section_display": true,
   "toc_window_display": false
  }
 },
 "nbformat": 4,
 "nbformat_minor": 2
}