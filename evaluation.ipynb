{
 "cells": [
  {
   "cell_type": "code",
   "execution_count": 1,
   "source": [
    "import os\n",
    "os.environ['GOOGLE_APPLICATION_CREDENTIALS'] = './credentials/google_application_credentials.json'"
   ],
   "outputs": [],
   "metadata": {
    "ExecuteTime": {
     "end_time": "2021-10-05T03:33:06.296572Z",
     "start_time": "2021-10-05T03:33:06.293333Z"
    }
   }
  },
  {
   "cell_type": "code",
   "execution_count": 2,
   "source": [
    "from credentials import api_keys"
   ],
   "outputs": [],
   "metadata": {
    "ExecuteTime": {
     "end_time": "2021-10-05T03:33:07.484434Z",
     "start_time": "2021-10-05T03:33:07.482130Z"
    },
    "scrolled": true
   }
  },
  {
   "cell_type": "code",
   "execution_count": 3,
   "source": [
    "import io\n",
    "import time\n",
    "import requests\n",
    "import numpy as np\n",
    "import pandas as pd\n",
    "from sklearn import metrics\n",
    "from google.cloud import vision\n",
    "from tqdm.notebook import tqdm\n",
    "from tqdm.notebook import trange, tqdm"
   ],
   "outputs": [],
   "metadata": {
    "ExecuteTime": {
     "end_time": "2021-10-05T03:33:08.406313Z",
     "start_time": "2021-10-05T03:33:07.893300Z"
    }
   }
  },
  {
   "cell_type": "markdown",
   "source": [
    "## Data Preprocessing"
   ],
   "metadata": {}
  },
  {
   "cell_type": "code",
   "execution_count": 4,
   "source": [
    "df1 = pd.read_csv('csv_3000_hate/sample_3000_labeled.csv')\n",
    "df2 = pd.read_csv('csv_2000_no_politics/sample_2000_labeled.csv')"
   ],
   "outputs": [],
   "metadata": {
    "ExecuteTime": {
     "end_time": "2021-10-05T03:33:08.426406Z",
     "start_time": "2021-10-05T03:33:08.407276Z"
    }
   }
  },
  {
   "cell_type": "code",
   "execution_count": 5,
   "source": [
    "df1 = df1[['id','sample_path','label']]\n",
    "df2 = df2[['id','sample_path','label']]\n"
   ],
   "outputs": [],
   "metadata": {
    "ExecuteTime": {
     "end_time": "2021-10-05T03:33:08.853414Z",
     "start_time": "2021-10-05T03:33:08.849871Z"
    },
    "scrolled": true
   }
  },
  {
   "cell_type": "code",
   "execution_count": 6,
   "source": [
    "# combine 50,000 images\n",
    "df = df1.append(df2)\n",
    "# shuffle the images\n",
    "df = df.sample(frac = 1).reset_index(drop=True)"
   ],
   "outputs": [],
   "metadata": {}
  },
  {
   "cell_type": "code",
   "execution_count": 7,
   "source": [
    "df['label'] = df['label'].apply(int)"
   ],
   "outputs": [],
   "metadata": {
    "ExecuteTime": {
     "end_time": "2021-10-05T03:33:09.268986Z",
     "start_time": "2021-10-05T03:33:09.251814Z"
    }
   }
  },
  {
   "cell_type": "code",
   "execution_count": 8,
   "source": [
    "# change column path to 'img'\n",
    "df = df.rename(columns={'sample_path': 'img'})"
   ],
   "outputs": [],
   "metadata": {
    "ExecuteTime": {
     "end_time": "2021-10-05T03:33:09.802972Z",
     "start_time": "2021-10-05T03:33:09.800345Z"
    }
   }
  },
  {
   "cell_type": "code",
   "execution_count": 9,
   "source": [
    "print(df.shape)"
   ],
   "outputs": [
    {
     "output_type": "stream",
     "name": "stdout",
     "text": [
      "(5000, 3)\n"
     ]
    }
   ],
   "metadata": {
    "ExecuteTime": {
     "end_time": "2021-10-05T03:33:10.758367Z",
     "start_time": "2021-10-05T03:33:10.752829Z"
    }
   }
  },
  {
   "cell_type": "markdown",
   "source": [
    "## Google Cloud Vision API"
   ],
   "metadata": {}
  },
  {
   "cell_type": "code",
   "execution_count": 10,
   "source": [
    "def google_vision_api_without_spoof(path):\n",
    "    \"\"\"Google Cloud Vision API\"\"\"\n",
    "    client = vision.ImageAnnotatorClient()\n",
    "\n",
    "    with io.open(path, 'rb') as image_file:\n",
    "        content = image_file.read()\n",
    "\n",
    "    image = vision.Image(content=content)\n",
    "\n",
    "    response = client.safe_search_detection(image=image)\n",
    "    # print(response)\n",
    "    safe = response.safe_search_annotation\n",
    "\n",
    "    if response.error.message:\n",
    "        raise Exception(response.error.message)\n",
    "\n",
    "    # if safe.adult > 3 or safe.medical > 3 or safe.violence > 3 or safe.racy > 3:\n",
    "    # #     print('Image: {}, UNSAFE'.format(path))\n",
    "    #     return 1\n",
    "    # else:\n",
    "    # #     print('Image: {}, SAFE'.format(path))\n",
    "    #     return 0\n",
    "\n",
    "    #list all safe search labels:\n",
    "  \n",
    "    # print(safe.adult)\n",
    "    # print(safe.medical)\n",
    "    # print(safe.violence)\n",
    "    # print(safe.racy)\n",
    "    return(int(safe.adult),int(safe.medical),int(safe.violence),int(safe.racy))"
   ],
   "outputs": [],
   "metadata": {}
  },
  {
   "cell_type": "code",
   "execution_count": 11,
   "source": [
    "df_google = df.copy()\n",
    "\n",
    "tqdm.pandas()\n",
    "df_google['label_pred'] = df_google['img'].progress_apply(google_vision_api_without_spoof)"
   ],
   "outputs": [
    {
     "output_type": "display_data",
     "data": {
      "application/vnd.jupyter.widget-view+json": {
       "version_major": 2,
       "version_minor": 0,
       "model_id": "f63b60ba8a5c4bb5b9f233c0f7325282"
      },
      "text/plain": [
       "  0%|          | 0/5000 [00:00<?, ?it/s]"
      ]
     },
     "metadata": {}
    }
   ],
   "metadata": {}
  },
  {
   "cell_type": "code",
   "execution_count": 75,
   "source": [
    "df_google['label_pred'] = df_google['label_pred'].astype('str')\n",
    "df_google[['pred_adult','pred_medical','pred_viol','pred_racy']] = df_google['label_pred'].str.split(',',expand=True)"
   ],
   "outputs": [
    {
     "output_type": "error",
     "ename": "KeyError",
     "evalue": "'label_pred'",
     "traceback": [
      "\u001b[0;31m---------------------------------------------------------------------------\u001b[0m",
      "\u001b[0;31mKeyError\u001b[0m                                  Traceback (most recent call last)",
      "\u001b[0;32m~/yes/envs/hate/lib/python3.8/site-packages/pandas/core/indexes/base.py\u001b[0m in \u001b[0;36mget_loc\u001b[0;34m(self, key, method, tolerance)\u001b[0m\n\u001b[1;32m   3360\u001b[0m             \u001b[0;32mtry\u001b[0m\u001b[0;34m:\u001b[0m\u001b[0;34m\u001b[0m\u001b[0;34m\u001b[0m\u001b[0m\n\u001b[0;32m-> 3361\u001b[0;31m                 \u001b[0;32mreturn\u001b[0m \u001b[0mself\u001b[0m\u001b[0;34m.\u001b[0m\u001b[0m_engine\u001b[0m\u001b[0;34m.\u001b[0m\u001b[0mget_loc\u001b[0m\u001b[0;34m(\u001b[0m\u001b[0mcasted_key\u001b[0m\u001b[0;34m)\u001b[0m\u001b[0;34m\u001b[0m\u001b[0;34m\u001b[0m\u001b[0m\n\u001b[0m\u001b[1;32m   3362\u001b[0m             \u001b[0;32mexcept\u001b[0m \u001b[0mKeyError\u001b[0m \u001b[0;32mas\u001b[0m \u001b[0merr\u001b[0m\u001b[0;34m:\u001b[0m\u001b[0;34m\u001b[0m\u001b[0;34m\u001b[0m\u001b[0m\n",
      "\u001b[0;32m~/yes/envs/hate/lib/python3.8/site-packages/pandas/_libs/index.pyx\u001b[0m in \u001b[0;36mpandas._libs.index.IndexEngine.get_loc\u001b[0;34m()\u001b[0m\n",
      "\u001b[0;32m~/yes/envs/hate/lib/python3.8/site-packages/pandas/_libs/index.pyx\u001b[0m in \u001b[0;36mpandas._libs.index.IndexEngine.get_loc\u001b[0;34m()\u001b[0m\n",
      "\u001b[0;32mpandas/_libs/hashtable_class_helper.pxi\u001b[0m in \u001b[0;36mpandas._libs.hashtable.PyObjectHashTable.get_item\u001b[0;34m()\u001b[0m\n",
      "\u001b[0;32mpandas/_libs/hashtable_class_helper.pxi\u001b[0m in \u001b[0;36mpandas._libs.hashtable.PyObjectHashTable.get_item\u001b[0;34m()\u001b[0m\n",
      "\u001b[0;31mKeyError\u001b[0m: 'label_pred'",
      "\nThe above exception was the direct cause of the following exception:\n",
      "\u001b[0;31mKeyError\u001b[0m                                  Traceback (most recent call last)",
      "\u001b[0;32m/tmp/ipykernel_18182/2512435477.py\u001b[0m in \u001b[0;36m<module>\u001b[0;34m\u001b[0m\n\u001b[0;32m----> 1\u001b[0;31m \u001b[0mdf_google\u001b[0m\u001b[0;34m[\u001b[0m\u001b[0;34m'label_pred'\u001b[0m\u001b[0;34m]\u001b[0m \u001b[0;34m=\u001b[0m \u001b[0mdf_google\u001b[0m\u001b[0;34m[\u001b[0m\u001b[0;34m'label_pred'\u001b[0m\u001b[0;34m]\u001b[0m\u001b[0;34m.\u001b[0m\u001b[0mastype\u001b[0m\u001b[0;34m(\u001b[0m\u001b[0;34m'str'\u001b[0m\u001b[0;34m)\u001b[0m\u001b[0;34m\u001b[0m\u001b[0;34m\u001b[0m\u001b[0m\n\u001b[0m\u001b[1;32m      2\u001b[0m \u001b[0mdf_google\u001b[0m\u001b[0;34m[\u001b[0m\u001b[0;34m[\u001b[0m\u001b[0;34m'pred_adult'\u001b[0m\u001b[0;34m,\u001b[0m\u001b[0;34m'pred_medical'\u001b[0m\u001b[0;34m,\u001b[0m\u001b[0;34m'pred_viol'\u001b[0m\u001b[0;34m,\u001b[0m\u001b[0;34m'pred_racy'\u001b[0m\u001b[0;34m]\u001b[0m\u001b[0;34m]\u001b[0m \u001b[0;34m=\u001b[0m \u001b[0mdf_google\u001b[0m\u001b[0;34m[\u001b[0m\u001b[0;34m'label_pred'\u001b[0m\u001b[0;34m]\u001b[0m\u001b[0;34m.\u001b[0m\u001b[0mstr\u001b[0m\u001b[0;34m.\u001b[0m\u001b[0msplit\u001b[0m\u001b[0;34m(\u001b[0m\u001b[0;34m','\u001b[0m\u001b[0;34m,\u001b[0m\u001b[0mexpand\u001b[0m\u001b[0;34m=\u001b[0m\u001b[0;32mTrue\u001b[0m\u001b[0;34m)\u001b[0m\u001b[0;34m\u001b[0m\u001b[0;34m\u001b[0m\u001b[0m\n",
      "\u001b[0;32m~/yes/envs/hate/lib/python3.8/site-packages/pandas/core/frame.py\u001b[0m in \u001b[0;36m__getitem__\u001b[0;34m(self, key)\u001b[0m\n\u001b[1;32m   3456\u001b[0m             \u001b[0;32mif\u001b[0m \u001b[0mself\u001b[0m\u001b[0;34m.\u001b[0m\u001b[0mcolumns\u001b[0m\u001b[0;34m.\u001b[0m\u001b[0mnlevels\u001b[0m \u001b[0;34m>\u001b[0m \u001b[0;36m1\u001b[0m\u001b[0;34m:\u001b[0m\u001b[0;34m\u001b[0m\u001b[0;34m\u001b[0m\u001b[0m\n\u001b[1;32m   3457\u001b[0m                 \u001b[0;32mreturn\u001b[0m \u001b[0mself\u001b[0m\u001b[0;34m.\u001b[0m\u001b[0m_getitem_multilevel\u001b[0m\u001b[0;34m(\u001b[0m\u001b[0mkey\u001b[0m\u001b[0;34m)\u001b[0m\u001b[0;34m\u001b[0m\u001b[0;34m\u001b[0m\u001b[0m\n\u001b[0;32m-> 3458\u001b[0;31m             \u001b[0mindexer\u001b[0m \u001b[0;34m=\u001b[0m \u001b[0mself\u001b[0m\u001b[0;34m.\u001b[0m\u001b[0mcolumns\u001b[0m\u001b[0;34m.\u001b[0m\u001b[0mget_loc\u001b[0m\u001b[0;34m(\u001b[0m\u001b[0mkey\u001b[0m\u001b[0;34m)\u001b[0m\u001b[0;34m\u001b[0m\u001b[0;34m\u001b[0m\u001b[0m\n\u001b[0m\u001b[1;32m   3459\u001b[0m             \u001b[0;32mif\u001b[0m \u001b[0mis_integer\u001b[0m\u001b[0;34m(\u001b[0m\u001b[0mindexer\u001b[0m\u001b[0;34m)\u001b[0m\u001b[0;34m:\u001b[0m\u001b[0;34m\u001b[0m\u001b[0;34m\u001b[0m\u001b[0m\n\u001b[1;32m   3460\u001b[0m                 \u001b[0mindexer\u001b[0m \u001b[0;34m=\u001b[0m \u001b[0;34m[\u001b[0m\u001b[0mindexer\u001b[0m\u001b[0;34m]\u001b[0m\u001b[0;34m\u001b[0m\u001b[0;34m\u001b[0m\u001b[0m\n",
      "\u001b[0;32m~/yes/envs/hate/lib/python3.8/site-packages/pandas/core/indexes/base.py\u001b[0m in \u001b[0;36mget_loc\u001b[0;34m(self, key, method, tolerance)\u001b[0m\n\u001b[1;32m   3361\u001b[0m                 \u001b[0;32mreturn\u001b[0m \u001b[0mself\u001b[0m\u001b[0;34m.\u001b[0m\u001b[0m_engine\u001b[0m\u001b[0;34m.\u001b[0m\u001b[0mget_loc\u001b[0m\u001b[0;34m(\u001b[0m\u001b[0mcasted_key\u001b[0m\u001b[0;34m)\u001b[0m\u001b[0;34m\u001b[0m\u001b[0;34m\u001b[0m\u001b[0m\n\u001b[1;32m   3362\u001b[0m             \u001b[0;32mexcept\u001b[0m \u001b[0mKeyError\u001b[0m \u001b[0;32mas\u001b[0m \u001b[0merr\u001b[0m\u001b[0;34m:\u001b[0m\u001b[0;34m\u001b[0m\u001b[0;34m\u001b[0m\u001b[0m\n\u001b[0;32m-> 3363\u001b[0;31m                 \u001b[0;32mraise\u001b[0m \u001b[0mKeyError\u001b[0m\u001b[0;34m(\u001b[0m\u001b[0mkey\u001b[0m\u001b[0;34m)\u001b[0m \u001b[0;32mfrom\u001b[0m \u001b[0merr\u001b[0m\u001b[0;34m\u001b[0m\u001b[0;34m\u001b[0m\u001b[0m\n\u001b[0m\u001b[1;32m   3364\u001b[0m \u001b[0;34m\u001b[0m\u001b[0m\n\u001b[1;32m   3365\u001b[0m         \u001b[0;32mif\u001b[0m \u001b[0mis_scalar\u001b[0m\u001b[0;34m(\u001b[0m\u001b[0mkey\u001b[0m\u001b[0;34m)\u001b[0m \u001b[0;32mand\u001b[0m \u001b[0misna\u001b[0m\u001b[0;34m(\u001b[0m\u001b[0mkey\u001b[0m\u001b[0;34m)\u001b[0m \u001b[0;32mand\u001b[0m \u001b[0;32mnot\u001b[0m \u001b[0mself\u001b[0m\u001b[0;34m.\u001b[0m\u001b[0mhasnans\u001b[0m\u001b[0;34m:\u001b[0m\u001b[0;34m\u001b[0m\u001b[0;34m\u001b[0m\u001b[0m\n",
      "\u001b[0;31mKeyError\u001b[0m: 'label_pred'"
     ]
    }
   ],
   "metadata": {}
  },
  {
   "cell_type": "code",
   "execution_count": 15,
   "source": [
    "df_google['pred_adult'] = df_google['pred_adult'].replace(to_replace='\\(', value=\"\", regex=True)\n",
    "df_google['pred_racy'] = df_google['pred_racy'].replace(to_replace='\\)', value=\"\", regex=True)\n",
    "df_google['pred_adult'] = df_google['pred_adult'].apply(int)\n",
    "df_google['pred_medical'] = df_google['pred_medical'].apply(int)\n",
    "df_google['pred_viol'] = df_google['pred_viol'].apply(int)\n",
    "df_google['pred_racy'] = df_google['pred_racy'].apply(int)"
   ],
   "outputs": [],
   "metadata": {}
  },
  {
   "cell_type": "code",
   "execution_count": 19,
   "source": [
    "df_google = df_google.drop(columns=['label_pred'])\n",
    "# print(df_google)"
   ],
   "outputs": [
    {
     "output_type": "stream",
     "name": "stdout",
     "text": [
      "        id                                           img  label  pred_adult  \\\n",
      "0     1438  ./annot_2000_no_politics/EQw2J_mX0AAxvoq.jpg      1           1   \n",
      "1      172  ./annot_2000_no_politics/EWAuxVaWkAIv7Nv.jpg      0           1   \n",
      "2     2156         ./annot_3000_hate/EeoBkhCXoAAc5IQ.jpg      0           2   \n",
      "3     2749         ./annot_3000_hate/EgbTs6AWsAAHAj9.jpg      1           1   \n",
      "4      738  ./annot_2000_no_politics/E0KvNiSVIAQ4vZR.jpg      1           1   \n",
      "...    ...                                           ...    ...         ...   \n",
      "4995   853         ./annot_3000_hate/EfQTejhX0AIt7Hp.jpg      1           1   \n",
      "4996  1291  ./annot_2000_no_politics/EoOmgneWEAAkSy3.jpg      0           1   \n",
      "4997  2136         ./annot_3000_hate/Et4HU8vUcAEY7y5.jpg      0           1   \n",
      "4998   516         ./annot_3000_hate/EUt652pUYAEkpdI.jpg      0           1   \n",
      "4999  1540  ./annot_2000_no_politics/EeqFVFTXYAA3Bs1.jpg      0           1   \n",
      "\n",
      "      pred_medical  pred_viol  pred_racy  \n",
      "0                1          2          1  \n",
      "1                1          1          2  \n",
      "2                2          2          2  \n",
      "3                1          2          1  \n",
      "4                2          2          1  \n",
      "...            ...        ...        ...  \n",
      "4995             2          1          1  \n",
      "4996             1          1          1  \n",
      "4997             1          1          2  \n",
      "4998             1          2          1  \n",
      "4999             1          2          1  \n",
      "\n",
      "[5000 rows x 7 columns]\n"
     ]
    }
   ],
   "metadata": {}
  },
  {
   "cell_type": "code",
   "execution_count": 20,
   "source": [
    "# save the result to './results/df_google.csv'\n",
    "df_google.to_csv('./results/df_google.csv')\n",
    "print(df_google)"
   ],
   "outputs": [
    {
     "output_type": "stream",
     "name": "stdout",
     "text": [
      "        id                                           img  label  pred_adult  \\\n",
      "0     1438  ./annot_2000_no_politics/EQw2J_mX0AAxvoq.jpg      1           1   \n",
      "1      172  ./annot_2000_no_politics/EWAuxVaWkAIv7Nv.jpg      0           1   \n",
      "2     2156         ./annot_3000_hate/EeoBkhCXoAAc5IQ.jpg      0           2   \n",
      "3     2749         ./annot_3000_hate/EgbTs6AWsAAHAj9.jpg      1           1   \n",
      "4      738  ./annot_2000_no_politics/E0KvNiSVIAQ4vZR.jpg      1           1   \n",
      "...    ...                                           ...    ...         ...   \n",
      "4995   853         ./annot_3000_hate/EfQTejhX0AIt7Hp.jpg      1           1   \n",
      "4996  1291  ./annot_2000_no_politics/EoOmgneWEAAkSy3.jpg      0           1   \n",
      "4997  2136         ./annot_3000_hate/Et4HU8vUcAEY7y5.jpg      0           1   \n",
      "4998   516         ./annot_3000_hate/EUt652pUYAEkpdI.jpg      0           1   \n",
      "4999  1540  ./annot_2000_no_politics/EeqFVFTXYAA3Bs1.jpg      0           1   \n",
      "\n",
      "      pred_medical  pred_viol  pred_racy  \n",
      "0                1          2          1  \n",
      "1                1          1          2  \n",
      "2                2          2          2  \n",
      "3                1          2          1  \n",
      "4                2          2          1  \n",
      "...            ...        ...        ...  \n",
      "4995             2          1          1  \n",
      "4996             1          1          1  \n",
      "4997             1          1          2  \n",
      "4998             1          2          1  \n",
      "4999             1          2          1  \n",
      "\n",
      "[5000 rows x 7 columns]\n"
     ]
    }
   ],
   "metadata": {
    "ExecuteTime": {
     "end_time": "2021-10-05T03:33:30.059327Z",
     "start_time": "2021-10-05T03:33:15.256634Z"
    },
    "scrolled": true,
    "tags": []
   }
  },
  {
   "cell_type": "code",
   "execution_count": 11,
   "source": [
    "df_test = pd.read_csv('./results/df_google.csv')\n",
    "print(df_test)"
   ],
   "outputs": [
    {
     "output_type": "stream",
     "name": "stdout",
     "text": [
      "      Unnamed: 0    id                                           img  label  \\\n",
      "0              0  1438  ./annot_2000_no_politics/EQw2J_mX0AAxvoq.jpg      1   \n",
      "1              1   172  ./annot_2000_no_politics/EWAuxVaWkAIv7Nv.jpg      0   \n",
      "2              2  2156         ./annot_3000_hate/EeoBkhCXoAAc5IQ.jpg      0   \n",
      "3              3  2749         ./annot_3000_hate/EgbTs6AWsAAHAj9.jpg      1   \n",
      "4              4   738  ./annot_2000_no_politics/E0KvNiSVIAQ4vZR.jpg      1   \n",
      "...          ...   ...                                           ...    ...   \n",
      "4995        4995   853         ./annot_3000_hate/EfQTejhX0AIt7Hp.jpg      1   \n",
      "4996        4996  1291  ./annot_2000_no_politics/EoOmgneWEAAkSy3.jpg      0   \n",
      "4997        4997  2136         ./annot_3000_hate/Et4HU8vUcAEY7y5.jpg      0   \n",
      "4998        4998   516         ./annot_3000_hate/EUt652pUYAEkpdI.jpg      0   \n",
      "4999        4999  1540  ./annot_2000_no_politics/EeqFVFTXYAA3Bs1.jpg      0   \n",
      "\n",
      "      pred_adult  pred_medical  pred_viol  pred_racy  \n",
      "0              1             1          2          1  \n",
      "1              1             1          1          2  \n",
      "2              2             2          2          2  \n",
      "3              1             1          2          1  \n",
      "4              1             2          2          1  \n",
      "...          ...           ...        ...        ...  \n",
      "4995           1             2          1          1  \n",
      "4996           1             1          1          1  \n",
      "4997           1             1          1          2  \n",
      "4998           1             1          2          1  \n",
      "4999           1             1          2          1  \n",
      "\n",
      "[5000 rows x 8 columns]\n"
     ]
    }
   ],
   "metadata": {}
  },
  {
   "cell_type": "markdown",
   "source": [
    "### Define the safety criteria"
   ],
   "metadata": {}
  },
  {
   "cell_type": "code",
   "execution_count": 14,
   "source": [
    "# if safe.adult > 3 or safe.medical > 3 or safe.violence > 3 or safe.racy > 3, we record it as 1 which means unsafe\n",
    "df_test['pre_label'] = df_test[['pred_adult','pred_medical','pred_viol','pred_racy']].max(axis=1)\n",
    "df_test['pre_label'] = df_test['pre_label'].apply(lambda x: 1 if x>3 else 0)\n",
    "# check the number of unsafe labels from google\n",
    "df_test['pre_label'].value_counts()"
   ],
   "outputs": [
    {
     "output_type": "execute_result",
     "data": {
      "text/plain": [
       "0    4850\n",
       "1     150\n",
       "Name: pre_label, dtype: int64"
      ]
     },
     "metadata": {},
     "execution_count": 14
    }
   ],
   "metadata": {}
  },
  {
   "cell_type": "markdown",
   "source": [
    "### Get the report"
   ],
   "metadata": {}
  },
  {
   "cell_type": "code",
   "execution_count": 13,
   "source": [
    "print('Classification Report for Google Cloud Vision API:')\n",
    "target_names = ['safe', 'not-safe']\n",
    "print(metrics.classification_report(df_test['label'], df_test['pre_label'], target_names=target_names, digits=4))"
   ],
   "outputs": [
    {
     "output_type": "stream",
     "name": "stdout",
     "text": [
      "Classification Report for Google Cloud Vision API:\n",
      "              precision    recall  f1-score   support\n",
      "\n",
      "        safe     0.7332    0.9719    0.8358      3659\n",
      "    not-safe     0.3133    0.0350    0.0630      1341\n",
      "\n",
      "    accuracy                         0.7206      5000\n",
      "   macro avg     0.5233    0.5034    0.4494      5000\n",
      "weighted avg     0.6206    0.7206    0.6286      5000\n",
      "\n"
     ]
    }
   ],
   "metadata": {}
  },
  {
   "cell_type": "markdown",
   "source": [
    "## Yahoo Open NSFW"
   ],
   "metadata": {}
  },
  {
   "cell_type": "code",
   "execution_count": 5,
   "source": [
    "print('Classification Report for Yahoo Open NSFW:')\n",
    "df_yahoo = pd.read_csv('./results/df_yahoo.csv')\n",
    "df_yahoo['pred_yh'] = df_yahoo['pred_yh_value'].apply(lambda x: 1 if x >= 0.5 else 0 )\n",
    "target_names = ['safe', 'not-safe']\n",
    "print(metrics.classification_report(df_yahoo['label'], df_yahoo['pred_yh'], target_names=target_names, digits=4))"
   ],
   "outputs": [
    {
     "output_type": "stream",
     "name": "stdout",
     "text": [
      "Classification Report for Yahoo Open NSFW:\n",
      "              precision    recall  f1-score   support\n",
      "\n",
      "        safe     0.5051    0.9802    0.6667       253\n",
      "    not-safe     0.4444    0.0162    0.0312       247\n",
      "\n",
      "    accuracy                         0.5040       500\n",
      "   macro avg     0.4748    0.4982    0.3490       500\n",
      "weighted avg     0.4751    0.5040    0.3528       500\n",
      "\n"
     ]
    }
   ],
   "metadata": {
    "collapsed": true
   }
  },
  {
   "cell_type": "markdown",
   "source": [
    "## Clarifai NSFW API"
   ],
   "metadata": {}
  },
  {
   "cell_type": "code",
   "execution_count": 11,
   "source": [
    "from clarifai_grpc.channel.clarifai_channel import ClarifaiChannel\n",
    "from clarifai_grpc.grpc.api import resources_pb2, service_pb2, service_pb2_grpc\n",
    "from clarifai_grpc.grpc.api.status import status_pb2, status_code_pb2\n",
    "\n",
    "channel = ClarifaiChannel.get_json_channel()\n",
    "stub = service_pb2_grpc.V2Stub(channel)\n",
    "\n",
    "metadata = (('authorization', api_keys.CLARIFAI_API_KEY),)\n"
   ],
   "outputs": [],
   "metadata": {}
  },
  {
   "cell_type": "code",
   "execution_count": 5,
   "source": [
    "def clarifai_api(path):\n",
    "    with open(path, \"rb\") as f:\n",
    "        file_bytes = f.read()\n",
    "\n",
    "    request = service_pb2.PostModelOutputsRequest(\n",
    "        # This is the model ID of a publicly available General model. \n",
    "        # You may use any other public or custom model ID.\n",
    "        model_id='e9576d86d2004ed1a38ba0cf39ecb4b1',\n",
    "        inputs=[\n",
    "            resources_pb2.Input(\n",
    "                data=resources_pb2.Data(\n",
    "                    image=resources_pb2.Image(\n",
    "                        base64=file_bytes\n",
    "                    )\n",
    "                )\n",
    "            )\n",
    "        ])\n",
    "    response = stub.PostModelOutputs(request, metadata=metadata)\n",
    "\n",
    "    if response.status.code != status_code_pb2.SUCCESS:\n",
    "        raise Exception(\"Post model outputs failed, status: \" + response.status.description)\n",
    "\n",
    "    # for concept in response.outputs[0].data.concepts:\n",
    "    #     print('%12s: %.2f' % (concept.name, concept.value))\n",
    "\n",
    "    # if response.outputs[0].data.concepts[1].value >= 0.4:\n",
    "    #     print('Image: {}, Offensive: {:.2f}'.format(path, response.outputs[0].data.concepts[1].value))\n",
    "    # else:\n",
    "    #     print('Image: {}, not-Offensive: {:.2f}'.format(path, response.outputs[0].data.concepts[1].value))\n",
    "\n",
    "    return response.outputs[0].data.concepts[1].name, response.outputs[0].data.concepts[1].value"
   ],
   "outputs": [],
   "metadata": {}
  },
  {
   "cell_type": "code",
   "execution_count": 6,
   "source": [
    "# df_clarifai = df.copy()\n",
    "# header = [\"id\", \"img\", \"label\"]\n",
    "# df_clarifai.to_csv('./df_clarifai.csv', columns = header)\n",
    "# print(df_clarifai)"
   ],
   "outputs": [],
   "metadata": {}
  },
  {
   "cell_type": "code",
   "execution_count": 6,
   "source": [
    "df_c = pd.read_csv('./df_clarifai.csv')\n",
    "df_c = df_c.loc[:, ~df_c.columns.str.contains('^Unnamed')]\n",
    "#print(df_c)"
   ],
   "outputs": [],
   "metadata": {}
  },
  {
   "cell_type": "code",
   "execution_count": 7,
   "source": [
    "df_c1 = df_c[:1000]\n",
    "df_c2 = df_c[1000:2000]\n",
    "df_c3 = df_c[2000:3000]\n",
    "df_c4 = df_c[3000:4000]\n",
    "df_c5 = df_c[4000:]\n",
    "#df_c5"
   ],
   "outputs": [],
   "metadata": {}
  },
  {
   "cell_type": "code",
   "execution_count": 12,
   "source": [
    "tqdm.pandas()\n",
    "df_c1['pred_cf'] = df_c1['img'].progress_apply(clarifai_api)\n",
    "# df_c1.to_csv('./results/df_clarifai.csv', mode='a', header=False)"
   ],
   "outputs": [
    {
     "output_type": "display_data",
     "data": {
      "application/vnd.jupyter.widget-view+json": {
       "version_major": 2,
       "version_minor": 0,
       "model_id": "30fddfe155e541e5a5a95b885b4b301b"
      },
      "text/plain": [
       "  0%|          | 0/1000 [00:00<?, ?it/s]"
      ]
     },
     "metadata": {}
    },
    {
     "output_type": "error",
     "ename": "UsageError",
     "evalue": "Please provide metadata with the format of (('authorization', 'Key YOUR_CLARIFAI_API_KEY'),)",
     "traceback": [
      "\u001b[0;31m---------------------------------------------------------------------------\u001b[0m",
      "\u001b[0;31mUsageError\u001b[0m                                Traceback (most recent call last)",
      "\u001b[0;32m<ipython-input-12-d28771a7607a>\u001b[0m in \u001b[0;36m<module>\u001b[0;34m\u001b[0m\n\u001b[1;32m      1\u001b[0m \u001b[0mtqdm\u001b[0m\u001b[0;34m.\u001b[0m\u001b[0mpandas\u001b[0m\u001b[0;34m(\u001b[0m\u001b[0;34m)\u001b[0m\u001b[0;34m\u001b[0m\u001b[0;34m\u001b[0m\u001b[0m\n\u001b[0;32m----> 2\u001b[0;31m \u001b[0mdf_c1\u001b[0m\u001b[0;34m[\u001b[0m\u001b[0;34m'pred_cf'\u001b[0m\u001b[0;34m]\u001b[0m \u001b[0;34m=\u001b[0m \u001b[0mdf_c1\u001b[0m\u001b[0;34m[\u001b[0m\u001b[0;34m'img'\u001b[0m\u001b[0;34m]\u001b[0m\u001b[0;34m.\u001b[0m\u001b[0mprogress_apply\u001b[0m\u001b[0;34m(\u001b[0m\u001b[0mclarifai_api\u001b[0m\u001b[0;34m)\u001b[0m\u001b[0;34m\u001b[0m\u001b[0;34m\u001b[0m\u001b[0m\n\u001b[0m\u001b[1;32m      3\u001b[0m \u001b[0;31m# df_c1.to_csv('./results/df_clarifai.csv', mode='a', header=False)\u001b[0m\u001b[0;34m\u001b[0m\u001b[0;34m\u001b[0m\u001b[0;34m\u001b[0m\u001b[0m\n",
      "\u001b[0;32m~/opt/anaconda3/envs/py3/lib/python3.8/site-packages/tqdm/std.py\u001b[0m in \u001b[0;36minner\u001b[0;34m(df, func, *args, **kwargs)\u001b[0m\n\u001b[1;32m    812\u001b[0m                 \u001b[0;31m# on the df using our wrapper (which provides bar updating)\u001b[0m\u001b[0;34m\u001b[0m\u001b[0;34m\u001b[0m\u001b[0;34m\u001b[0m\u001b[0m\n\u001b[1;32m    813\u001b[0m                 \u001b[0;32mtry\u001b[0m\u001b[0;34m:\u001b[0m\u001b[0;34m\u001b[0m\u001b[0;34m\u001b[0m\u001b[0m\n\u001b[0;32m--> 814\u001b[0;31m                     \u001b[0;32mreturn\u001b[0m \u001b[0mgetattr\u001b[0m\u001b[0;34m(\u001b[0m\u001b[0mdf\u001b[0m\u001b[0;34m,\u001b[0m \u001b[0mdf_function\u001b[0m\u001b[0;34m)\u001b[0m\u001b[0;34m(\u001b[0m\u001b[0mwrapper\u001b[0m\u001b[0;34m,\u001b[0m \u001b[0;34m**\u001b[0m\u001b[0mkwargs\u001b[0m\u001b[0;34m)\u001b[0m\u001b[0;34m\u001b[0m\u001b[0;34m\u001b[0m\u001b[0m\n\u001b[0m\u001b[1;32m    815\u001b[0m                 \u001b[0;32mfinally\u001b[0m\u001b[0;34m:\u001b[0m\u001b[0;34m\u001b[0m\u001b[0;34m\u001b[0m\u001b[0m\n\u001b[1;32m    816\u001b[0m                     \u001b[0mt\u001b[0m\u001b[0;34m.\u001b[0m\u001b[0mclose\u001b[0m\u001b[0;34m(\u001b[0m\u001b[0;34m)\u001b[0m\u001b[0;34m\u001b[0m\u001b[0;34m\u001b[0m\u001b[0m\n",
      "\u001b[0;32m~/opt/anaconda3/envs/py3/lib/python3.8/site-packages/pandas/core/series.py\u001b[0m in \u001b[0;36mapply\u001b[0;34m(self, func, convert_dtype, args, **kwargs)\u001b[0m\n\u001b[1;32m   4355\u001b[0m         \u001b[0mdtype\u001b[0m\u001b[0;34m:\u001b[0m \u001b[0mfloat64\u001b[0m\u001b[0;34m\u001b[0m\u001b[0;34m\u001b[0m\u001b[0m\n\u001b[1;32m   4356\u001b[0m         \"\"\"\n\u001b[0;32m-> 4357\u001b[0;31m         \u001b[0;32mreturn\u001b[0m \u001b[0mSeriesApply\u001b[0m\u001b[0;34m(\u001b[0m\u001b[0mself\u001b[0m\u001b[0;34m,\u001b[0m \u001b[0mfunc\u001b[0m\u001b[0;34m,\u001b[0m \u001b[0mconvert_dtype\u001b[0m\u001b[0;34m,\u001b[0m \u001b[0margs\u001b[0m\u001b[0;34m,\u001b[0m \u001b[0mkwargs\u001b[0m\u001b[0;34m)\u001b[0m\u001b[0;34m.\u001b[0m\u001b[0mapply\u001b[0m\u001b[0;34m(\u001b[0m\u001b[0;34m)\u001b[0m\u001b[0;34m\u001b[0m\u001b[0;34m\u001b[0m\u001b[0m\n\u001b[0m\u001b[1;32m   4358\u001b[0m \u001b[0;34m\u001b[0m\u001b[0m\n\u001b[1;32m   4359\u001b[0m     def _reduce(\n",
      "\u001b[0;32m~/opt/anaconda3/envs/py3/lib/python3.8/site-packages/pandas/core/apply.py\u001b[0m in \u001b[0;36mapply\u001b[0;34m(self)\u001b[0m\n\u001b[1;32m   1041\u001b[0m             \u001b[0;32mreturn\u001b[0m \u001b[0mself\u001b[0m\u001b[0;34m.\u001b[0m\u001b[0mapply_str\u001b[0m\u001b[0;34m(\u001b[0m\u001b[0;34m)\u001b[0m\u001b[0;34m\u001b[0m\u001b[0;34m\u001b[0m\u001b[0m\n\u001b[1;32m   1042\u001b[0m \u001b[0;34m\u001b[0m\u001b[0m\n\u001b[0;32m-> 1043\u001b[0;31m         \u001b[0;32mreturn\u001b[0m \u001b[0mself\u001b[0m\u001b[0;34m.\u001b[0m\u001b[0mapply_standard\u001b[0m\u001b[0;34m(\u001b[0m\u001b[0;34m)\u001b[0m\u001b[0;34m\u001b[0m\u001b[0;34m\u001b[0m\u001b[0m\n\u001b[0m\u001b[1;32m   1044\u001b[0m \u001b[0;34m\u001b[0m\u001b[0m\n\u001b[1;32m   1045\u001b[0m     \u001b[0;32mdef\u001b[0m \u001b[0magg\u001b[0m\u001b[0;34m(\u001b[0m\u001b[0mself\u001b[0m\u001b[0;34m)\u001b[0m\u001b[0;34m:\u001b[0m\u001b[0;34m\u001b[0m\u001b[0;34m\u001b[0m\u001b[0m\n",
      "\u001b[0;32m~/opt/anaconda3/envs/py3/lib/python3.8/site-packages/pandas/core/apply.py\u001b[0m in \u001b[0;36mapply_standard\u001b[0;34m(self)\u001b[0m\n\u001b[1;32m   1097\u001b[0m                 \u001b[0;31m# List[Union[Callable[..., Any], str]]]]]\"; expected\u001b[0m\u001b[0;34m\u001b[0m\u001b[0;34m\u001b[0m\u001b[0;34m\u001b[0m\u001b[0m\n\u001b[1;32m   1098\u001b[0m                 \u001b[0;31m# \"Callable[[Any], Any]\"\u001b[0m\u001b[0;34m\u001b[0m\u001b[0;34m\u001b[0m\u001b[0;34m\u001b[0m\u001b[0m\n\u001b[0;32m-> 1099\u001b[0;31m                 mapped = lib.map_infer(\n\u001b[0m\u001b[1;32m   1100\u001b[0m                     \u001b[0mvalues\u001b[0m\u001b[0;34m,\u001b[0m\u001b[0;34m\u001b[0m\u001b[0;34m\u001b[0m\u001b[0m\n\u001b[1;32m   1101\u001b[0m                     \u001b[0mf\u001b[0m\u001b[0;34m,\u001b[0m  \u001b[0;31m# type: ignore[arg-type]\u001b[0m\u001b[0;34m\u001b[0m\u001b[0;34m\u001b[0m\u001b[0m\n",
      "\u001b[0;32m~/opt/anaconda3/envs/py3/lib/python3.8/site-packages/pandas/_libs/lib.pyx\u001b[0m in \u001b[0;36mpandas._libs.lib.map_infer\u001b[0;34m()\u001b[0m\n",
      "\u001b[0;32m~/opt/anaconda3/envs/py3/lib/python3.8/site-packages/tqdm/std.py\u001b[0m in \u001b[0;36mwrapper\u001b[0;34m(*args, **kwargs)\u001b[0m\n\u001b[1;32m    807\u001b[0m                     \u001b[0;31m# take a fast or slow code path; so stop when t.total==t.n\u001b[0m\u001b[0;34m\u001b[0m\u001b[0;34m\u001b[0m\u001b[0;34m\u001b[0m\u001b[0m\n\u001b[1;32m    808\u001b[0m                     \u001b[0mt\u001b[0m\u001b[0;34m.\u001b[0m\u001b[0mupdate\u001b[0m\u001b[0;34m(\u001b[0m\u001b[0mn\u001b[0m\u001b[0;34m=\u001b[0m\u001b[0;36m1\u001b[0m \u001b[0;32mif\u001b[0m \u001b[0;32mnot\u001b[0m \u001b[0mt\u001b[0m\u001b[0;34m.\u001b[0m\u001b[0mtotal\u001b[0m \u001b[0;32mor\u001b[0m \u001b[0mt\u001b[0m\u001b[0;34m.\u001b[0m\u001b[0mn\u001b[0m \u001b[0;34m<\u001b[0m \u001b[0mt\u001b[0m\u001b[0;34m.\u001b[0m\u001b[0mtotal\u001b[0m \u001b[0;32melse\u001b[0m \u001b[0;36m0\u001b[0m\u001b[0;34m)\u001b[0m\u001b[0;34m\u001b[0m\u001b[0;34m\u001b[0m\u001b[0m\n\u001b[0;32m--> 809\u001b[0;31m                     \u001b[0;32mreturn\u001b[0m \u001b[0mfunc\u001b[0m\u001b[0;34m(\u001b[0m\u001b[0;34m*\u001b[0m\u001b[0margs\u001b[0m\u001b[0;34m,\u001b[0m \u001b[0;34m**\u001b[0m\u001b[0mkwargs\u001b[0m\u001b[0;34m)\u001b[0m\u001b[0;34m\u001b[0m\u001b[0;34m\u001b[0m\u001b[0m\n\u001b[0m\u001b[1;32m    810\u001b[0m \u001b[0;34m\u001b[0m\u001b[0m\n\u001b[1;32m    811\u001b[0m                 \u001b[0;31m# Apply the provided function (in **kwargs)\u001b[0m\u001b[0;34m\u001b[0m\u001b[0;34m\u001b[0m\u001b[0;34m\u001b[0m\u001b[0m\n",
      "\u001b[0;32m<ipython-input-5-b8e744f6a964>\u001b[0m in \u001b[0;36mclarifai_api\u001b[0;34m(path)\u001b[0m\n\u001b[1;32m     16\u001b[0m             )\n\u001b[1;32m     17\u001b[0m         ])\n\u001b[0;32m---> 18\u001b[0;31m     \u001b[0mresponse\u001b[0m \u001b[0;34m=\u001b[0m \u001b[0mstub\u001b[0m\u001b[0;34m.\u001b[0m\u001b[0mPostModelOutputs\u001b[0m\u001b[0;34m(\u001b[0m\u001b[0mrequest\u001b[0m\u001b[0;34m,\u001b[0m \u001b[0mmetadata\u001b[0m\u001b[0;34m=\u001b[0m\u001b[0mmetadata\u001b[0m\u001b[0;34m)\u001b[0m\u001b[0;34m\u001b[0m\u001b[0;34m\u001b[0m\u001b[0m\n\u001b[0m\u001b[1;32m     19\u001b[0m \u001b[0;34m\u001b[0m\u001b[0m\n\u001b[1;32m     20\u001b[0m     \u001b[0;32mif\u001b[0m \u001b[0mresponse\u001b[0m\u001b[0;34m.\u001b[0m\u001b[0mstatus\u001b[0m\u001b[0;34m.\u001b[0m\u001b[0mcode\u001b[0m \u001b[0;34m!=\u001b[0m \u001b[0mstatus_code_pb2\u001b[0m\u001b[0;34m.\u001b[0m\u001b[0mSUCCESS\u001b[0m\u001b[0;34m:\u001b[0m\u001b[0;34m\u001b[0m\u001b[0;34m\u001b[0m\u001b[0m\n",
      "\u001b[0;32m~/opt/anaconda3/envs/py3/lib/python3.8/site-packages/clarifai_grpc/channel/grpc_json_channel.py\u001b[0m in \u001b[0;36m__call__\u001b[0;34m(self, request, metadata)\u001b[0m\n\u001b[1;32m    176\u001b[0m                 \u001b[0;32mdel\u001b[0m \u001b[0mparams\u001b[0m\u001b[0;34m[\u001b[0m\u001b[0murl_field\u001b[0m\u001b[0;34m]\u001b[0m\u001b[0;34m\u001b[0m\u001b[0;34m\u001b[0m\u001b[0m\n\u001b[1;32m    177\u001b[0m \u001b[0;34m\u001b[0m\u001b[0m\n\u001b[0;32m--> 178\u001b[0;31m         \u001b[0mauth_string\u001b[0m \u001b[0;34m=\u001b[0m \u001b[0mself\u001b[0m\u001b[0;34m.\u001b[0m\u001b[0m_read_auth_string\u001b[0m\u001b[0;34m(\u001b[0m\u001b[0mmetadata\u001b[0m\u001b[0;34m)\u001b[0m\u001b[0;34m\u001b[0m\u001b[0;34m\u001b[0m\u001b[0m\n\u001b[0m\u001b[1;32m    179\u001b[0m \u001b[0;34m\u001b[0m\u001b[0m\n\u001b[1;32m    180\u001b[0m         \u001b[0mhttp\u001b[0m \u001b[0;34m=\u001b[0m \u001b[0mhttp_client\u001b[0m\u001b[0;34m.\u001b[0m\u001b[0mHttpClient\u001b[0m\u001b[0;34m(\u001b[0m\u001b[0mself\u001b[0m\u001b[0;34m.\u001b[0m\u001b[0msession\u001b[0m\u001b[0;34m,\u001b[0m \u001b[0mauth_string\u001b[0m\u001b[0;34m)\u001b[0m\u001b[0;34m\u001b[0m\u001b[0;34m\u001b[0m\u001b[0m\n",
      "\u001b[0;32m~/opt/anaconda3/envs/py3/lib/python3.8/site-packages/clarifai_grpc/channel/grpc_json_channel.py\u001b[0m in \u001b[0;36m_read_auth_string\u001b[0;34m(self, metadata)\u001b[0m\n\u001b[1;32m    200\u001b[0m             \u001b[0;32mor\u001b[0m \u001b[0mlen\u001b[0m\u001b[0;34m(\u001b[0m\u001b[0mauthorization_values\u001b[0m\u001b[0;34m[\u001b[0m\u001b[0;36m0\u001b[0m\u001b[0;34m]\u001b[0m\u001b[0;34m.\u001b[0m\u001b[0msplit\u001b[0m\u001b[0;34m(\u001b[0m\u001b[0;34m\" \"\u001b[0m\u001b[0;34m)\u001b[0m\u001b[0;34m)\u001b[0m \u001b[0;34m!=\u001b[0m \u001b[0;36m2\u001b[0m\u001b[0;34m\u001b[0m\u001b[0;34m\u001b[0m\u001b[0m\n\u001b[1;32m    201\u001b[0m         ):\n\u001b[0;32m--> 202\u001b[0;31m             raise UsageError(\n\u001b[0m\u001b[1;32m    203\u001b[0m                 \u001b[0;34m\"Please provide metadata with the format of \"\u001b[0m\u001b[0;34m\u001b[0m\u001b[0;34m\u001b[0m\u001b[0m\n\u001b[1;32m    204\u001b[0m                 \u001b[0;34m\"(('authorization', 'Key YOUR_CLARIFAI_API_KEY'),)\"\u001b[0m\u001b[0;34m\u001b[0m\u001b[0;34m\u001b[0m\u001b[0m\n",
      "\u001b[0;31mUsageError\u001b[0m: Please provide metadata with the format of (('authorization', 'Key YOUR_CLARIFAI_API_KEY'),)"
     ]
    }
   ],
   "metadata": {}
  },
  {
   "cell_type": "code",
   "execution_count": 8,
   "source": [
    "print('Classification Report for Clarifai NSFW API:')\n",
    "df_clarifai = pd.read_csv('./results/df_clarifai.csv')\n",
    "df_clarifai['pred_cf'] = df_clarifai['pred_cf_value'].apply(lambda x: 1 if x >= 0.5 else 0 )\n",
    "target_names = ['safe', 'not-safe']\n",
    "print(metrics.classification_report(df_clarifai['label'], df_clarifai['pred_cf'], target_names=target_names, digits=4))"
   ],
   "outputs": [
    {
     "output_type": "stream",
     "name": "stdout",
     "text": [
      "Classification Report for Clarifai NSFW API:\n"
     ]
    },
    {
     "output_type": "error",
     "ename": "FileNotFoundError",
     "evalue": "[Errno 2] No such file or directory: './results/df_clarifai.csv'",
     "traceback": [
      "\u001b[0;31m---------------------------------------------------------------------------\u001b[0m",
      "\u001b[0;31mFileNotFoundError\u001b[0m                         Traceback (most recent call last)",
      "\u001b[0;32m<ipython-input-8-932bb9cc515a>\u001b[0m in \u001b[0;36m<module>\u001b[0;34m\u001b[0m\n\u001b[1;32m      1\u001b[0m \u001b[0mprint\u001b[0m\u001b[0;34m(\u001b[0m\u001b[0;34m'Classification Report for Clarifai NSFW API:'\u001b[0m\u001b[0;34m)\u001b[0m\u001b[0;34m\u001b[0m\u001b[0;34m\u001b[0m\u001b[0m\n\u001b[0;32m----> 2\u001b[0;31m \u001b[0mdf_clarifai\u001b[0m \u001b[0;34m=\u001b[0m \u001b[0mpd\u001b[0m\u001b[0;34m.\u001b[0m\u001b[0mread_csv\u001b[0m\u001b[0;34m(\u001b[0m\u001b[0;34m'./results/df_clarifai.csv'\u001b[0m\u001b[0;34m)\u001b[0m\u001b[0;34m\u001b[0m\u001b[0;34m\u001b[0m\u001b[0m\n\u001b[0m\u001b[1;32m      3\u001b[0m \u001b[0mdf_clarifai\u001b[0m\u001b[0;34m[\u001b[0m\u001b[0;34m'pred_cf'\u001b[0m\u001b[0;34m]\u001b[0m \u001b[0;34m=\u001b[0m \u001b[0mdf_clarifai\u001b[0m\u001b[0;34m[\u001b[0m\u001b[0;34m'pred_cf_value'\u001b[0m\u001b[0;34m]\u001b[0m\u001b[0;34m.\u001b[0m\u001b[0mapply\u001b[0m\u001b[0;34m(\u001b[0m\u001b[0;32mlambda\u001b[0m \u001b[0mx\u001b[0m\u001b[0;34m:\u001b[0m \u001b[0;36m1\u001b[0m \u001b[0;32mif\u001b[0m \u001b[0mx\u001b[0m \u001b[0;34m>=\u001b[0m \u001b[0;36m0.5\u001b[0m \u001b[0;32melse\u001b[0m \u001b[0;36m0\u001b[0m \u001b[0;34m)\u001b[0m\u001b[0;34m\u001b[0m\u001b[0;34m\u001b[0m\u001b[0m\n\u001b[1;32m      4\u001b[0m \u001b[0mtarget_names\u001b[0m \u001b[0;34m=\u001b[0m \u001b[0;34m[\u001b[0m\u001b[0;34m'safe'\u001b[0m\u001b[0;34m,\u001b[0m \u001b[0;34m'not-safe'\u001b[0m\u001b[0;34m]\u001b[0m\u001b[0;34m\u001b[0m\u001b[0;34m\u001b[0m\u001b[0m\n\u001b[1;32m      5\u001b[0m \u001b[0mprint\u001b[0m\u001b[0;34m(\u001b[0m\u001b[0mmetrics\u001b[0m\u001b[0;34m.\u001b[0m\u001b[0mclassification_report\u001b[0m\u001b[0;34m(\u001b[0m\u001b[0mdf_clarifai\u001b[0m\u001b[0;34m[\u001b[0m\u001b[0;34m'label'\u001b[0m\u001b[0;34m]\u001b[0m\u001b[0;34m,\u001b[0m \u001b[0mdf_clarifai\u001b[0m\u001b[0;34m[\u001b[0m\u001b[0;34m'pred_cf'\u001b[0m\u001b[0;34m]\u001b[0m\u001b[0;34m,\u001b[0m \u001b[0mtarget_names\u001b[0m\u001b[0;34m=\u001b[0m\u001b[0mtarget_names\u001b[0m\u001b[0;34m,\u001b[0m \u001b[0mdigits\u001b[0m\u001b[0;34m=\u001b[0m\u001b[0;36m4\u001b[0m\u001b[0;34m)\u001b[0m\u001b[0;34m)\u001b[0m\u001b[0;34m\u001b[0m\u001b[0;34m\u001b[0m\u001b[0m\n",
      "\u001b[0;32m~/opt/anaconda3/envs/py3/lib/python3.8/site-packages/pandas/util/_decorators.py\u001b[0m in \u001b[0;36mwrapper\u001b[0;34m(*args, **kwargs)\u001b[0m\n\u001b[1;32m    309\u001b[0m                     \u001b[0mstacklevel\u001b[0m\u001b[0;34m=\u001b[0m\u001b[0mstacklevel\u001b[0m\u001b[0;34m,\u001b[0m\u001b[0;34m\u001b[0m\u001b[0;34m\u001b[0m\u001b[0m\n\u001b[1;32m    310\u001b[0m                 )\n\u001b[0;32m--> 311\u001b[0;31m             \u001b[0;32mreturn\u001b[0m \u001b[0mfunc\u001b[0m\u001b[0;34m(\u001b[0m\u001b[0;34m*\u001b[0m\u001b[0margs\u001b[0m\u001b[0;34m,\u001b[0m \u001b[0;34m**\u001b[0m\u001b[0mkwargs\u001b[0m\u001b[0;34m)\u001b[0m\u001b[0;34m\u001b[0m\u001b[0;34m\u001b[0m\u001b[0m\n\u001b[0m\u001b[1;32m    312\u001b[0m \u001b[0;34m\u001b[0m\u001b[0m\n\u001b[1;32m    313\u001b[0m         \u001b[0;32mreturn\u001b[0m \u001b[0mwrapper\u001b[0m\u001b[0;34m\u001b[0m\u001b[0;34m\u001b[0m\u001b[0m\n",
      "\u001b[0;32m~/opt/anaconda3/envs/py3/lib/python3.8/site-packages/pandas/io/parsers/readers.py\u001b[0m in \u001b[0;36mread_csv\u001b[0;34m(filepath_or_buffer, sep, delimiter, header, names, index_col, usecols, squeeze, prefix, mangle_dupe_cols, dtype, engine, converters, true_values, false_values, skipinitialspace, skiprows, skipfooter, nrows, na_values, keep_default_na, na_filter, verbose, skip_blank_lines, parse_dates, infer_datetime_format, keep_date_col, date_parser, dayfirst, cache_dates, iterator, chunksize, compression, thousands, decimal, lineterminator, quotechar, quoting, doublequote, escapechar, comment, encoding, encoding_errors, dialect, error_bad_lines, warn_bad_lines, on_bad_lines, delim_whitespace, low_memory, memory_map, float_precision, storage_options)\u001b[0m\n\u001b[1;32m    584\u001b[0m     \u001b[0mkwds\u001b[0m\u001b[0;34m.\u001b[0m\u001b[0mupdate\u001b[0m\u001b[0;34m(\u001b[0m\u001b[0mkwds_defaults\u001b[0m\u001b[0;34m)\u001b[0m\u001b[0;34m\u001b[0m\u001b[0;34m\u001b[0m\u001b[0m\n\u001b[1;32m    585\u001b[0m \u001b[0;34m\u001b[0m\u001b[0m\n\u001b[0;32m--> 586\u001b[0;31m     \u001b[0;32mreturn\u001b[0m \u001b[0m_read\u001b[0m\u001b[0;34m(\u001b[0m\u001b[0mfilepath_or_buffer\u001b[0m\u001b[0;34m,\u001b[0m \u001b[0mkwds\u001b[0m\u001b[0;34m)\u001b[0m\u001b[0;34m\u001b[0m\u001b[0;34m\u001b[0m\u001b[0m\n\u001b[0m\u001b[1;32m    587\u001b[0m \u001b[0;34m\u001b[0m\u001b[0m\n\u001b[1;32m    588\u001b[0m \u001b[0;34m\u001b[0m\u001b[0m\n",
      "\u001b[0;32m~/opt/anaconda3/envs/py3/lib/python3.8/site-packages/pandas/io/parsers/readers.py\u001b[0m in \u001b[0;36m_read\u001b[0;34m(filepath_or_buffer, kwds)\u001b[0m\n\u001b[1;32m    480\u001b[0m \u001b[0;34m\u001b[0m\u001b[0m\n\u001b[1;32m    481\u001b[0m     \u001b[0;31m# Create the parser.\u001b[0m\u001b[0;34m\u001b[0m\u001b[0;34m\u001b[0m\u001b[0;34m\u001b[0m\u001b[0m\n\u001b[0;32m--> 482\u001b[0;31m     \u001b[0mparser\u001b[0m \u001b[0;34m=\u001b[0m \u001b[0mTextFileReader\u001b[0m\u001b[0;34m(\u001b[0m\u001b[0mfilepath_or_buffer\u001b[0m\u001b[0;34m,\u001b[0m \u001b[0;34m**\u001b[0m\u001b[0mkwds\u001b[0m\u001b[0;34m)\u001b[0m\u001b[0;34m\u001b[0m\u001b[0;34m\u001b[0m\u001b[0m\n\u001b[0m\u001b[1;32m    483\u001b[0m \u001b[0;34m\u001b[0m\u001b[0m\n\u001b[1;32m    484\u001b[0m     \u001b[0;32mif\u001b[0m \u001b[0mchunksize\u001b[0m \u001b[0;32mor\u001b[0m \u001b[0miterator\u001b[0m\u001b[0;34m:\u001b[0m\u001b[0;34m\u001b[0m\u001b[0;34m\u001b[0m\u001b[0m\n",
      "\u001b[0;32m~/opt/anaconda3/envs/py3/lib/python3.8/site-packages/pandas/io/parsers/readers.py\u001b[0m in \u001b[0;36m__init__\u001b[0;34m(self, f, engine, **kwds)\u001b[0m\n\u001b[1;32m    809\u001b[0m             \u001b[0mself\u001b[0m\u001b[0;34m.\u001b[0m\u001b[0moptions\u001b[0m\u001b[0;34m[\u001b[0m\u001b[0;34m\"has_index_names\"\u001b[0m\u001b[0;34m]\u001b[0m \u001b[0;34m=\u001b[0m \u001b[0mkwds\u001b[0m\u001b[0;34m[\u001b[0m\u001b[0;34m\"has_index_names\"\u001b[0m\u001b[0;34m]\u001b[0m\u001b[0;34m\u001b[0m\u001b[0;34m\u001b[0m\u001b[0m\n\u001b[1;32m    810\u001b[0m \u001b[0;34m\u001b[0m\u001b[0m\n\u001b[0;32m--> 811\u001b[0;31m         \u001b[0mself\u001b[0m\u001b[0;34m.\u001b[0m\u001b[0m_engine\u001b[0m \u001b[0;34m=\u001b[0m \u001b[0mself\u001b[0m\u001b[0;34m.\u001b[0m\u001b[0m_make_engine\u001b[0m\u001b[0;34m(\u001b[0m\u001b[0mself\u001b[0m\u001b[0;34m.\u001b[0m\u001b[0mengine\u001b[0m\u001b[0;34m)\u001b[0m\u001b[0;34m\u001b[0m\u001b[0;34m\u001b[0m\u001b[0m\n\u001b[0m\u001b[1;32m    812\u001b[0m \u001b[0;34m\u001b[0m\u001b[0m\n\u001b[1;32m    813\u001b[0m     \u001b[0;32mdef\u001b[0m \u001b[0mclose\u001b[0m\u001b[0;34m(\u001b[0m\u001b[0mself\u001b[0m\u001b[0;34m)\u001b[0m\u001b[0;34m:\u001b[0m\u001b[0;34m\u001b[0m\u001b[0;34m\u001b[0m\u001b[0m\n",
      "\u001b[0;32m~/opt/anaconda3/envs/py3/lib/python3.8/site-packages/pandas/io/parsers/readers.py\u001b[0m in \u001b[0;36m_make_engine\u001b[0;34m(self, engine)\u001b[0m\n\u001b[1;32m   1038\u001b[0m             )\n\u001b[1;32m   1039\u001b[0m         \u001b[0;31m# error: Too many arguments for \"ParserBase\"\u001b[0m\u001b[0;34m\u001b[0m\u001b[0;34m\u001b[0m\u001b[0;34m\u001b[0m\u001b[0m\n\u001b[0;32m-> 1040\u001b[0;31m         \u001b[0;32mreturn\u001b[0m \u001b[0mmapping\u001b[0m\u001b[0;34m[\u001b[0m\u001b[0mengine\u001b[0m\u001b[0;34m]\u001b[0m\u001b[0;34m(\u001b[0m\u001b[0mself\u001b[0m\u001b[0;34m.\u001b[0m\u001b[0mf\u001b[0m\u001b[0;34m,\u001b[0m \u001b[0;34m**\u001b[0m\u001b[0mself\u001b[0m\u001b[0;34m.\u001b[0m\u001b[0moptions\u001b[0m\u001b[0;34m)\u001b[0m  \u001b[0;31m# type: ignore[call-arg]\u001b[0m\u001b[0;34m\u001b[0m\u001b[0;34m\u001b[0m\u001b[0m\n\u001b[0m\u001b[1;32m   1041\u001b[0m \u001b[0;34m\u001b[0m\u001b[0m\n\u001b[1;32m   1042\u001b[0m     \u001b[0;32mdef\u001b[0m \u001b[0m_failover_to_python\u001b[0m\u001b[0;34m(\u001b[0m\u001b[0mself\u001b[0m\u001b[0;34m)\u001b[0m\u001b[0;34m:\u001b[0m\u001b[0;34m\u001b[0m\u001b[0;34m\u001b[0m\u001b[0m\n",
      "\u001b[0;32m~/opt/anaconda3/envs/py3/lib/python3.8/site-packages/pandas/io/parsers/c_parser_wrapper.py\u001b[0m in \u001b[0;36m__init__\u001b[0;34m(self, src, **kwds)\u001b[0m\n\u001b[1;32m     49\u001b[0m \u001b[0;34m\u001b[0m\u001b[0m\n\u001b[1;32m     50\u001b[0m         \u001b[0;31m# open handles\u001b[0m\u001b[0;34m\u001b[0m\u001b[0;34m\u001b[0m\u001b[0;34m\u001b[0m\u001b[0m\n\u001b[0;32m---> 51\u001b[0;31m         \u001b[0mself\u001b[0m\u001b[0;34m.\u001b[0m\u001b[0m_open_handles\u001b[0m\u001b[0;34m(\u001b[0m\u001b[0msrc\u001b[0m\u001b[0;34m,\u001b[0m \u001b[0mkwds\u001b[0m\u001b[0;34m)\u001b[0m\u001b[0;34m\u001b[0m\u001b[0;34m\u001b[0m\u001b[0m\n\u001b[0m\u001b[1;32m     52\u001b[0m         \u001b[0;32massert\u001b[0m \u001b[0mself\u001b[0m\u001b[0;34m.\u001b[0m\u001b[0mhandles\u001b[0m \u001b[0;32mis\u001b[0m \u001b[0;32mnot\u001b[0m \u001b[0;32mNone\u001b[0m\u001b[0;34m\u001b[0m\u001b[0;34m\u001b[0m\u001b[0m\n\u001b[1;32m     53\u001b[0m \u001b[0;34m\u001b[0m\u001b[0m\n",
      "\u001b[0;32m~/opt/anaconda3/envs/py3/lib/python3.8/site-packages/pandas/io/parsers/base_parser.py\u001b[0m in \u001b[0;36m_open_handles\u001b[0;34m(self, src, kwds)\u001b[0m\n\u001b[1;32m    220\u001b[0m         \u001b[0mLet\u001b[0m \u001b[0mthe\u001b[0m \u001b[0mreaders\u001b[0m \u001b[0mopen\u001b[0m \u001b[0mIOHandles\u001b[0m \u001b[0mafter\u001b[0m \u001b[0mthey\u001b[0m \u001b[0mare\u001b[0m \u001b[0mdone\u001b[0m \u001b[0;32mwith\u001b[0m \u001b[0mtheir\u001b[0m \u001b[0mpotential\u001b[0m \u001b[0mraises\u001b[0m\u001b[0;34m.\u001b[0m\u001b[0;34m\u001b[0m\u001b[0;34m\u001b[0m\u001b[0m\n\u001b[1;32m    221\u001b[0m         \"\"\"\n\u001b[0;32m--> 222\u001b[0;31m         self.handles = get_handle(\n\u001b[0m\u001b[1;32m    223\u001b[0m             \u001b[0msrc\u001b[0m\u001b[0;34m,\u001b[0m\u001b[0;34m\u001b[0m\u001b[0;34m\u001b[0m\u001b[0m\n\u001b[1;32m    224\u001b[0m             \u001b[0;34m\"r\"\u001b[0m\u001b[0;34m,\u001b[0m\u001b[0;34m\u001b[0m\u001b[0;34m\u001b[0m\u001b[0m\n",
      "\u001b[0;32m~/opt/anaconda3/envs/py3/lib/python3.8/site-packages/pandas/io/common.py\u001b[0m in \u001b[0;36mget_handle\u001b[0;34m(path_or_buf, mode, encoding, compression, memory_map, is_text, errors, storage_options)\u001b[0m\n\u001b[1;32m    700\u001b[0m         \u001b[0;32mif\u001b[0m \u001b[0mioargs\u001b[0m\u001b[0;34m.\u001b[0m\u001b[0mencoding\u001b[0m \u001b[0;32mand\u001b[0m \u001b[0;34m\"b\"\u001b[0m \u001b[0;32mnot\u001b[0m \u001b[0;32min\u001b[0m \u001b[0mioargs\u001b[0m\u001b[0;34m.\u001b[0m\u001b[0mmode\u001b[0m\u001b[0;34m:\u001b[0m\u001b[0;34m\u001b[0m\u001b[0;34m\u001b[0m\u001b[0m\n\u001b[1;32m    701\u001b[0m             \u001b[0;31m# Encoding\u001b[0m\u001b[0;34m\u001b[0m\u001b[0;34m\u001b[0m\u001b[0;34m\u001b[0m\u001b[0m\n\u001b[0;32m--> 702\u001b[0;31m             handle = open(\n\u001b[0m\u001b[1;32m    703\u001b[0m                 \u001b[0mhandle\u001b[0m\u001b[0;34m,\u001b[0m\u001b[0;34m\u001b[0m\u001b[0;34m\u001b[0m\u001b[0m\n\u001b[1;32m    704\u001b[0m                 \u001b[0mioargs\u001b[0m\u001b[0;34m.\u001b[0m\u001b[0mmode\u001b[0m\u001b[0;34m,\u001b[0m\u001b[0;34m\u001b[0m\u001b[0;34m\u001b[0m\u001b[0m\n",
      "\u001b[0;31mFileNotFoundError\u001b[0m: [Errno 2] No such file or directory: './results/df_clarifai.csv'"
     ]
    }
   ],
   "metadata": {}
  },
  {
   "cell_type": "markdown",
   "source": [
    "## DeepAI API"
   ],
   "metadata": {}
  },
  {
   "cell_type": "code",
   "execution_count": 10,
   "source": [
    "def deep_ai_api(path):\n",
    "    deep_ai_request = requests.post(\n",
    "        'https://api.deepai.org/api/content-moderation',\n",
    "        files={\n",
    "            'image': open(path, 'rb'),\n",
    "        },\n",
    "        headers={'api-key': api_keys.DEEPAI_API_KEY}\n",
    "    )\n",
    "    # print(deep_ai_request.json())\n",
    "    nsfw_score = deep_ai_request.json()['output']['nsfw_score']\n",
    "#    print('Image: {}, nsfw_score: {:.2f}'.format(path, nsfw_score))\n",
    "    return nsfw_score"
   ],
   "outputs": [],
   "metadata": {}
  },
  {
   "cell_type": "code",
   "execution_count": 11,
   "source": [
    "df_deepai = df.copy()\n",
    "\n",
    "tqdm.pandas()\n",
    "df_deepai['pred_da_value'] = df_deepai['img'].progress_apply(deep_ai_api)"
   ],
   "outputs": [
    {
     "output_type": "display_data",
     "data": {
      "application/vnd.jupyter.widget-view+json": {
       "version_major": 2,
       "version_minor": 0,
       "model_id": "f157f55f639c4a6a8008d41891cb12b2"
      },
      "text/plain": [
       "  0%|          | 0/5000 [00:00<?, ?it/s]"
      ]
     },
     "metadata": {}
    }
   ],
   "metadata": {}
  },
  {
   "cell_type": "code",
   "execution_count": 12,
   "source": [
    "df_deepai.to_csv('./results/df_deepai.csv')\n",
    "print(df_deepai)"
   ],
   "outputs": [
    {
     "output_type": "stream",
     "name": "stdout",
     "text": [
      "        id                                           img  label  pred_da_value\n",
      "0     1031  ./annot_2000_no_politics/EzVXJPlVgAQOich.jpg      0       0.015985\n",
      "1      661         ./annot_3000_hate/EtO03ozUUAA8OPx.jpg      0       0.024578\n",
      "2      886  ./annot_2000_no_politics/EVXX4kGX0AAeG-u.jpg      0       0.000871\n",
      "3      378         ./annot_3000_hate/EUkr_PrUwAAgFTy.jpg      0       0.001544\n",
      "4     1288         ./annot_3000_hate/EecEF9eX0AAZ1Un.jpg      0       0.697362\n",
      "...    ...                                           ...    ...            ...\n",
      "4995  2223         ./annot_3000_hate/Ee4mZF_VAAAUGRq.jpg      1       0.063505\n",
      "4996  2375         ./annot_3000_hate/Eyx-2k-VoAMDtTU.jpg      1       0.014567\n",
      "4997   901  ./annot_2000_no_politics/EemqXurWsAECWL4.jpg      1       0.006366\n",
      "4998  1126  ./annot_2000_no_politics/EV7jt3KXYAUCEJ7.jpg      0       0.001977\n",
      "4999   350  ./annot_2000_no_politics/EgH1jIwU8AAwlcl.jpg      0       0.001412\n",
      "\n",
      "[5000 rows x 4 columns]\n"
     ]
    }
   ],
   "metadata": {}
  },
  {
   "cell_type": "code",
   "execution_count": 13,
   "source": [
    "print('Classification Report for DeepAI API:')\n",
    "df_deepai = pd.read_csv('./results/df_deepai.csv')\n",
    "df_deepai['pred_da'] = df_deepai['pred_da_value'].apply(lambda x: 1 if x >= 0.5 else 0 )\n",
    "target_names = ['safe', 'not-safe']\n",
    "print(metrics.classification_report(df_deepai['label'], df_deepai['pred_da'], target_names=target_names, digits=4))"
   ],
   "outputs": [
    {
     "output_type": "stream",
     "name": "stdout",
     "text": [
      "Classification Report for DeepAI API:\n",
      "              precision    recall  f1-score   support\n",
      "\n",
      "        safe     0.7319    0.9932    0.8428      3659\n",
      "    not-safe     0.2857    0.0075    0.0145      1341\n",
      "\n",
      "    accuracy                         0.7288      5000\n",
      "   macro avg     0.5088    0.5003    0.4286      5000\n",
      "weighted avg     0.6123    0.7288    0.6206      5000\n",
      "\n"
     ]
    }
   ],
   "metadata": {}
  },
  {
   "cell_type": "code",
   "execution_count": 38,
   "source": [
    "def deep_ai_api_object(path):\n",
    "    deep_ai_request = requests.post(\n",
    "        'https://api.deepai.org/api/content-moderation',\n",
    "        files={\n",
    "            'image': open(path, 'rb'),\n",
    "        },\n",
    "        headers={'api-key': api_keys.DEEPAI_API_KEY}\n",
    "    )\n",
    "    # print(deep_ai_request.json())\n",
    "    # print(deep_ai_request.json()['output']['detections'])\n",
    "    # print(len(deep_ai_request.json()['output']['detections']))\n",
    "    objects = len(deep_ai_request.json()['output']['detections'])\n",
    "\n",
    "    print('Image: {}, not-safe objects: {:>3}'.format(path, objects))\n",
    "    return objects"
   ],
   "outputs": [],
   "metadata": {}
  },
  {
   "cell_type": "code",
   "execution_count": 39,
   "source": [
    "df_deepai_objects = df.copy()\n",
    "df_deepai_objects['pred_da_value'] = df_deepai_objects['img'].apply(deep_ai_api_object)\n",
    "df_deepai_objects.to_csv('./results/df_deepai_objects.csv')\n",
    "print(df_deepai_objects)"
   ],
   "outputs": [
    {
     "output_type": "stream",
     "name": "stdout",
     "text": [
      "/img/92738.png, not-safe objects:   0\n",
      "Image: ./data/img/53027.png, not-safe objects:   0\n",
      "Image: ./data/img/27195.png, not-safe objects:   1\n",
      "Image: ./data/img/43910.png, not-safe objects:   0\n",
      "Image: ./data/img/05213.png, not-safe objects:   0\n",
      "Image: ./data/img/73945.png, not-safe objects:   0\n",
      "Image: ./data/img/56207.png, not-safe objects:   0\n",
      "Image: ./data/img/68459.png, not-safe objects:   0\n",
      "Image: ./data/img/63175.png, not-safe objects:   0\n",
      "Image: ./data/img/82945.png, not-safe objects:   1\n",
      "Image: ./data/img/34975.png, not-safe objects:   0\n",
      "Image: ./data/img/61973.png, not-safe objects:   0\n",
      "Image: ./data/img/16420.png, not-safe objects:   0\n",
      "Image: ./data/img/73069.png, not-safe objects:   0\n",
      "Image: ./data/img/47056.png, not-safe objects:   1\n",
      "Image: ./data/img/56428.png, not-safe objects:   0\n",
      "Image: ./data/img/54206.png, not-safe objects:   0\n",
      "Image: ./data/img/93172.png, not-safe objects:   0\n",
      "Image: ./data/img/56980.png, not-safe objects:   0\n",
      "Image: ./data/img/79615.png, not-safe objects:   1\n",
      "Image: ./data/img/38047.png, not-safe objects:   0\n",
      "Image: ./data/img/94560.png, not-safe objects:   0\n",
      "Image: ./data/img/96250.png, not-safe objects:   0\n",
      "Image: ./data/img/28951.png, not-safe objects:   0\n",
      "Image: ./data/img/27614.png, not-safe objects:   0\n",
      "Image: ./data/img/04857.png, not-safe objects:   0\n",
      "Image: ./data/img/79603.png, not-safe objects:   0\n",
      "Image: ./data/img/26985.png, not-safe objects:   0\n",
      "Image: ./data/img/14873.png, not-safe objects:   0\n",
      "Image: ./data/img/54893.png, not-safe objects:   0\n",
      "Image: ./data/img/48236.png, not-safe objects:   0\n",
      "Image: ./data/img/74908.png, not-safe objects:   1\n",
      "Image: ./data/img/96472.png, not-safe objects:   0\n",
      "Image: ./data/img/89430.png, not-safe objects:   0\n",
      "Image: ./data/img/76921.png, not-safe objects:   0\n",
      "Image: ./data/img/68409.png, not-safe objects:   0\n",
      "Image: ./data/img/16354.png, not-safe objects:   0\n",
      "Image: ./data/img/69548.png, not-safe objects:   0\n",
      "Image: ./data/img/01456.png, not-safe objects:   0\n",
      "Image: ./data/img/17950.png, not-safe objects:   0\n",
      "Image: ./data/img/76295.png, not-safe objects:   0\n",
      "Image: ./data/img/42580.png, not-safe objects:   0\n",
      "Image: ./data/img/96180.png, not-safe objects:   0\n",
      "Image: ./data/img/98701.png, not-safe objects:   0\n",
      "Image: ./data/img/15243.png, not-safe objects:   0\n",
      "Image: ./data/img/41058.png, not-safe objects:   0\n",
      "Image: ./data/img/62375.png, not-safe objects:   0\n",
      "Image: ./data/img/63507.png, not-safe objects:   0\n",
      "Image: ./data/img/31208.png, not-safe objects:   0\n",
      "Image: ./data/img/62319.png, not-safe objects:   0\n",
      "Image: ./data/img/68253.png, not-safe objects:   0\n",
      "Image: ./data/img/34687.png, not-safe objects:   0\n",
      "Image: ./data/img/34209.png, not-safe objects:   0\n",
      "Image: ./data/img/39827.png, not-safe objects:   0\n",
      "Image: ./data/img/46920.png, not-safe objects:   0\n",
      "Image: ./data/img/84273.png, not-safe objects:   0\n",
      "Image: ./data/img/39018.png, not-safe objects:   0\n",
      "Image: ./data/img/54780.png, not-safe objects:   0\n",
      "Image: ./data/img/69150.png, not-safe objects:   0\n",
      "Image: ./data/img/29843.png, not-safe objects:   0\n",
      "Image: ./data/img/19385.png, not-safe objects:   0\n",
      "Image: ./data/img/64510.png, not-safe objects:   0\n",
      "Image: ./data/img/47103.png, not-safe objects:   0\n",
      "Image: ./data/img/61038.png, not-safe objects:   0\n",
      "Image: ./data/img/71620.png, not-safe objects:   0\n",
      "Image: ./data/img/91602.png, not-safe objects:   0\n",
      "Image: ./data/img/30145.png, not-safe objects:   0\n",
      "Image: ./data/img/91756.png, not-safe objects:   0\n",
      "Image: ./data/img/63745.png, not-safe objects:   0\n",
      "Image: ./data/img/47162.png, not-safe objects:   1\n",
      "Image: ./data/img/59806.png, not-safe objects:   0\n",
      "Image: ./data/img/07135.png, not-safe objects:   0\n",
      "Image: ./data/img/35497.png, not-safe objects:   0\n",
      "Image: ./data/img/84362.png, not-safe objects:   0\n",
      "Image: ./data/img/84015.png, not-safe objects:   0\n",
      "Image: ./data/img/87251.png, not-safe objects:   0\n",
      "Image: ./data/img/82590.png, not-safe objects:   0\n",
      "Image: ./data/img/59738.png, not-safe objects:   0\n",
      "Image: ./data/img/35470.png, not-safe objects:   0\n",
      "Image: ./data/img/72061.png, not-safe objects:   0\n",
      "Image: ./data/img/03524.png, not-safe objects:   0\n",
      "Image: ./data/img/86170.png, not-safe objects:   0\n",
      "Image: ./data/img/50841.png, not-safe objects:   0\n",
      "Image: ./data/img/46087.png, not-safe objects:   0\n",
      "Image: ./data/img/42058.png, not-safe objects:   0\n",
      "Image: ./data/img/01967.png, not-safe objects:   0\n",
      "Image: ./data/img/54930.png, not-safe objects:   0\n",
      "Image: ./data/img/38076.png, not-safe objects:   0\n",
      "Image: ./data/img/38910.png, not-safe objects:   0\n",
      "Image: ./data/img/06723.png, not-safe objects:   0\n",
      "Image: ./data/img/02157.png, not-safe objects:   0\n",
      "Image: ./data/img/62948.png, not-safe objects:   0\n",
      "Image: ./data/img/21075.png, not-safe objects:   0\n",
      "Image: ./data/img/73601.png, not-safe objects:   0\n",
      "Image: ./data/img/32579.png, not-safe objects:   0\n",
      "Image: ./data/img/21567.png, not-safe objects:   0\n",
      "Image: ./data/img/01765.png, not-safe objects:   0\n",
      "Image: ./data/img/53172.png, not-safe objects:   0\n",
      "Image: ./data/img/32568.png, not-safe objects:   0\n",
      "Image: ./data/img/01742.png, not-safe objects:   0\n",
      "Image: ./data/img/56098.png, not-safe objects:   0\n",
      "Image: ./data/img/78612.png, not-safe objects:   0\n",
      "Image: ./data/img/34018.png, not-safe objects:   0\n",
      "Image: ./data/img/53609.png, not-safe objects:   0\n",
      "Image: ./data/img/89362.png, not-safe objects:   0\n",
      "Image: ./data/img/80426.png, not-safe objects:   0\n",
      "Image: ./data/img/83045.png, not-safe objects:   0\n",
      "Image: ./data/img/61503.png, not-safe objects:   0\n",
      "Image: ./data/img/41890.png, not-safe objects:   0\n",
      "Image: ./data/img/52091.png, not-safe objects:   0\n",
      "Image: ./data/img/24396.png, not-safe objects:   0\n",
      "Image: ./data/img/72168.png, not-safe objects:   0\n",
      "Image: ./data/img/85761.png, not-safe objects:   0\n",
      "Image: ./data/img/35719.png, not-safe objects:   0\n",
      "Image: ./data/img/90256.png, not-safe objects:   0\n",
      "Image: ./data/img/20984.png, not-safe objects:   4\n",
      "Image: ./data/img/95086.png, not-safe objects:   0\n",
      "Image: ./data/img/49028.png, not-safe objects:   0\n",
      "Image: ./data/img/18356.png, not-safe objects:   0\n",
      "Image: ./data/img/52634.png, not-safe objects:   0\n",
      "Image: ./data/img/80512.png, not-safe objects:   0\n",
      "Image: ./data/img/62703.png, not-safe objects:   0\n",
      "Image: ./data/img/95176.png, not-safe objects:   0\n",
      "Image: ./data/img/27384.png, not-safe objects:   0\n",
      "Image: ./data/img/82437.png, not-safe objects:   0\n",
      "Image: ./data/img/26943.png, not-safe objects:   0\n",
      "Image: ./data/img/09152.png, not-safe objects:   0\n",
      "Image: ./data/img/07429.png, not-safe objects:   2\n",
      "Image: ./data/img/75639.png, not-safe objects:   0\n",
      "Image: ./data/img/46812.png, not-safe objects:   0\n",
      "Image: ./data/img/63827.png, not-safe objects:   0\n",
      "Image: ./data/img/41276.png, not-safe objects:   0\n",
      "Image: ./data/img/56413.png, not-safe objects:   0\n",
      "Image: ./data/img/69512.png, not-safe objects:   0\n",
      "Image: ./data/img/43175.png, not-safe objects:   0\n",
      "Image: ./data/img/54129.png, not-safe objects:   0\n",
      "Image: ./data/img/23645.png, not-safe objects:   0\n",
      "Image: ./data/img/89425.png, not-safe objects:   0\n",
      "Image: ./data/img/16923.png, not-safe objects:   0\n",
      "Image: ./data/img/04769.png, not-safe objects:   1\n",
      "Image: ./data/img/69815.png, not-safe objects:   0\n",
      "Image: ./data/img/91468.png, not-safe objects:   0\n",
      "Image: ./data/img/52104.png, not-safe objects:   0\n",
      "Image: ./data/img/52031.png, not-safe objects:   0\n",
      "Image: ./data/img/08795.png, not-safe objects:   0\n",
      "Image: ./data/img/50317.png, not-safe objects:   0\n",
      "Image: ./data/img/73914.png, not-safe objects:   0\n",
      "Image: ./data/img/03197.png, not-safe objects:   0\n",
      "Image: ./data/img/49621.png, not-safe objects:   0\n",
      "Image: ./data/img/68530.png, not-safe objects:   1\n",
      "Image: ./data/img/98547.png, not-safe objects:   0\n",
      "Image: ./data/img/03519.png, not-safe objects:   0\n",
      "Image: ./data/img/43698.png, not-safe objects:   0\n",
      "Image: ./data/img/84756.png, not-safe objects:   0\n",
      "Image: ./data/img/93051.png, not-safe objects:   0\n",
      "Image: ./data/img/68257.png, not-safe objects:   0\n",
      "Image: ./data/img/12834.png, not-safe objects:   0\n",
      "Image: ./data/img/57208.png, not-safe objects:   0\n",
      "Image: ./data/img/26439.png, not-safe objects:   0\n",
      "Image: ./data/img/53769.png, not-safe objects:   0\n",
      "Image: ./data/img/28406.png, not-safe objects:   2\n",
      "Image: ./data/img/53418.png, not-safe objects:   0\n",
      "Image: ./data/img/10785.png, not-safe objects:   0\n",
      "Image: ./data/img/84302.png, not-safe objects:   0\n",
      "Image: ./data/img/76015.png, not-safe objects:   0\n",
      "Image: ./data/img/34189.png, not-safe objects:   0\n",
      "Image: ./data/img/52079.png, not-safe objects:   0\n",
      "Image: ./data/img/63987.png, not-safe objects:   0\n",
      "Image: ./data/img/73526.png, not-safe objects:   0\n",
      "Image: ./data/img/02145.png, not-safe objects:   0\n",
      "Image: ./data/img/84102.png, not-safe objects:   0\n",
      "Image: ./data/img/32981.png, not-safe objects:   0\n",
      "Image: ./data/img/73605.png, not-safe objects:   0\n",
      "Image: ./data/img/07382.png, not-safe objects:   0\n",
      "Image: ./data/img/64071.png, not-safe objects:   0\n",
      "Image: ./data/img/80912.png, not-safe objects:   0\n",
      "Image: ./data/img/84762.png, not-safe objects:   0\n",
      "Image: ./data/img/39076.png, not-safe objects:   0\n",
      "Image: ./data/img/85679.png, not-safe objects:   0\n",
      "Image: ./data/img/38095.png, not-safe objects:   0\n",
      "Image: ./data/img/52394.png, not-safe objects:   0\n",
      "Image: ./data/img/14865.png, not-safe objects:   0\n",
      "Image: ./data/img/54819.png, not-safe objects:   1\n",
      "Image: ./data/img/46082.png, not-safe objects:   0\n",
      "Image: ./data/img/73962.png, not-safe objects:   1\n",
      "Image: ./data/img/78462.png, not-safe objects:   0\n",
      "Image: ./data/img/49805.png, not-safe objects:   0\n",
      "Image: ./data/img/24098.png, not-safe objects:   0\n",
      "Image: ./data/img/67435.png, not-safe objects:   0\n",
      "Image: ./data/img/60893.png, not-safe objects:   0\n",
      "Image: ./data/img/93148.png, not-safe objects:   0\n",
      "Image: ./data/img/07351.png, not-safe objects:   0\n",
      "Image: ./data/img/16850.png, not-safe objects:   0\n",
      "Image: ./data/img/96312.png, not-safe objects:   0\n",
      "Image: ./data/img/86195.png, not-safe objects:   0\n",
      "Image: ./data/img/84162.png, not-safe objects:   0\n",
      "Image: ./data/img/12067.png, not-safe objects:   0\n",
      "Image: ./data/img/05938.png, not-safe objects:   0\n",
      "Image: ./data/img/43092.png, not-safe objects:   0\n",
      "Image: ./data/img/30148.png, not-safe objects:   0\n",
      "Image: ./data/img/12045.png, not-safe objects:   0\n",
      "Image: ./data/img/92068.png, not-safe objects:   0\n",
      "Image: ./data/img/73021.png, not-safe objects:   0\n",
      "Image: ./data/img/56241.png, not-safe objects:   0\n",
      "Image: ./data/img/28905.png, not-safe objects:   0\n",
      "Image: ./data/img/13750.png, not-safe objects:   0\n",
      "Image: ./data/img/06582.png, not-safe objects:   0\n",
      "Image: ./data/img/75142.png, not-safe objects:   0\n",
      "Image: ./data/img/56149.png, not-safe objects:   0\n",
      "Image: ./data/img/41796.png, not-safe objects:   0\n",
      "Image: ./data/img/31570.png, not-safe objects:   0\n",
      "Image: ./data/img/01726.png, not-safe objects:   0\n",
      "Image: ./data/img/23785.png, not-safe objects:   0\n",
      "Image: ./data/img/56473.png, not-safe objects:   0\n",
      "Image: ./data/img/62970.png, not-safe objects:   0\n",
      "Image: ./data/img/41035.png, not-safe objects:   0\n",
      "Image: ./data/img/10285.png, not-safe objects:   0\n",
      "Image: ./data/img/95604.png, not-safe objects:   0\n",
      "Image: ./data/img/68401.png, not-safe objects:   0\n",
      "Image: ./data/img/50984.png, not-safe objects:   0\n",
      "Image: ./data/img/17908.png, not-safe objects:   2\n",
      "Image: ./data/img/42631.png, not-safe objects:   0\n",
      "Image: ./data/img/61349.png, not-safe objects:   0\n",
      "Image: ./data/img/65093.png, not-safe objects:   0\n",
      "Image: ./data/img/86357.png, not-safe objects:   1\n",
      "Image: ./data/img/74965.png, not-safe objects:   0\n",
      "Image: ./data/img/75918.png, not-safe objects:   0\n",
      "Image: ./data/img/14975.png, not-safe objects:   0\n",
      "Image: ./data/img/92317.png, not-safe objects:   0\n",
      "Image: ./data/img/19536.png, not-safe objects:   0\n",
      "Image: ./data/img/90236.png, not-safe objects:   0\n",
      "Image: ./data/img/30642.png, not-safe objects:   0\n",
      "Image: ./data/img/59206.png, not-safe objects:   0\n",
      "Image: ./data/img/19075.png, not-safe objects:   0\n",
      "Image: ./data/img/79042.png, not-safe objects:   0\n",
      "Image: ./data/img/98720.png, not-safe objects:   0\n",
      "Image: ./data/img/02634.png, not-safe objects:   0\n",
      "Image: ./data/img/84107.png, not-safe objects:   1\n",
      "Image: ./data/img/07198.png, not-safe objects:   0\n",
      "Image: ./data/img/45702.png, not-safe objects:   0\n",
      "Image: ./data/img/46085.png, not-safe objects:   0\n",
      "Image: ./data/img/08451.png, not-safe objects:   0\n",
      "Image: ./data/img/73482.png, not-safe objects:   0\n",
      "Image: ./data/img/28017.png, not-safe objects:   0\n",
      "Image: ./data/img/02364.png, not-safe objects:   0\n",
      "Image: ./data/img/42538.png, not-safe objects:   1\n",
      "Image: ./data/img/47183.png, not-safe objects:   0\n",
      "Image: ./data/img/72904.png, not-safe objects:   0\n",
      "Image: ./data/img/90243.png, not-safe objects:   0\n",
      "Image: ./data/img/41382.png, not-safe objects:   0\n",
      "Image: ./data/img/78156.png, not-safe objects:   1\n",
      "Image: ./data/img/74250.png, not-safe objects:   0\n",
      "Image: ./data/img/97132.png, not-safe objects:   0\n",
      "Image: ./data/img/35840.png, not-safe objects:   0\n",
      "Image: ./data/img/78134.png, not-safe objects:   0\n",
      "Image: ./data/img/93620.png, not-safe objects:   0\n",
      "Image: ./data/img/57369.png, not-safe objects:   0\n",
      "Image: ./data/img/10362.png, not-safe objects:   0\n",
      "Image: ./data/img/36058.png, not-safe objects:   1\n",
      "Image: ./data/img/09467.png, not-safe objects:   0\n",
      "Image: ./data/img/60183.png, not-safe objects:   0\n",
      "Image: ./data/img/47263.png, not-safe objects:   0\n",
      "Image: ./data/img/18726.png, not-safe objects:   0\n",
      "Image: ./data/img/50379.png, not-safe objects:   0\n",
      "Image: ./data/img/06352.png, not-safe objects:   0\n",
      "Image: ./data/img/58093.png, not-safe objects:   0\n",
      "Image: ./data/img/19508.png, not-safe objects:   1\n",
      "Image: ./data/img/02783.png, not-safe objects:   0\n",
      "Image: ./data/img/41728.png, not-safe objects:   0\n",
      "Image: ./data/img/51306.png, not-safe objects:   0\n",
      "Image: ./data/img/50241.png, not-safe objects:   1\n",
      "Image: ./data/img/49650.png, not-safe objects:   0\n",
      "Image: ./data/img/17045.png, not-safe objects:   0\n",
      "Image: ./data/img/89536.png, not-safe objects:   0\n",
      "Image: ./data/img/26187.png, not-safe objects:   0\n",
      "Image: ./data/img/74906.png, not-safe objects:   0\n",
      "Image: ./data/img/28190.png, not-safe objects:   0\n",
      "Image: ./data/img/89642.png, not-safe objects:   0\n",
      "Image: ./data/img/59170.png, not-safe objects:   0\n",
      "Image: ./data/img/30927.png, not-safe objects:   0\n",
      "Image: ./data/img/32049.png, not-safe objects:   0\n",
      "Image: ./data/img/95173.png, not-safe objects:   0\n",
      "Image: ./data/img/50198.png, not-safe objects:   0\n",
      "Image: ./data/img/37658.png, not-safe objects:   0\n",
      "Image: ./data/img/95613.png, not-safe objects:   0\n",
      "Image: ./data/img/43805.png, not-safe objects:   0\n",
      "Image: ./data/img/18306.png, not-safe objects:   0\n",
      "Image: ./data/img/46518.png, not-safe objects:   0\n",
      "Image: ./data/img/18547.png, not-safe objects:   0\n",
      "Image: ./data/img/02518.png, not-safe objects:   0\n",
      "Image: ./data/img/04621.png, not-safe objects:   0\n",
      "Image: ./data/img/98543.png, not-safe objects:   0\n",
      "Image: ./data/img/85621.png, not-safe objects:   0\n",
      "Image: ./data/img/18367.png, not-safe objects:   0\n",
      "Image: ./data/img/84036.png, not-safe objects:   0\n",
      "Image: ./data/img/86417.png, not-safe objects:   0\n",
      "Image: ./data/img/92567.png, not-safe objects:   0\n",
      "Image: ./data/img/63921.png, not-safe objects:   0\n",
      "Image: ./data/img/72864.png, not-safe objects:   0\n",
      "Image: ./data/img/30586.png, not-safe objects:   0\n",
      "Image: ./data/img/83264.png, not-safe objects:   0\n",
      "Image: ./data/img/93041.png, not-safe objects:   0\n",
      "Image: ./data/img/97305.png, not-safe objects:   0\n",
      "Image: ./data/img/03568.png, not-safe objects:   0\n",
      "Image: ./data/img/07653.png, not-safe objects:   0\n",
      "Image: ./data/img/26397.png, not-safe objects:   0\n",
      "Image: ./data/img/03217.png, not-safe objects:   0\n",
      "Image: ./data/img/40618.png, not-safe objects:   0\n",
      "Image: ./data/img/67208.png, not-safe objects:   0\n",
      "Image: ./data/img/03798.png, not-safe objects:   0\n",
      "Image: ./data/img/12468.png, not-safe objects:   0\n",
      "Image: ./data/img/16842.png, not-safe objects:   0\n",
      "Image: ./data/img/68043.png, not-safe objects:   0\n",
      "Image: ./data/img/51807.png, not-safe objects:   0\n",
      "Image: ./data/img/78914.png, not-safe objects:   0\n",
      "Image: ./data/img/47950.png, not-safe objects:   0\n",
      "Image: ./data/img/95487.png, not-safe objects:   0\n",
      "Image: ./data/img/49260.png, not-safe objects:   0\n",
      "Image: ./data/img/20861.png, not-safe objects:   0\n",
      "Image: ./data/img/38914.png, not-safe objects:   0\n",
      "Image: ./data/img/47016.png, not-safe objects:   0\n",
      "Image: ./data/img/14389.png, not-safe objects:   0\n",
      "Image: ./data/img/35487.png, not-safe objects:   0\n",
      "Image: ./data/img/84150.png, not-safe objects:   1\n",
      "Image: ./data/img/13809.png, not-safe objects:   0\n",
      "Image: ./data/img/50261.png, not-safe objects:   0\n",
      "Image: ./data/img/75286.png, not-safe objects:   2\n",
      "Image: ./data/img/64312.png, not-safe objects:   0\n",
      "Image: ./data/img/67103.png, not-safe objects:   0\n",
      "Image: ./data/img/18059.png, not-safe objects:   0\n",
      "Image: ./data/img/90643.png, not-safe objects:   0\n",
      "Image: ./data/img/16749.png, not-safe objects:   0\n",
      "Image: ./data/img/37814.png, not-safe objects:   0\n",
      "Image: ./data/img/92046.png, not-safe objects:   0\n",
      "Image: ./data/img/90843.png, not-safe objects:   0\n",
      "Image: ./data/img/85237.png, not-safe objects:   0\n",
      "Image: ./data/img/98235.png, not-safe objects:   0\n",
      "Image: ./data/img/90267.png, not-safe objects:   0\n",
      "Image: ./data/img/48296.png, not-safe objects:   0\n",
      "Image: ./data/img/29174.png, not-safe objects:   0\n",
      "Image: ./data/img/65801.png, not-safe objects:   0\n",
      "Image: ./data/img/91763.png, not-safe objects:   0\n",
      "Image: ./data/img/94387.png, not-safe objects:   0\n",
      "Image: ./data/img/80947.png, not-safe objects:   0\n",
      "Image: ./data/img/78251.png, not-safe objects:   0\n",
      "Image: ./data/img/94738.png, not-safe objects:   0\n",
      "Image: ./data/img/57823.png, not-safe objects:   0\n",
      "Image: ./data/img/32415.png, not-safe objects:   0\n",
      "Image: ./data/img/05316.png, not-safe objects:   0\n",
      "Image: ./data/img/61085.png, not-safe objects:   0\n",
      "Image: ./data/img/27498.png, not-safe objects:   1\n",
      "Image: ./data/img/37160.png, not-safe objects:   0\n",
      "Image: ./data/img/18742.png, not-safe objects:   0\n",
      "Image: ./data/img/19243.png, not-safe objects:   0\n",
      "Image: ./data/img/54108.png, not-safe objects:   0\n",
      "Image: ./data/img/93528.png, not-safe objects:   0\n",
      "Image: ./data/img/78659.png, not-safe objects:   0\n",
      "Image: ./data/img/67082.png, not-safe objects:   0\n",
      "Image: ./data/img/64125.png, not-safe objects:   1\n",
      "Image: ./data/img/41296.png, not-safe objects:   0\n",
      "Image: ./data/img/53491.png, not-safe objects:   0\n",
      "Image: ./data/img/37692.png, not-safe objects:   0\n",
      "Image: ./data/img/36201.png, not-safe objects:   0\n",
      "Image: ./data/img/29054.png, not-safe objects:   0\n",
      "Image: ./data/img/06273.png, not-safe objects:   0\n",
      "Image: ./data/img/25061.png, not-safe objects:   0\n",
      "Image: ./data/img/20437.png, not-safe objects:   0\n",
      "Image: ./data/img/05439.png, not-safe objects:   0\n",
      "Image: ./data/img/34528.png, not-safe objects:   2\n",
      "Image: ./data/img/93541.png, not-safe objects:   0\n",
      "Image: ./data/img/16704.png, not-safe objects:   0\n",
      "Image: ./data/img/48792.png, not-safe objects:   0\n",
      "Image: ./data/img/07528.png, not-safe objects:   0\n",
      "Image: ./data/img/01268.png, not-safe objects:   0\n",
      "Image: ./data/img/83675.png, not-safe objects:   0\n",
      "Image: ./data/img/37198.png, not-safe objects:   0\n",
      "Image: ./data/img/48670.png, not-safe objects:   0\n",
      "Image: ./data/img/09863.png, not-safe objects:   0\n",
      "Image: ./data/img/97320.png, not-safe objects:   0\n",
      "        id                   img  label  pred_da_value\n",
      "0     8291  ./data/img/08291.png      1              0\n",
      "1    46971  ./data/img/46971.png      1              0\n",
      "2     3745  ./data/img/03745.png      1              0\n",
      "3    83745  ./data/img/83745.png      1              0\n",
      "4    80243  ./data/img/80243.png      1              0\n",
      "..     ...                   ...    ...            ...\n",
      "495  83675  ./data/img/83675.png      0              0\n",
      "496  37198  ./data/img/37198.png      0              0\n",
      "497  48670  ./data/img/48670.png      0              0\n",
      "498   9863  ./data/img/09863.png      0              0\n",
      "499  97320  ./data/img/97320.png      0              0\n",
      "\n",
      "[500 rows x 4 columns]\n"
     ]
    }
   ],
   "metadata": {
    "tags": [
     "outputPrepend"
    ]
   }
  },
  {
   "cell_type": "code",
   "execution_count": 8,
   "source": [
    "print('Classification Report for DeepAI API on Unsafe Content:')\n",
    "df_deepai_objects = pd.read_csv('./results/df_deepai_objects.csv')\n",
    "df_deepai_objects['pred_da'] = df_deepai_objects['pred_da_value'].apply(lambda x: 1 if x > 0 else 0 )\n",
    "target_names = ['safe', 'not-safe']\n",
    "print(metrics.classification_report(df_deepai_objects['label'], df_deepai_objects['pred_da'], target_names=target_names, digits=4))"
   ],
   "outputs": [
    {
     "output_type": "stream",
     "name": "stdout",
     "text": [
      "Classification Report for DeepAI API on Unsafe Content:\n",
      "              precision    recall  f1-score   support\n",
      "\n",
      "        safe     0.5075    0.9368    0.6583       253\n",
      "    not-safe     0.5152    0.0688    0.1214       247\n",
      "\n",
      "    accuracy                         0.5080       500\n",
      "   macro avg     0.5113    0.5028    0.3899       500\n",
      "weighted avg     0.5113    0.5080    0.3931       500\n",
      "\n"
     ]
    }
   ],
   "metadata": {}
  },
  {
   "cell_type": "markdown",
   "source": [
    "## Amazon Rekognition"
   ],
   "metadata": {}
  },
  {
   "cell_type": "code",
   "execution_count": 9,
   "source": [
    "import boto3\n"
   ],
   "outputs": [],
   "metadata": {}
  },
  {
   "cell_type": "code",
   "execution_count": 10,
   "source": [
    "def amz_reko_api_content(path):\n",
    "    with open(path, \"rb\") as f:\n",
    "        file_bytes = f.read()\n",
    "\n",
    "    client=boto3.client('rekognition')\n",
    "\n",
    "    response = client.detect_moderation_labels(Image={'Bytes': file_bytes})\n",
    "\n",
    "    if len(response['ModerationLabels']) == 0:\n",
    "        #print('Image: {}, SAFE'.format(path))\n",
    "        return 0\n",
    "\n",
    "    for item in response['ModerationLabels']:\n",
    "        if item['Name'] == 'Hate Symbols':\n",
    "            #print('Image: {}, Hateful'.format(path))\n",
    "            return 1\n",
    "\n",
    "    return 0"
   ],
   "outputs": [],
   "metadata": {}
  },
  {
   "cell_type": "code",
   "execution_count": 11,
   "source": [
    "df_amz_hateful = df.copy()\n",
    "\n",
    "tqdm.pandas()\n",
    "df_amz_hateful['pred_amz_value'] = df_amz_hateful['img'].progress_apply(amz_reko_api_content)\n",
    "df_amz_hateful.to_csv('./results/df_amz_hateful.csv')\n",
    "print(df_amz_hateful)"
   ],
   "outputs": [
    {
     "output_type": "display_data",
     "data": {
      "application/vnd.jupyter.widget-view+json": {
       "version_major": 2,
       "version_minor": 0,
       "model_id": "7ac3a1e9ed5544a4af914fce6ad5d90e"
      },
      "text/plain": [
       "  0%|          | 0/5000 [00:00<?, ?it/s]"
      ]
     },
     "metadata": {}
    },
    {
     "output_type": "stream",
     "name": "stdout",
     "text": [
      "        id                                           img  label  \\\n",
      "0     1770  ./annot_2000_no_politics/EeVg4ulU4AA8-W-.jpg      0   \n",
      "1     2629         ./annot_3000_hate/EWfB6o6VcAErZAx.jpg      1   \n",
      "2      719  ./annot_2000_no_politics/EVXYkh-WoAEkrf_.jpg      0   \n",
      "3     1503         ./annot_3000_hate/EoRblq-UUAEAz-y.jpg      0   \n",
      "4     1001         ./annot_3000_hate/EU2p99sU4AA58Xa.jpg      0   \n",
      "...    ...                                           ...    ...   \n",
      "4995   412         ./annot_3000_hate/EV6TFCTWAAAaNjD.jpg      0   \n",
      "4996  2507         ./annot_3000_hate/EU0sh5SU8AAOsbn.jpg      0   \n",
      "4997  1087  ./annot_2000_no_politics/EqOqshhXMAMdIup.jpg      0   \n",
      "4998  1653  ./annot_2000_no_politics/EfESdZeUcAAH1AK.jpg      0   \n",
      "4999  1451         ./annot_3000_hate/EgJk2qqXkAAg8YP.jpg      0   \n",
      "\n",
      "      pred_amz_value  \n",
      "0                  0  \n",
      "1                  0  \n",
      "2                  0  \n",
      "3                  0  \n",
      "4                  0  \n",
      "...              ...  \n",
      "4995               0  \n",
      "4996               0  \n",
      "4997               0  \n",
      "4998               0  \n",
      "4999               0  \n",
      "\n",
      "[5000 rows x 4 columns]\n"
     ]
    }
   ],
   "metadata": {}
  },
  {
   "cell_type": "code",
   "execution_count": 12,
   "source": [
    "print('Classification Report for Amazon Rekognition on Hate Content:')\n",
    "df_amz_hateful = pd.read_csv('./results/df_amz_hateful.csv')\n",
    "df_amz_hateful['pred_amz'] = df_amz_hateful['pred_amz_value'].apply(lambda x: 1 if x >= 0.5 else 0 )\n",
    "target_names = ['safe', 'hateful']\n",
    "print(metrics.classification_report(df_amz_hateful['label'], df_amz_hateful['pred_amz'], target_names=target_names, digits=4))"
   ],
   "outputs": [
    {
     "output_type": "stream",
     "name": "stdout",
     "text": [
      "Classification Report for Amazon Rekognition on Hate Content:\n",
      "              precision    recall  f1-score   support\n",
      "\n",
      "        safe     0.7331    0.9932    0.8435      3659\n",
      "     hateful     0.4186    0.0134    0.0260      1341\n",
      "\n",
      "    accuracy                         0.7304      5000\n",
      "   macro avg     0.5759    0.5033    0.4348      5000\n",
      "weighted avg     0.6488    0.7304    0.6243      5000\n",
      "\n"
     ]
    }
   ],
   "metadata": {}
  },
  {
   "cell_type": "markdown",
   "source": [
    "## Data Combination"
   ],
   "metadata": {}
  },
  {
   "cell_type": "code",
   "execution_count": 10,
   "source": [
    "df['pred_gv'] = df_google_2['pred_gv']\n",
    "df['pred_yh'] = df_yahoo['pred_yh']\n",
    "df['pred_cf'] = df_clarifai['pred_cf']\n",
    "df['pred_da'] = df_deepai['pred_da']\n",
    "df['pred_amz'] = df_amz['pred_amz']"
   ],
   "outputs": [],
   "metadata": {}
  },
  {
   "cell_type": "code",
   "execution_count": 11,
   "source": [
    "df['pred_total'] = df['pred_gv'] + df['pred_yh'] + df_clarifai['pred_cf'] + df_deepai['pred_da'] + df_amz['pred_amz']\n",
    "df"
   ],
   "outputs": [
    {
     "output_type": "execute_result",
     "data": {
      "text/html": [
       "<div>\n",
       "<style scoped>\n",
       "    .dataframe tbody tr th:only-of-type {\n",
       "        vertical-align: middle;\n",
       "    }\n",
       "\n",
       "    .dataframe tbody tr th {\n",
       "        vertical-align: top;\n",
       "    }\n",
       "\n",
       "    .dataframe thead th {\n",
       "        text-align: right;\n",
       "    }\n",
       "</style>\n",
       "<table border=\"1\" class=\"dataframe\">\n",
       "  <thead>\n",
       "    <tr style=\"text-align: right;\">\n",
       "      <th></th>\n",
       "      <th>id</th>\n",
       "      <th>img</th>\n",
       "      <th>label</th>\n",
       "      <th>pred_gv</th>\n",
       "      <th>pred_yh</th>\n",
       "      <th>pred_cf</th>\n",
       "      <th>pred_da</th>\n",
       "      <th>pred_amz</th>\n",
       "      <th>pred_total</th>\n",
       "    </tr>\n",
       "  </thead>\n",
       "  <tbody>\n",
       "    <tr>\n",
       "      <th>0</th>\n",
       "      <td>8291</td>\n",
       "      <td>./data/img/08291.png</td>\n",
       "      <td>1</td>\n",
       "      <td>0</td>\n",
       "      <td>0</td>\n",
       "      <td>0</td>\n",
       "      <td>0</td>\n",
       "      <td>0</td>\n",
       "      <td>0</td>\n",
       "    </tr>\n",
       "    <tr>\n",
       "      <th>1</th>\n",
       "      <td>46971</td>\n",
       "      <td>./data/img/46971.png</td>\n",
       "      <td>1</td>\n",
       "      <td>0</td>\n",
       "      <td>0</td>\n",
       "      <td>0</td>\n",
       "      <td>0</td>\n",
       "      <td>0</td>\n",
       "      <td>0</td>\n",
       "    </tr>\n",
       "    <tr>\n",
       "      <th>2</th>\n",
       "      <td>3745</td>\n",
       "      <td>./data/img/03745.png</td>\n",
       "      <td>1</td>\n",
       "      <td>0</td>\n",
       "      <td>0</td>\n",
       "      <td>0</td>\n",
       "      <td>0</td>\n",
       "      <td>0</td>\n",
       "      <td>0</td>\n",
       "    </tr>\n",
       "    <tr>\n",
       "      <th>3</th>\n",
       "      <td>83745</td>\n",
       "      <td>./data/img/83745.png</td>\n",
       "      <td>1</td>\n",
       "      <td>1</td>\n",
       "      <td>1</td>\n",
       "      <td>0</td>\n",
       "      <td>1</td>\n",
       "      <td>0</td>\n",
       "      <td>3</td>\n",
       "    </tr>\n",
       "    <tr>\n",
       "      <th>4</th>\n",
       "      <td>80243</td>\n",
       "      <td>./data/img/80243.png</td>\n",
       "      <td>1</td>\n",
       "      <td>0</td>\n",
       "      <td>0</td>\n",
       "      <td>0</td>\n",
       "      <td>0</td>\n",
       "      <td>0</td>\n",
       "      <td>0</td>\n",
       "    </tr>\n",
       "    <tr>\n",
       "      <th>...</th>\n",
       "      <td>...</td>\n",
       "      <td>...</td>\n",
       "      <td>...</td>\n",
       "      <td>...</td>\n",
       "      <td>...</td>\n",
       "      <td>...</td>\n",
       "      <td>...</td>\n",
       "      <td>...</td>\n",
       "      <td>...</td>\n",
       "    </tr>\n",
       "    <tr>\n",
       "      <th>495</th>\n",
       "      <td>83675</td>\n",
       "      <td>./data/img/83675.png</td>\n",
       "      <td>0</td>\n",
       "      <td>0</td>\n",
       "      <td>0</td>\n",
       "      <td>0</td>\n",
       "      <td>0</td>\n",
       "      <td>0</td>\n",
       "      <td>0</td>\n",
       "    </tr>\n",
       "    <tr>\n",
       "      <th>496</th>\n",
       "      <td>37198</td>\n",
       "      <td>./data/img/37198.png</td>\n",
       "      <td>0</td>\n",
       "      <td>0</td>\n",
       "      <td>0</td>\n",
       "      <td>0</td>\n",
       "      <td>0</td>\n",
       "      <td>0</td>\n",
       "      <td>0</td>\n",
       "    </tr>\n",
       "    <tr>\n",
       "      <th>497</th>\n",
       "      <td>48670</td>\n",
       "      <td>./data/img/48670.png</td>\n",
       "      <td>0</td>\n",
       "      <td>0</td>\n",
       "      <td>0</td>\n",
       "      <td>0</td>\n",
       "      <td>0</td>\n",
       "      <td>0</td>\n",
       "      <td>0</td>\n",
       "    </tr>\n",
       "    <tr>\n",
       "      <th>498</th>\n",
       "      <td>9863</td>\n",
       "      <td>./data/img/09863.png</td>\n",
       "      <td>0</td>\n",
       "      <td>0</td>\n",
       "      <td>0</td>\n",
       "      <td>0</td>\n",
       "      <td>0</td>\n",
       "      <td>0</td>\n",
       "      <td>0</td>\n",
       "    </tr>\n",
       "    <tr>\n",
       "      <th>499</th>\n",
       "      <td>97320</td>\n",
       "      <td>./data/img/97320.png</td>\n",
       "      <td>0</td>\n",
       "      <td>0</td>\n",
       "      <td>0</td>\n",
       "      <td>0</td>\n",
       "      <td>0</td>\n",
       "      <td>0</td>\n",
       "      <td>0</td>\n",
       "    </tr>\n",
       "  </tbody>\n",
       "</table>\n",
       "<p>500 rows × 9 columns</p>\n",
       "</div>"
      ],
      "text/plain": [
       "        id                   img  label  pred_gv  pred_yh  pred_cf  pred_da  \\\n",
       "0     8291  ./data/img/08291.png      1        0        0        0        0   \n",
       "1    46971  ./data/img/46971.png      1        0        0        0        0   \n",
       "2     3745  ./data/img/03745.png      1        0        0        0        0   \n",
       "3    83745  ./data/img/83745.png      1        1        1        0        1   \n",
       "4    80243  ./data/img/80243.png      1        0        0        0        0   \n",
       "..     ...                   ...    ...      ...      ...      ...      ...   \n",
       "495  83675  ./data/img/83675.png      0        0        0        0        0   \n",
       "496  37198  ./data/img/37198.png      0        0        0        0        0   \n",
       "497  48670  ./data/img/48670.png      0        0        0        0        0   \n",
       "498   9863  ./data/img/09863.png      0        0        0        0        0   \n",
       "499  97320  ./data/img/97320.png      0        0        0        0        0   \n",
       "\n",
       "     pred_amz  pred_total  \n",
       "0           0           0  \n",
       "1           0           0  \n",
       "2           0           0  \n",
       "3           0           3  \n",
       "4           0           0  \n",
       "..        ...         ...  \n",
       "495         0           0  \n",
       "496         0           0  \n",
       "497         0           0  \n",
       "498         0           0  \n",
       "499         0           0  \n",
       "\n",
       "[500 rows x 9 columns]"
      ]
     },
     "metadata": {},
     "execution_count": 11
    }
   ],
   "metadata": {}
  },
  {
   "cell_type": "code",
   "execution_count": 12,
   "source": [
    "df_pos = df[df.label.eq(1)]\n",
    "df_pos_rows = df_pos.shape[0]\n",
    "print(df_pos_rows)\n",
    "df_false_neg = df_pos[df_pos.pred_total.eq(0)]\n",
    "df_false_neg_rows = df_false_neg.shape[0]\n",
    "print(df_false_neg_rows)\n",
    "pass_rate = df_false_neg_rows / df_pos_rows\n",
    "print(pass_rate)"
   ],
   "outputs": [
    {
     "output_type": "stream",
     "name": "stdout",
     "text": [
      "247\n",
      "207\n",
      "0.8380566801619433\n"
     ]
    }
   ],
   "metadata": {}
  },
  {
   "cell_type": "code",
   "execution_count": 14,
   "source": [
    "import os\n",
    "from shutil import copyfile\n",
    "dst_path = './data/image_hateful_bypass/'\n",
    "for src_path in df_false_neg['img']:\n",
    "    filename = os.path.basename(src_path)\n",
    "    dst = os.path.join(dst_path, filename)\n",
    "    copyfile(src_path, dst)"
   ],
   "outputs": [],
   "metadata": {}
  },
  {
   "cell_type": "code",
   "execution_count": 15,
   "source": [
    "df_neg = df[df.label.eq(0)]\n",
    "df_neg_rows = df_neg.shape[0]\n",
    "print(df_neg_rows)\n",
    "df_false_pos = df_neg[df_neg.pred_total.gt(0)]\n",
    "df_false_pos_rows = df_false_pos.shape[0]\n",
    "print(df_false_pos_rows)\n",
    "false_rate = df_false_pos_rows / df_neg_rows\n",
    "print(false_rate)"
   ],
   "outputs": [
    {
     "output_type": "stream",
     "name": "stdout",
     "text": [
      "253\n",
      "37\n",
      "0.14624505928853754\n"
     ]
    }
   ],
   "metadata": {}
  },
  {
   "cell_type": "code",
   "execution_count": 16,
   "source": [
    "import os\n",
    "from shutil import copyfile\n",
    "dst_path = './data/image_nonhateful_mislabeled/'\n",
    "for src_path in df_false_pos['img']:\n",
    "    filename = os.path.basename(src_path)\n",
    "    dst = os.path.join(dst_path, filename)\n",
    "    copyfile(src_path, dst)"
   ],
   "outputs": [],
   "metadata": {}
  },
  {
   "cell_type": "code",
   "execution_count": null,
   "source": [],
   "outputs": [],
   "metadata": {}
  }
 ],
 "metadata": {
  "kernelspec": {
   "name": "python3",
   "display_name": "Python 3.8.5 64-bit ('py3': conda)"
  },
  "language_info": {
   "codemirror_mode": {
    "name": "ipython",
    "version": 3
   },
   "file_extension": ".py",
   "mimetype": "text/x-python",
   "name": "python",
   "nbconvert_exporter": "python",
   "pygments_lexer": "ipython3",
   "version": "3.8.5"
  },
  "toc": {
   "base_numbering": 1,
   "nav_menu": {},
   "number_sections": true,
   "sideBar": true,
   "skip_h1_title": false,
   "title_cell": "Table of Contents",
   "title_sidebar": "Contents",
   "toc_cell": false,
   "toc_position": {},
   "toc_section_display": true,
   "toc_window_display": false
  },
  "interpreter": {
   "hash": "f1e06f935804d74c0ad3a030b4b889d4499ff756cd1db4021ee6222c00109ba8"
  }
 },
 "nbformat": 4,
 "nbformat_minor": 2
}