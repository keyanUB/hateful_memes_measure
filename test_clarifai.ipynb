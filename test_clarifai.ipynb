{
 "cells": [
  {
   "cell_type": "code",
   "execution_count": 1,
   "id": "48ac4b68",
   "metadata": {
    "ExecuteTime": {
     "end_time": "2021-10-07T00:08:33.867126Z",
     "start_time": "2021-10-07T00:08:33.864218Z"
    },
    "scrolled": true
   },
   "outputs": [
    {
     "name": "stdout",
     "output_type": "stream",
     "text": [
      "env: GRPC_DEFAULT_SSL_ROOTS_FILE_PATH=/home/keyan/jupter/hateful_memes-main/roots.pem\n"
     ]
    }
   ],
   "source": [
    "%env GRPC_DEFAULT_SSL_ROOTS_FILE_PATH = /home/keyan/jupter/hateful_memes-main/roots.pem"
   ]
  },
  {
   "cell_type": "code",
   "execution_count": 2,
   "id": "8c6e1c74",
   "metadata": {
    "ExecuteTime": {
     "end_time": "2021-10-07T00:08:39.851570Z",
     "start_time": "2021-10-07T00:08:36.691439Z"
    },
    "scrolled": true
   },
   "outputs": [
    {
     "name": "stdout",
     "output_type": "stream",
     "text": [
      "        cake: 1.00\n",
      "       sweet: 0.99\n",
      "       cream: 0.99\n",
      "         pie: 0.99\n",
      "       sugar: 0.99\n",
      "   chocolate: 0.98\n",
      "   no person: 0.98\n",
      "   delicious: 0.98\n",
      "        food: 0.97\n",
      "      pastry: 0.97\n",
      "    slice of: 0.97\n",
      "    birthday: 0.96\n",
      "       slice: 0.96\n",
      "      sponge: 0.95\n",
      "      bakery: 0.95\n",
      "      creamy: 0.94\n",
      "  cheesecake: 0.94\n",
      "      baking: 0.93\n",
      "    bed slab: 0.93\n",
      "       torte: 0.92\n"
     ]
    }
   ],
   "source": [
    "import os\n",
    "from clarifai_grpc.channel.clarifai_channel import ClarifaiChannel\n",
    "from clarifai_grpc.grpc.api import service_pb2_grpc\n",
    "stub = service_pb2_grpc.V2Stub(ClarifaiChannel.get_grpc_channel())\n",
    "from clarifai_grpc.grpc.api import service_pb2, resources_pb2\n",
    "from clarifai_grpc.grpc.api.status import status_code_pb2\n",
    "\n",
    "# This is how you authenticate.\n",
    "metadata = (('authorization', f'Key 5d99c01ccaa44b44915d5d6cc45ec919'),)\n",
    "\n",
    "request = service_pb2.PostModelOutputsRequest(\n",
    "    # This is the model ID of a publicly available General model. You may use any other public or custom model ID.\n",
    "    model_id='aaa03c23b3724a16a56b629203edc62c',\n",
    "    inputs=[\n",
    "      resources_pb2.Input(data=resources_pb2.Data(image=resources_pb2.Image(url='https://upload.wikimedia.org/wikipedia/commons/0/04/Pound_layer_cake.jpg')))\n",
    "    ])\n",
    "response = stub.PostModelOutputs(request, metadata=metadata)\n",
    "\n",
    "if response.status.code != status_code_pb2.SUCCESS:\n",
    "    print(\"There was an error with your request!\")\n",
    "    print(\"\\tCode: {}\".format(response.outputs[0].status.code))\n",
    "    print(\"\\tDescription: {}\".format(response.outputs[0].status.description))\n",
    "    print(\"\\tDetails: {}\".format(response.outputs[0].status.details))\n",
    "    raise Exception(\"Request failed, status code: \" + str(response.status.code))\n",
    "\n",
    "for concept in response.outputs[0].data.concepts:\n",
    "    print('%12s: %.2f' % (concept.name, concept.value))"
   ]
  },
  {
   "cell_type": "code",
   "execution_count": null,
   "id": "665d3d2b",
   "metadata": {},
   "outputs": [],
   "source": []
  }
 ],
 "metadata": {
  "kernelspec": {
   "display_name": "Python [conda env:hate]",
   "language": "python",
   "name": "conda-env-hate-py"
  },
  "language_info": {
   "codemirror_mode": {
    "name": "ipython",
    "version": 3
   },
   "file_extension": ".py",
   "mimetype": "text/x-python",
   "name": "python",
   "nbconvert_exporter": "python",
   "pygments_lexer": "ipython3",
   "version": "3.8.11"
  },
  "toc": {
   "base_numbering": 1,
   "nav_menu": {},
   "number_sections": true,
   "sideBar": true,
   "skip_h1_title": false,
   "title_cell": "Table of Contents",
   "title_sidebar": "Contents",
   "toc_cell": false,
   "toc_position": {},
   "toc_section_display": true,
   "toc_window_display": false
  }
 },
 "nbformat": 4,
 "nbformat_minor": 5
}
